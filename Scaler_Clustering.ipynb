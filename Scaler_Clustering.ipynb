{
 "cells": [
  {
   "cell_type": "code",
   "execution_count": 1,
   "id": "74408057",
   "metadata": {
    "id": "74408057"
   },
   "outputs": [],
   "source": [
    "import pandas as pd\n",
    "import os\n",
    "import hashlib"
   ]
  },
  {
   "cell_type": "code",
   "execution_count": 8,
   "id": "fa3000bd",
   "metadata": {
    "colab": {
     "base_uri": "https://localhost:8080/",
     "height": 363
    },
    "id": "fa3000bd",
    "outputId": "0ab39e4e-462c-42dd-c249-6a238adadd64"
   },
   "outputs": [
    {
     "data": {
      "text/html": [
       "<div>\n",
       "<style scoped>\n",
       "    .dataframe tbody tr th:only-of-type {\n",
       "        vertical-align: middle;\n",
       "    }\n",
       "\n",
       "    .dataframe tbody tr th {\n",
       "        vertical-align: top;\n",
       "    }\n",
       "\n",
       "    .dataframe thead th {\n",
       "        text-align: right;\n",
       "    }\n",
       "</style>\n",
       "<table border=\"1\" class=\"dataframe\">\n",
       "  <thead>\n",
       "    <tr style=\"text-align: right;\">\n",
       "      <th></th>\n",
       "      <th>email</th>\n",
       "      <th>company</th>\n",
       "      <th>normalized_company_name</th>\n",
       "      <th>orgyear</th>\n",
       "      <th>ctc</th>\n",
       "      <th>job_position</th>\n",
       "      <th>ctc_updated_year</th>\n",
       "    </tr>\n",
       "  </thead>\n",
       "  <tbody>\n",
       "    <tr>\n",
       "      <th>24129</th>\n",
       "      <td>dipak.tandel96@gmail.com</td>\n",
       "      <td>Sify Technologies Limited.</td>\n",
       "      <td>Sify Technologies</td>\n",
       "      <td>2018.0</td>\n",
       "      <td>720000</td>\n",
       "      <td>NaN</td>\n",
       "      <td>2020.0</td>\n",
       "    </tr>\n",
       "    <tr>\n",
       "      <th>46038</th>\n",
       "      <td>dipak.tandel96@gmail.com</td>\n",
       "      <td>Sify Technologies Limited.</td>\n",
       "      <td>Sify Technologies</td>\n",
       "      <td>2018.0</td>\n",
       "      <td>720000</td>\n",
       "      <td>Support Engineer</td>\n",
       "      <td>2020.0</td>\n",
       "    </tr>\n",
       "    <tr>\n",
       "      <th>72415</th>\n",
       "      <td>dipak.tandel96@gmail.com</td>\n",
       "      <td>Sify Technologies Limited.</td>\n",
       "      <td>Sify Technologies</td>\n",
       "      <td>2018.0</td>\n",
       "      <td>720000</td>\n",
       "      <td>Other</td>\n",
       "      <td>2020.0</td>\n",
       "    </tr>\n",
       "    <tr>\n",
       "      <th>103145</th>\n",
       "      <td>dipak.tandel96@gmail.com</td>\n",
       "      <td>Sify Technologies Limited.</td>\n",
       "      <td>Sify Technologies</td>\n",
       "      <td>2018.0</td>\n",
       "      <td>720000</td>\n",
       "      <td>FullStack Engineer</td>\n",
       "      <td>2020.0</td>\n",
       "    </tr>\n",
       "    <tr>\n",
       "      <th>118076</th>\n",
       "      <td>dipak.tandel96@gmail.com</td>\n",
       "      <td>Sify Technologies Limited.</td>\n",
       "      <td>Sify Technologies</td>\n",
       "      <td>2018.0</td>\n",
       "      <td>720000</td>\n",
       "      <td>Data Analyst</td>\n",
       "      <td>2020.0</td>\n",
       "    </tr>\n",
       "    <tr>\n",
       "      <th>121825</th>\n",
       "      <td>dipak.tandel96@gmail.com</td>\n",
       "      <td>Sify Technologies Limited.</td>\n",
       "      <td>Sify Technologies</td>\n",
       "      <td>2018.0</td>\n",
       "      <td>660000</td>\n",
       "      <td>Other</td>\n",
       "      <td>2019.0</td>\n",
       "    </tr>\n",
       "    <tr>\n",
       "      <th>124840</th>\n",
       "      <td>dipak.tandel96@gmail.com</td>\n",
       "      <td>Sify Technologies Limited.</td>\n",
       "      <td>Sify Technologies</td>\n",
       "      <td>2018.0</td>\n",
       "      <td>660000</td>\n",
       "      <td>Support Engineer</td>\n",
       "      <td>2019.0</td>\n",
       "    </tr>\n",
       "    <tr>\n",
       "      <th>145021</th>\n",
       "      <td>dipak.tandel96@gmail.com</td>\n",
       "      <td>Sify Technologies Limited.</td>\n",
       "      <td>Sify Technologies</td>\n",
       "      <td>2018.0</td>\n",
       "      <td>660000</td>\n",
       "      <td>FullStack Engineer</td>\n",
       "      <td>2019.0</td>\n",
       "    </tr>\n",
       "    <tr>\n",
       "      <th>153402</th>\n",
       "      <td>dipak.tandel96@gmail.com</td>\n",
       "      <td>Sify Technologies Limited.</td>\n",
       "      <td>Sify Technologies</td>\n",
       "      <td>2018.0</td>\n",
       "      <td>660000</td>\n",
       "      <td>Devops Engineer</td>\n",
       "      <td>2019.0</td>\n",
       "    </tr>\n",
       "    <tr>\n",
       "      <th>160472</th>\n",
       "      <td>dipak.tandel96@gmail.com</td>\n",
       "      <td>Sify Technologies Limited.</td>\n",
       "      <td>Sify Technologies</td>\n",
       "      <td>2018.0</td>\n",
       "      <td>660000</td>\n",
       "      <td>NaN</td>\n",
       "      <td>2019.0</td>\n",
       "    </tr>\n",
       "  </tbody>\n",
       "</table>\n",
       "</div>"
      ],
      "text/plain": [
       "                           email                     company  \\\n",
       "24129   dipak.tandel96@gmail.com  Sify Technologies Limited.   \n",
       "46038   dipak.tandel96@gmail.com  Sify Technologies Limited.   \n",
       "72415   dipak.tandel96@gmail.com  Sify Technologies Limited.   \n",
       "103145  dipak.tandel96@gmail.com  Sify Technologies Limited.   \n",
       "118076  dipak.tandel96@gmail.com  Sify Technologies Limited.   \n",
       "121825  dipak.tandel96@gmail.com  Sify Technologies Limited.   \n",
       "124840  dipak.tandel96@gmail.com  Sify Technologies Limited.   \n",
       "145021  dipak.tandel96@gmail.com  Sify Technologies Limited.   \n",
       "153402  dipak.tandel96@gmail.com  Sify Technologies Limited.   \n",
       "160472  dipak.tandel96@gmail.com  Sify Technologies Limited.   \n",
       "\n",
       "       normalized_company_name  orgyear     ctc        job_position  \\\n",
       "24129        Sify Technologies   2018.0  720000                 NaN   \n",
       "46038        Sify Technologies   2018.0  720000    Support Engineer   \n",
       "72415        Sify Technologies   2018.0  720000               Other   \n",
       "103145       Sify Technologies   2018.0  720000  FullStack Engineer   \n",
       "118076       Sify Technologies   2018.0  720000        Data Analyst   \n",
       "121825       Sify Technologies   2018.0  660000               Other   \n",
       "124840       Sify Technologies   2018.0  660000    Support Engineer   \n",
       "145021       Sify Technologies   2018.0  660000  FullStack Engineer   \n",
       "153402       Sify Technologies   2018.0  660000     Devops Engineer   \n",
       "160472       Sify Technologies   2018.0  660000                 NaN   \n",
       "\n",
       "        ctc_updated_year  \n",
       "24129             2020.0  \n",
       "46038             2020.0  \n",
       "72415             2020.0  \n",
       "103145            2020.0  \n",
       "118076            2020.0  \n",
       "121825            2019.0  \n",
       "124840            2019.0  \n",
       "145021            2019.0  \n",
       "153402            2019.0  \n",
       "160472            2019.0  "
      ]
     },
     "execution_count": 8,
     "metadata": {},
     "output_type": "execute_result"
    }
   ],
   "source": [
    "df[df['email']=='dipak.tandel96@gmail.com']"
   ]
  },
  {
   "cell_type": "code",
   "execution_count": 9,
   "id": "46cf6c6a",
   "metadata": {
    "colab": {
     "base_uri": "https://localhost:8080/",
     "height": 520
    },
    "id": "46cf6c6a",
    "outputId": "e8944aef-5374-43dd-f3bf-5fd825fe3c87"
   },
   "outputs": [
    {
     "data": {
      "text/html": [
       "<div>\n",
       "<style scoped>\n",
       "    .dataframe tbody tr th:only-of-type {\n",
       "        vertical-align: middle;\n",
       "    }\n",
       "\n",
       "    .dataframe tbody tr th {\n",
       "        vertical-align: top;\n",
       "    }\n",
       "\n",
       "    .dataframe thead th {\n",
       "        text-align: right;\n",
       "    }\n",
       "</style>\n",
       "<table border=\"1\" class=\"dataframe\">\n",
       "  <thead>\n",
       "    <tr style=\"text-align: right;\">\n",
       "      <th></th>\n",
       "      <th>job_position</th>\n",
       "    </tr>\n",
       "  </thead>\n",
       "  <tbody>\n",
       "    <tr>\n",
       "      <th>Backend Engineer</th>\n",
       "      <td>28.413611</td>\n",
       "    </tr>\n",
       "    <tr>\n",
       "      <th>FullStack Engineer</th>\n",
       "      <td>16.130610</td>\n",
       "    </tr>\n",
       "    <tr>\n",
       "      <th>Other</th>\n",
       "      <td>11.786725</td>\n",
       "    </tr>\n",
       "    <tr>\n",
       "      <th>Frontend Engineer</th>\n",
       "      <td>6.799181</td>\n",
       "    </tr>\n",
       "    <tr>\n",
       "      <th>Engineering Leadership</th>\n",
       "      <td>4.480834</td>\n",
       "    </tr>\n",
       "    <tr>\n",
       "      <th>QA Engineer</th>\n",
       "      <td>4.296279</td>\n",
       "    </tr>\n",
       "    <tr>\n",
       "      <th>Data Scientist</th>\n",
       "      <td>3.501324</td>\n",
       "    </tr>\n",
       "    <tr>\n",
       "      <th>Android Engineer</th>\n",
       "      <td>3.496107</td>\n",
       "    </tr>\n",
       "    <tr>\n",
       "      <th>SDET</th>\n",
       "      <td>3.239165</td>\n",
       "    </tr>\n",
       "    <tr>\n",
       "      <th>Devops Engineer</th>\n",
       "      <td>3.008308</td>\n",
       "    </tr>\n",
       "    <tr>\n",
       "      <th>Support Engineer</th>\n",
       "      <td>2.349650</td>\n",
       "    </tr>\n",
       "    <tr>\n",
       "      <th>Data Analyst</th>\n",
       "      <td>1.897067</td>\n",
       "    </tr>\n",
       "    <tr>\n",
       "      <th>iOS Engineer</th>\n",
       "      <td>1.791420</td>\n",
       "    </tr>\n",
       "    <tr>\n",
       "      <th>Engineering Intern</th>\n",
       "      <td>1.756205</td>\n",
       "    </tr>\n",
       "    <tr>\n",
       "      <th>Product Designer</th>\n",
       "      <td>0.856908</td>\n",
       "    </tr>\n",
       "  </tbody>\n",
       "</table>\n",
       "</div>"
      ],
      "text/plain": [
       "                        job_position\n",
       "Backend Engineer           28.413611\n",
       "FullStack Engineer         16.130610\n",
       "Other                      11.786725\n",
       "Frontend Engineer           6.799181\n",
       "Engineering Leadership      4.480834\n",
       "QA Engineer                 4.296279\n",
       "Data Scientist              3.501324\n",
       "Android Engineer            3.496107\n",
       "SDET                        3.239165\n",
       "Devops Engineer             3.008308\n",
       "Support Engineer            2.349650\n",
       "Data Analyst                1.897067\n",
       "iOS Engineer                1.791420\n",
       "Engineering Intern          1.756205\n",
       "Product Designer            0.856908"
      ]
     },
     "execution_count": 9,
     "metadata": {},
     "output_type": "execute_result"
    }
   ],
   "source": [
    "pd.DataFrame(df.job_position.value_counts(normalize=True)*100)[0:15] # 94% is captured here "
   ]
  },
  {
   "cell_type": "markdown",
   "id": "9fda8b75",
   "metadata": {
    "id": "9fda8b75"
   },
   "source": [
    "# Hashing of email, Null Imputation & Dropping of unnecessary columns"
   ]
  },
  {
   "cell_type": "code",
   "execution_count": 10,
   "id": "8015ee6e",
   "metadata": {},
   "outputs": [],
   "source": [
    "# annonymise email\n",
    "# Apply hashing function to the column\n",
    "df['email_hash'] = df['email'].apply(\n",
    "    lambda x: \n",
    "        hashlib.sha256(x.encode()).hexdigest()\n",
    ")\n",
    "temp_cols=df.columns.tolist()\n",
    "new_cols=temp_cols[-1:] + temp_cols[:-1]\n",
    "df=df[new_cols]\n",
    "\n",
    "df.drop(columns='email',inplace=True)\n",
    "\n"
   ]
  },
  {
   "cell_type": "code",
   "execution_count": 11,
   "id": "42ecaa68",
   "metadata": {},
   "outputs": [],
   "source": [
    "#student analysis begings from here\n",
    "\n",
    "#do that step of getting rows agains 1 email -- value_counts()"
   ]
  },
  {
   "cell_type": "code",
   "execution_count": 12,
   "id": "47797a50",
   "metadata": {
    "id": "47797a50"
   },
   "outputs": [],
   "source": [
    "df.drop(columns=['normalized_company_name'],inplace=True)\n",
    "df.drop(columns=['email_hash'],inplace=True)\n",
    "#dropping email will create different records and there will be no confusion for clustering"
   ]
  },
  {
   "cell_type": "code",
   "execution_count": 13,
   "id": "cf0f18fb",
   "metadata": {
    "colab": {
     "base_uri": "https://localhost:8080/"
    },
    "id": "cf0f18fb",
    "outputId": "3427f036-3539-4725-a36a-0e817ba5b14b"
   },
   "outputs": [
    {
     "data": {
      "text/plain": [
       "company              0.825428\n",
       "orgyear              0.041561\n",
       "ctc                  0.000000\n",
       "job_position        25.894173\n",
       "ctc_updated_year     0.000000\n",
       "dtype: float64"
      ]
     },
     "execution_count": 13,
     "metadata": {},
     "output_type": "execute_result"
    }
   ],
   "source": [
    "df.isnull().sum()/len(df)*100"
   ]
  },
  {
   "cell_type": "code",
   "execution_count": 14,
   "id": "0cb2ba7f",
   "metadata": {
    "id": "0cb2ba7f"
   },
   "outputs": [
    {
     "data": {
      "text/plain": [
       "(188616, 5)"
      ]
     },
     "execution_count": 14,
     "metadata": {},
     "output_type": "execute_result"
    }
   ],
   "source": [
    "df.drop_duplicates(inplace=True)\n",
    "df.shape"
   ]
  },
  {
   "cell_type": "markdown",
   "id": "ccf2e4b6",
   "metadata": {
    "id": "ccf2e4b6"
   },
   "source": [
    "# Data Preprocessing\n",
    "### Removing special characters from company & Job Position"
   ]
  },
  {
   "cell_type": "code",
   "execution_count": 15,
   "id": "faa7d89c",
   "metadata": {
    "id": "faa7d89c"
   },
   "outputs": [],
   "source": [
    "import re\n",
    "def remove_special (string):\n",
    "    new_string=re.sub('[^A-Za-z0-9 ]+', '', string)\n",
    "    return new_string\n",
    "    "
   ]
  },
  {
   "cell_type": "code",
   "execution_count": 16,
   "id": "2f32d021",
   "metadata": {
    "colab": {
     "base_uri": "https://localhost:8080/",
     "height": 35
    },
    "id": "2f32d021",
    "outputId": "15fb4a92-e979-4bd7-acc6-97fa13c221c2"
   },
   "outputs": [
    {
     "data": {
      "text/plain": [
       "'Airtel X Labs'"
      ]
     },
     "execution_count": 16,
     "metadata": {},
     "output_type": "execute_result"
    }
   ],
   "source": [
    "#what happens here\n",
    "mystring='\\tAirtel X Labs'\n",
    "re.sub('[^A-Za-z0-9 ]+', '', mystring)"
   ]
  },
  {
   "cell_type": "code",
   "execution_count": 17,
   "id": "a1256b01",
   "metadata": {
    "colab": {
     "base_uri": "https://localhost:8080/"
    },
    "id": "a1256b01",
    "outputId": "ba7d5e50-3270-42e7-a300-5169ef161827"
   },
   "outputs": [
    {
     "data": {
      "text/plain": [
       "0                    deloitte india\n",
       "1         reliance infocomm limited\n",
       "2                     synctactic ai\n",
       "3                         tokopedia\n",
       "4                        rift group\n",
       "                    ...            \n",
       "206918                    apple inc\n",
       "206919                    upgradcom\n",
       "206920                     accolite\n",
       "206921               not applicable\n",
       "206922               morgan stanley\n",
       "Name: company, Length: 188616, dtype: object"
      ]
     },
     "execution_count": 17,
     "metadata": {},
     "output_type": "execute_result"
    }
   ],
   "source": [
    "df.company=df.company.apply(lambda x: remove_special(str(x)))\n",
    "df.company=df.company.apply(lambda x: x.lower())\n",
    "df.company=df.company.apply(lambda x: x.strip())\n",
    "df.company"
   ]
  },
  {
   "cell_type": "code",
   "execution_count": 18,
   "id": "9b848307",
   "metadata": {},
   "outputs": [
    {
     "data": {
      "text/plain": [
       "0                      other\n",
       "1         fullstack engineer\n",
       "2           backend engineer\n",
       "3           backend engineer\n",
       "4         fullstack engineer\n",
       "                 ...        \n",
       "206918                   nan\n",
       "206919                   nan\n",
       "206920                   nan\n",
       "206921                   nan\n",
       "206922                   nan\n",
       "Name: job_position, Length: 188616, dtype: object"
      ]
     },
     "execution_count": 18,
     "metadata": {},
     "output_type": "execute_result"
    }
   ],
   "source": [
    "df.job_position=df.job_position.apply(lambda x: remove_special(str(x)))\n",
    "df.job_position=df.job_position.apply(lambda x: x.lower())\n",
    "df.job_position=df.job_position.apply(lambda x: x.strip())\n",
    "df.job_position"
   ]
  },
  {
   "cell_type": "code",
   "execution_count": 19,
   "id": "a7852b9c",
   "metadata": {
    "id": "a7852b9c"
   },
   "outputs": [
    {
     "data": {
      "text/plain": [
       "(188261, 5)"
      ]
     },
     "execution_count": 19,
     "metadata": {},
     "output_type": "execute_result"
    }
   ],
   "source": [
    "df.drop_duplicates(inplace=True)\n",
    "df.shape"
   ]
  },
  {
   "cell_type": "markdown",
   "id": "167979e9",
   "metadata": {
    "id": "167979e9"
   },
   "source": [
    "### Filling Null values using Mean Target Inputation for Orgyear"
   ]
  },
  {
   "cell_type": "code",
   "execution_count": 20,
   "id": "9b700005",
   "metadata": {
    "id": "9b700005"
   },
   "outputs": [],
   "source": [
    "company_median_org_year=df.groupby('company')['orgyear'].median()"
   ]
  },
  {
   "cell_type": "code",
   "execution_count": 21,
   "id": "e0841662",
   "metadata": {
    "id": "e0841662"
   },
   "outputs": [],
   "source": [
    "import numpy as np\n",
    "def null_imputation(table, main_col, null_col):\n",
    "    if np.isnan(null_col):\n",
    "        return table[main_col]\n",
    "    else:\n",
    "        return null_col\n",
    "#can do knn imputation as well\n",
    "df['orgyear']=df.apply(lambda x: null_imputation(company_median_org_year,x['company'],x['orgyear'] ), axis=1)    "
   ]
  },
  {
   "cell_type": "code",
   "execution_count": 22,
   "id": "29a537fa",
   "metadata": {
    "colab": {
     "base_uri": "https://localhost:8080/"
    },
    "id": "29a537fa",
    "outputId": "4c1dceaa-44af-42b1-cc4a-c5fa332d57f3"
   },
   "outputs": [
    {
     "data": {
      "text/plain": [
       "26"
      ]
     },
     "execution_count": 22,
     "metadata": {},
     "output_type": "execute_result"
    }
   ],
   "source": [
    "len(df[df['orgyear'].isnull()])"
   ]
  },
  {
   "cell_type": "code",
   "execution_count": 23,
   "id": "4bc291cc",
   "metadata": {},
   "outputs": [],
   "source": [
    "df=df[~df['orgyear'].isnull()]"
   ]
  },
  {
   "cell_type": "code",
   "execution_count": 24,
   "id": "7b0bbe39",
   "metadata": {},
   "outputs": [
    {
     "data": {
      "text/plain": [
       "200.0         1\n",
       "208.0         1\n",
       "38.0          1\n",
       "2204.0        1\n",
       "1900.0        1\n",
       "          ...  \n",
       "2019.0    18578\n",
       "2015.0    19621\n",
       "2017.0    21324\n",
       "2016.0    21484\n",
       "2018.0    22175\n",
       "Name: orgyear, Length: 79, dtype: int64"
      ]
     },
     "execution_count": 24,
     "metadata": {},
     "output_type": "execute_result"
    }
   ],
   "source": [
    "#checking for outliers in orgyear\n",
    "df.orgyear.value_counts().sort_values(ascending=True)"
   ]
  },
  {
   "cell_type": "code",
   "execution_count": 25,
   "id": "611a90dd",
   "metadata": {},
   "outputs": [],
   "source": [
    "#removing outliers from orgyear using IQR\n",
    "\n",
    "q1=df.orgyear.quantile(0.25)\n",
    "q3=df.orgyear.quantile(0.75)\n",
    "iqr=q3-q1\n",
    "\n",
    "df=df.loc[(df.orgyear>=q1-1.5*iqr) & (df.orgyear<=q3+1.5*iqr)]\n",
    "\n",
    "\n",
    "#removing outliers from ctc using IQR\n",
    "\n",
    "q1=df.ctc.quantile(0.25)\n",
    "q3=df.ctc.quantile(0.75)\n",
    "iqr=q3-q1\n",
    "\n",
    "df=df.loc[(df.ctc>=q1-1.5*iqr) & (df.ctc<=q3+1.5*iqr)]"
   ]
  },
  {
   "cell_type": "code",
   "execution_count": 26,
   "id": "362ce39d",
   "metadata": {},
   "outputs": [
    {
     "data": {
      "text/plain": [
       "(169083, 5)"
      ]
     },
     "execution_count": 26,
     "metadata": {},
     "output_type": "execute_result"
    }
   ],
   "source": [
    "df.shape"
   ]
  },
  {
   "cell_type": "markdown",
   "id": "63ba7f07",
   "metadata": {},
   "source": [
    "## Masking companies having count less than 5"
   ]
  },
  {
   "cell_type": "code",
   "execution_count": 27,
   "id": "7c77ed02",
   "metadata": {},
   "outputs": [],
   "source": [
    "df=df.apply(lambda x: x.mask(x.map(x.value_counts())<=5,'Others') if x.name=='company' else x)"
   ]
  },
  {
   "cell_type": "code",
   "execution_count": 28,
   "id": "aab1bd7e",
   "metadata": {},
   "outputs": [
    {
     "data": {
      "text/plain": [
       "Others                       46864\n",
       "tata consultancy services     4111\n",
       "infosys                       2910\n",
       "amazon                        2227\n",
       "cognizant                     2116\n",
       "                             ...  \n",
       "infinx                           6\n",
       "paycraft                         6\n",
       "ashok leyland                    6\n",
       "bed bath  beyond                 6\n",
       "sumtotal systems                 6\n",
       "Name: company, Length: 2941, dtype: int64"
      ]
     },
     "execution_count": 28,
     "metadata": {},
     "output_type": "execute_result"
    }
   ],
   "source": [
    "df .company.value_counts()"
   ]
  },
  {
   "cell_type": "markdown",
   "id": "4487d460",
   "metadata": {
    "id": "4487d460"
   },
   "source": [
    "#### Creating Years of Experience Columns"
   ]
  },
  {
   "cell_type": "code",
   "execution_count": 29,
   "id": "8dcf55d7",
   "metadata": {
    "id": "8dcf55d7"
   },
   "outputs": [
    {
     "data": {
      "text/plain": [
       "(147166, 5)"
      ]
     },
     "execution_count": 29,
     "metadata": {},
     "output_type": "execute_result"
    }
   ],
   "source": [
    "df.drop_duplicates(inplace=True)\n",
    "df.shape"
   ]
  },
  {
   "cell_type": "code",
   "execution_count": 30,
   "id": "public-scotland",
   "metadata": {
    "id": "public-scotland"
   },
   "outputs": [],
   "source": [
    "#orgyear check\n",
    "df['orgyear'] = df.apply(lambda x: x['orgyear'] if x['orgyear'] <=\n",
    "                     2022 else 2022, axis=1)"
   ]
  },
  {
   "cell_type": "code",
   "execution_count": 31,
   "id": "ed1e1111",
   "metadata": {
    "id": "ed1e1111"
   },
   "outputs": [],
   "source": [
    "df['years_of_experience']=2022-df['orgyear']"
   ]
  },
  {
   "cell_type": "code",
   "execution_count": 32,
   "id": "141ee166",
   "metadata": {
    "colab": {
     "base_uri": "https://localhost:8080/"
    },
    "id": "141ee166",
    "outputId": "58d282f7-034b-4007-f8f5-bfcf01c28f05"
   },
   "outputs": [
    {
     "data": {
      "text/plain": [
       "(147127, 6)"
      ]
     },
     "execution_count": 32,
     "metadata": {},
     "output_type": "execute_result"
    }
   ],
   "source": [
    "df.drop_duplicates(inplace=True)\n",
    "df.shape"
   ]
  },
  {
   "cell_type": "code",
   "execution_count": 33,
   "id": "40f34347",
   "metadata": {
    "id": "40f34347"
   },
   "outputs": [],
   "source": [
    "df=df[~df['years_of_experience'].isnull()]"
   ]
  },
  {
   "cell_type": "code",
   "execution_count": 34,
   "id": "325f4832",
   "metadata": {
    "id": "325f4832"
   },
   "outputs": [],
   "source": [
    "#ctc_updated_year_check\n",
    "df['ctc_updated_year'] = df.apply(lambda x: x['orgyear'] if x['ctc_updated_year'] <\n",
    "                     x['orgyear'] else x['ctc_updated_year'], axis=1)"
   ]
  },
  {
   "cell_type": "code",
   "execution_count": 35,
   "id": "557ec8a2",
   "metadata": {
    "id": "557ec8a2"
   },
   "outputs": [],
   "source": [
    "#Filling null values with others\n",
    "df['job_position'] = df['job_position'].fillna('Others')\n",
    "df['company'] = df['company'].fillna('Others')"
   ]
  },
  {
   "cell_type": "code",
   "execution_count": 36,
   "id": "b3a69a44",
   "metadata": {},
   "outputs": [],
   "source": [
    "df.loc[df['job_position']=='nan','job_position']=np.nan"
   ]
  },
  {
   "cell_type": "code",
   "execution_count": 37,
   "id": "95ecf00c",
   "metadata": {
    "colab": {
     "base_uri": "https://localhost:8080/"
    },
    "id": "95ecf00c",
    "outputId": "f62c9dd0-4b57-4c03-e799-139fdbc54795"
   },
   "outputs": [
    {
     "data": {
      "text/plain": [
       "company                    0\n",
       "orgyear                    0\n",
       "ctc                        0\n",
       "job_position           33365\n",
       "ctc_updated_year           0\n",
       "years_of_experience        0\n",
       "dtype: int64"
      ]
     },
     "execution_count": 37,
     "metadata": {},
     "output_type": "execute_result"
    }
   ],
   "source": [
    "df.isnull().sum()"
   ]
  },
  {
   "cell_type": "code",
   "execution_count": 38,
   "id": "wLX4oiE1R148",
   "metadata": {
    "colab": {
     "base_uri": "https://localhost:8080/"
    },
    "id": "wLX4oiE1R148",
    "outputId": "417b84a7-4298-4399-bb96-c1b1c7e63b7c"
   },
   "outputs": [
    {
     "data": {
      "text/plain": [
       "(146077, 6)"
      ]
     },
     "execution_count": 38,
     "metadata": {},
     "output_type": "execute_result"
    }
   ],
   "source": [
    "df.drop_duplicates(inplace=True)\n",
    "df.shape"
   ]
  },
  {
   "cell_type": "code",
   "execution_count": 39,
   "id": "17a3e27c",
   "metadata": {},
   "outputs": [
    {
     "data": {
      "text/html": [
       "<div>\n",
       "<style scoped>\n",
       "    .dataframe tbody tr th:only-of-type {\n",
       "        vertical-align: middle;\n",
       "    }\n",
       "\n",
       "    .dataframe tbody tr th {\n",
       "        vertical-align: top;\n",
       "    }\n",
       "\n",
       "    .dataframe thead th {\n",
       "        text-align: right;\n",
       "    }\n",
       "</style>\n",
       "<table border=\"1\" class=\"dataframe\">\n",
       "  <thead>\n",
       "    <tr style=\"text-align: right;\">\n",
       "      <th></th>\n",
       "      <th>orgyear</th>\n",
       "      <th>ctc</th>\n",
       "      <th>ctc_updated_year</th>\n",
       "      <th>years_of_experience</th>\n",
       "    </tr>\n",
       "  </thead>\n",
       "  <tbody>\n",
       "    <tr>\n",
       "      <th>count</th>\n",
       "      <td>146077.000000</td>\n",
       "      <td>1.460770e+05</td>\n",
       "      <td>146077.000000</td>\n",
       "      <td>146077.000000</td>\n",
       "    </tr>\n",
       "    <tr>\n",
       "      <th>mean</th>\n",
       "      <td>2015.449869</td>\n",
       "      <td>1.129338e+06</td>\n",
       "      <td>2019.598349</td>\n",
       "      <td>6.550131</td>\n",
       "    </tr>\n",
       "    <tr>\n",
       "      <th>std</th>\n",
       "      <td>3.300423</td>\n",
       "      <td>7.440049e+05</td>\n",
       "      <td>1.339290</td>\n",
       "      <td>3.300423</td>\n",
       "    </tr>\n",
       "    <tr>\n",
       "      <th>min</th>\n",
       "      <td>2006.000000</td>\n",
       "      <td>2.000000e+00</td>\n",
       "      <td>2015.000000</td>\n",
       "      <td>0.000000</td>\n",
       "    </tr>\n",
       "    <tr>\n",
       "      <th>25%</th>\n",
       "      <td>2013.000000</td>\n",
       "      <td>5.700000e+05</td>\n",
       "      <td>2019.000000</td>\n",
       "      <td>4.000000</td>\n",
       "    </tr>\n",
       "    <tr>\n",
       "      <th>50%</th>\n",
       "      <td>2016.000000</td>\n",
       "      <td>9.600000e+05</td>\n",
       "      <td>2020.000000</td>\n",
       "      <td>6.000000</td>\n",
       "    </tr>\n",
       "    <tr>\n",
       "      <th>75%</th>\n",
       "      <td>2018.000000</td>\n",
       "      <td>1.560000e+06</td>\n",
       "      <td>2021.000000</td>\n",
       "      <td>9.000000</td>\n",
       "    </tr>\n",
       "    <tr>\n",
       "      <th>max</th>\n",
       "      <td>2022.000000</td>\n",
       "      <td>3.330000e+06</td>\n",
       "      <td>2022.000000</td>\n",
       "      <td>16.000000</td>\n",
       "    </tr>\n",
       "  </tbody>\n",
       "</table>\n",
       "</div>"
      ],
      "text/plain": [
       "             orgyear           ctc  ctc_updated_year  years_of_experience\n",
       "count  146077.000000  1.460770e+05     146077.000000        146077.000000\n",
       "mean     2015.449869  1.129338e+06       2019.598349             6.550131\n",
       "std         3.300423  7.440049e+05          1.339290             3.300423\n",
       "min      2006.000000  2.000000e+00       2015.000000             0.000000\n",
       "25%      2013.000000  5.700000e+05       2019.000000             4.000000\n",
       "50%      2016.000000  9.600000e+05       2020.000000             6.000000\n",
       "75%      2018.000000  1.560000e+06       2021.000000             9.000000\n",
       "max      2022.000000  3.330000e+06       2022.000000            16.000000"
      ]
     },
     "execution_count": 39,
     "metadata": {},
     "output_type": "execute_result"
    }
   ],
   "source": [
    "df.describe()"
   ]
  },
  {
   "cell_type": "code",
   "execution_count": 40,
   "id": "b20ba637",
   "metadata": {},
   "outputs": [],
   "source": [
    "#pd.DataFrame(df['job_position'].value_counts()).to_csv('scaler_job_positions.csv')"
   ]
  },
  {
   "cell_type": "markdown",
   "id": "a1de0e60",
   "metadata": {},
   "source": [
    "# Spell Check"
   ]
  },
  {
   "cell_type": "code",
   "execution_count": 41,
   "id": "4ffc0a01",
   "metadata": {},
   "outputs": [],
   "source": [
    "# find those words that may be misspelled\n",
    "#from spellchecker import SpellChecker\n",
    "\n",
    "#spell = SpellChecker()\n",
    "\n",
    "#misspelled = spell.unknown(list(df['company'].values)[:10])\n",
    "#dicter={}\n",
    "#for word in misspelled:\n",
    "    # Get the one `most likely` answer\n",
    "#    dicter[word]=spell.correction(word)\n",
    "    \n",
    "#print(dicter)\n",
    "\n"
   ]
  },
  {
   "cell_type": "code",
   "execution_count": 42,
   "id": "6e2dc952",
   "metadata": {},
   "outputs": [],
   "source": [
    "#merge the mapping with the original one\n",
    "job_map=pd.read_csv('scaler_job_positions_mapping VX.csv')"
   ]
  },
  {
   "cell_type": "code",
   "execution_count": 43,
   "id": "b5fb721f",
   "metadata": {},
   "outputs": [
    {
     "data": {
      "text/html": [
       "<div>\n",
       "<style scoped>\n",
       "    .dataframe tbody tr th:only-of-type {\n",
       "        vertical-align: middle;\n",
       "    }\n",
       "\n",
       "    .dataframe tbody tr th {\n",
       "        vertical-align: top;\n",
       "    }\n",
       "\n",
       "    .dataframe thead th {\n",
       "        text-align: right;\n",
       "    }\n",
       "</style>\n",
       "<table border=\"1\" class=\"dataframe\">\n",
       "  <thead>\n",
       "    <tr style=\"text-align: right;\">\n",
       "      <th></th>\n",
       "      <th>Original</th>\n",
       "      <th>New</th>\n",
       "    </tr>\n",
       "  </thead>\n",
       "  <tbody>\n",
       "    <tr>\n",
       "      <th>0</th>\n",
       "      <td>7</td>\n",
       "      <td>others</td>\n",
       "    </tr>\n",
       "    <tr>\n",
       "      <th>1</th>\n",
       "      <td>91</td>\n",
       "      <td>others</td>\n",
       "    </tr>\n",
       "    <tr>\n",
       "      <th>2</th>\n",
       "      <td>737</td>\n",
       "      <td>others</td>\n",
       "    </tr>\n",
       "    <tr>\n",
       "      <th>3</th>\n",
       "      <td>857628</td>\n",
       "      <td>others</td>\n",
       "    </tr>\n",
       "    <tr>\n",
       "      <th>4</th>\n",
       "      <td>896651</td>\n",
       "      <td>others</td>\n",
       "    </tr>\n",
       "    <tr>\n",
       "      <th>...</th>\n",
       "      <td>...</td>\n",
       "      <td>...</td>\n",
       "    </tr>\n",
       "    <tr>\n",
       "      <th>95</th>\n",
       "      <td>atm interface system</td>\n",
       "      <td>atm interface system</td>\n",
       "    </tr>\n",
       "    <tr>\n",
       "      <th>96</th>\n",
       "      <td>audit manager</td>\n",
       "      <td>audit manager</td>\n",
       "    </tr>\n",
       "    <tr>\n",
       "      <th>97</th>\n",
       "      <td>auditing</td>\n",
       "      <td>auditor</td>\n",
       "    </tr>\n",
       "    <tr>\n",
       "      <th>98</th>\n",
       "      <td>auditor</td>\n",
       "      <td>auditor</td>\n",
       "    </tr>\n",
       "    <tr>\n",
       "      <th>99</th>\n",
       "      <td>automation architect</td>\n",
       "      <td>automation architect</td>\n",
       "    </tr>\n",
       "  </tbody>\n",
       "</table>\n",
       "<p>100 rows × 2 columns</p>\n",
       "</div>"
      ],
      "text/plain": [
       "                Original                   New\n",
       "0                      7                others\n",
       "1                     91                others\n",
       "2                    737                others\n",
       "3                 857628                others\n",
       "4                 896651                others\n",
       "..                   ...                   ...\n",
       "95  atm interface system  atm interface system\n",
       "96         audit manager         audit manager\n",
       "97              auditing               auditor\n",
       "98               auditor               auditor\n",
       "99  automation architect  automation architect\n",
       "\n",
       "[100 rows x 2 columns]"
      ]
     },
     "execution_count": 43,
     "metadata": {},
     "output_type": "execute_result"
    }
   ],
   "source": [
    "job_map[:100]"
   ]
  },
  {
   "cell_type": "code",
   "execution_count": 44,
   "id": "aff0188d",
   "metadata": {},
   "outputs": [
    {
     "data": {
      "text/plain": [
       "(801, 2)"
      ]
     },
     "execution_count": 44,
     "metadata": {},
     "output_type": "execute_result"
    }
   ],
   "source": [
    "job_map.shape"
   ]
  },
  {
   "cell_type": "code",
   "execution_count": 45,
   "id": "014c3512",
   "metadata": {},
   "outputs": [],
   "source": [
    "job_map.drop_duplicates(inplace=True)"
   ]
  },
  {
   "cell_type": "code",
   "execution_count": 46,
   "id": "9d837072",
   "metadata": {},
   "outputs": [],
   "source": [
    "df=df.merge(job_map, left_on='job_position', right_on='Original', how='left')"
   ]
  },
  {
   "cell_type": "code",
   "execution_count": 47,
   "id": "b5d8698a",
   "metadata": {},
   "outputs": [
    {
     "data": {
      "text/plain": [
       "(146077, 8)"
      ]
     },
     "execution_count": 47,
     "metadata": {},
     "output_type": "execute_result"
    }
   ],
   "source": [
    "df.shape"
   ]
  },
  {
   "cell_type": "code",
   "execution_count": 48,
   "id": "fefd93a5",
   "metadata": {},
   "outputs": [
    {
     "data": {
      "text/plain": [
       "company                    0\n",
       "orgyear                    0\n",
       "ctc                        0\n",
       "job_position           32768\n",
       "ctc_updated_year           0\n",
       "years_of_experience        0\n",
       "Original               32821\n",
       "New                       53\n",
       "dtype: int64"
      ]
     },
     "execution_count": 48,
     "metadata": {},
     "output_type": "execute_result"
    }
   ],
   "source": [
    "df.isnull().sum()"
   ]
  },
  {
   "cell_type": "code",
   "execution_count": 49,
   "id": "210c4aad",
   "metadata": {},
   "outputs": [],
   "source": [
    "df.drop(columns=['job_position','Original'],inplace=True)\n",
    "df['job_position']=df['New']\n",
    "df.drop(columns=['New'],inplace=True)\n"
   ]
  },
  {
   "cell_type": "code",
   "execution_count": 50,
   "id": "a0bb3bbb",
   "metadata": {},
   "outputs": [
    {
     "data": {
      "text/plain": [
       "(140894, 6)"
      ]
     },
     "execution_count": 50,
     "metadata": {},
     "output_type": "execute_result"
    }
   ],
   "source": [
    "df.drop_duplicates(inplace=True)\n",
    "df.shape"
   ]
  },
  {
   "cell_type": "code",
   "execution_count": 51,
   "id": "e43eba45",
   "metadata": {},
   "outputs": [],
   "source": [
    "df=df[~(df['job_position'].isnull())]"
   ]
  },
  {
   "cell_type": "code",
   "execution_count": 52,
   "id": "0d638f0d",
   "metadata": {},
   "outputs": [
    {
     "data": {
      "text/plain": [
       "(140841, 6)"
      ]
     },
     "execution_count": 52,
     "metadata": {},
     "output_type": "execute_result"
    }
   ],
   "source": [
    "df.shape"
   ]
  },
  {
   "cell_type": "markdown",
   "id": "p_-4etQzlZoR",
   "metadata": {
    "id": "p_-4etQzlZoR"
   },
   "source": [
    "## Manual Clustering based on company, job position and years of experience"
   ]
  },
  {
   "cell_type": "code",
   "execution_count": 53,
   "id": "a002e6de",
   "metadata": {
    "id": "a002e6de",
    "scrolled": true
   },
   "outputs": [],
   "source": [
    "grouped_c_j_y=df.groupby(['years_of_experience','job_position','company'])['ctc'].describe()"
   ]
  },
  {
   "cell_type": "code",
   "execution_count": 54,
   "id": "62087e0a",
   "metadata": {
    "colab": {
     "base_uri": "https://localhost:8080/",
     "height": 455
    },
    "id": "62087e0a",
    "outputId": "9b361f3a-2b69-4ebf-ca53-5030b87c2579"
   },
   "outputs": [
    {
     "data": {
      "text/html": [
       "<div>\n",
       "<style scoped>\n",
       "    .dataframe tbody tr th:only-of-type {\n",
       "        vertical-align: middle;\n",
       "    }\n",
       "\n",
       "    .dataframe tbody tr th {\n",
       "        vertical-align: top;\n",
       "    }\n",
       "\n",
       "    .dataframe thead th {\n",
       "        text-align: right;\n",
       "    }\n",
       "</style>\n",
       "<table border=\"1\" class=\"dataframe\">\n",
       "  <thead>\n",
       "    <tr style=\"text-align: right;\">\n",
       "      <th></th>\n",
       "      <th></th>\n",
       "      <th></th>\n",
       "      <th>count</th>\n",
       "      <th>mean</th>\n",
       "      <th>std</th>\n",
       "      <th>min</th>\n",
       "      <th>25%</th>\n",
       "      <th>50%</th>\n",
       "      <th>75%</th>\n",
       "      <th>max</th>\n",
       "    </tr>\n",
       "    <tr>\n",
       "      <th>years_of_experience</th>\n",
       "      <th>job_position</th>\n",
       "      <th>company</th>\n",
       "      <th></th>\n",
       "      <th></th>\n",
       "      <th></th>\n",
       "      <th></th>\n",
       "      <th></th>\n",
       "      <th></th>\n",
       "      <th></th>\n",
       "      <th></th>\n",
       "    </tr>\n",
       "  </thead>\n",
       "  <tbody>\n",
       "    <tr>\n",
       "      <th rowspan=\"5\" valign=\"top\">0.0</th>\n",
       "      <th>analyst programmer</th>\n",
       "      <th>Others</th>\n",
       "      <td>1.0</td>\n",
       "      <td>360000.0</td>\n",
       "      <td>NaN</td>\n",
       "      <td>360000.0</td>\n",
       "      <td>360000.0</td>\n",
       "      <td>360000.0</td>\n",
       "      <td>360000.0</td>\n",
       "      <td>360000.0</td>\n",
       "    </tr>\n",
       "    <tr>\n",
       "      <th rowspan=\"4\" valign=\"top\">android engineer</th>\n",
       "      <th>Others</th>\n",
       "      <td>5.0</td>\n",
       "      <td>706000.0</td>\n",
       "      <td>4.417918e+05</td>\n",
       "      <td>100000.0</td>\n",
       "      <td>480000.0</td>\n",
       "      <td>700000.0</td>\n",
       "      <td>1050000.0</td>\n",
       "      <td>1200000.0</td>\n",
       "    </tr>\n",
       "    <tr>\n",
       "      <th>accenture</th>\n",
       "      <td>1.0</td>\n",
       "      <td>450000.0</td>\n",
       "      <td>NaN</td>\n",
       "      <td>450000.0</td>\n",
       "      <td>450000.0</td>\n",
       "      <td>450000.0</td>\n",
       "      <td>450000.0</td>\n",
       "      <td>450000.0</td>\n",
       "    </tr>\n",
       "    <tr>\n",
       "      <th>hike messenger</th>\n",
       "      <td>1.0</td>\n",
       "      <td>300000.0</td>\n",
       "      <td>NaN</td>\n",
       "      <td>300000.0</td>\n",
       "      <td>300000.0</td>\n",
       "      <td>300000.0</td>\n",
       "      <td>300000.0</td>\n",
       "      <td>300000.0</td>\n",
       "    </tr>\n",
       "    <tr>\n",
       "      <th>im  a student</th>\n",
       "      <td>2.0</td>\n",
       "      <td>1350000.0</td>\n",
       "      <td>1.626346e+06</td>\n",
       "      <td>200000.0</td>\n",
       "      <td>775000.0</td>\n",
       "      <td>1350000.0</td>\n",
       "      <td>1925000.0</td>\n",
       "      <td>2500000.0</td>\n",
       "    </tr>\n",
       "    <tr>\n",
       "      <th>...</th>\n",
       "      <th>...</th>\n",
       "      <th>...</th>\n",
       "      <td>...</td>\n",
       "      <td>...</td>\n",
       "      <td>...</td>\n",
       "      <td>...</td>\n",
       "      <td>...</td>\n",
       "      <td>...</td>\n",
       "      <td>...</td>\n",
       "      <td>...</td>\n",
       "    </tr>\n",
       "    <tr>\n",
       "      <th rowspan=\"5\" valign=\"top\">16.0</th>\n",
       "      <th rowspan=\"4\" valign=\"top\">support engineer</th>\n",
       "      <th>ocwen financial corporation  us</th>\n",
       "      <td>1.0</td>\n",
       "      <td>1500000.0</td>\n",
       "      <td>NaN</td>\n",
       "      <td>1500000.0</td>\n",
       "      <td>1500000.0</td>\n",
       "      <td>1500000.0</td>\n",
       "      <td>1500000.0</td>\n",
       "      <td>1500000.0</td>\n",
       "    </tr>\n",
       "    <tr>\n",
       "      <th>oracle</th>\n",
       "      <td>1.0</td>\n",
       "      <td>2600000.0</td>\n",
       "      <td>NaN</td>\n",
       "      <td>2600000.0</td>\n",
       "      <td>2600000.0</td>\n",
       "      <td>2600000.0</td>\n",
       "      <td>2600000.0</td>\n",
       "      <td>2600000.0</td>\n",
       "    </tr>\n",
       "    <tr>\n",
       "      <th>samsung research institute noida</th>\n",
       "      <td>1.0</td>\n",
       "      <td>1400000.0</td>\n",
       "      <td>NaN</td>\n",
       "      <td>1400000.0</td>\n",
       "      <td>1400000.0</td>\n",
       "      <td>1400000.0</td>\n",
       "      <td>1400000.0</td>\n",
       "      <td>1400000.0</td>\n",
       "    </tr>\n",
       "    <tr>\n",
       "      <th>tata consultancy services</th>\n",
       "      <td>1.0</td>\n",
       "      <td>1500000.0</td>\n",
       "      <td>NaN</td>\n",
       "      <td>1500000.0</td>\n",
       "      <td>1500000.0</td>\n",
       "      <td>1500000.0</td>\n",
       "      <td>1500000.0</td>\n",
       "      <td>1500000.0</td>\n",
       "    </tr>\n",
       "    <tr>\n",
       "      <th>team lead</th>\n",
       "      <th>persistent systems</th>\n",
       "      <td>1.0</td>\n",
       "      <td>1600000.0</td>\n",
       "      <td>NaN</td>\n",
       "      <td>1600000.0</td>\n",
       "      <td>1600000.0</td>\n",
       "      <td>1600000.0</td>\n",
       "      <td>1600000.0</td>\n",
       "      <td>1600000.0</td>\n",
       "    </tr>\n",
       "  </tbody>\n",
       "</table>\n",
       "<p>52629 rows × 8 columns</p>\n",
       "</div>"
      ],
      "text/plain": [
       "                                                                         count  \\\n",
       "years_of_experience job_position       company                                   \n",
       "0.0                 analyst programmer Others                              1.0   \n",
       "                    android engineer   Others                              5.0   \n",
       "                                       accenture                           1.0   \n",
       "                                       hike messenger                      1.0   \n",
       "                                       im  a student                       2.0   \n",
       "...                                                                        ...   \n",
       "16.0                support engineer   ocwen financial corporation  us     1.0   \n",
       "                                       oracle                              1.0   \n",
       "                                       samsung research institute noida    1.0   \n",
       "                                       tata consultancy services           1.0   \n",
       "                    team lead          persistent systems                  1.0   \n",
       "\n",
       "                                                                              mean  \\\n",
       "years_of_experience job_position       company                                       \n",
       "0.0                 analyst programmer Others                             360000.0   \n",
       "                    android engineer   Others                             706000.0   \n",
       "                                       accenture                          450000.0   \n",
       "                                       hike messenger                     300000.0   \n",
       "                                       im  a student                     1350000.0   \n",
       "...                                                                            ...   \n",
       "16.0                support engineer   ocwen financial corporation  us   1500000.0   \n",
       "                                       oracle                            2600000.0   \n",
       "                                       samsung research institute noida  1400000.0   \n",
       "                                       tata consultancy services         1500000.0   \n",
       "                    team lead          persistent systems                1600000.0   \n",
       "\n",
       "                                                                                  std  \\\n",
       "years_of_experience job_position       company                                          \n",
       "0.0                 analyst programmer Others                                     NaN   \n",
       "                    android engineer   Others                            4.417918e+05   \n",
       "                                       accenture                                  NaN   \n",
       "                                       hike messenger                             NaN   \n",
       "                                       im  a student                     1.626346e+06   \n",
       "...                                                                               ...   \n",
       "16.0                support engineer   ocwen financial corporation  us            NaN   \n",
       "                                       oracle                                     NaN   \n",
       "                                       samsung research institute noida           NaN   \n",
       "                                       tata consultancy services                  NaN   \n",
       "                    team lead          persistent systems                         NaN   \n",
       "\n",
       "                                                                               min  \\\n",
       "years_of_experience job_position       company                                       \n",
       "0.0                 analyst programmer Others                             360000.0   \n",
       "                    android engineer   Others                             100000.0   \n",
       "                                       accenture                          450000.0   \n",
       "                                       hike messenger                     300000.0   \n",
       "                                       im  a student                      200000.0   \n",
       "...                                                                            ...   \n",
       "16.0                support engineer   ocwen financial corporation  us   1500000.0   \n",
       "                                       oracle                            2600000.0   \n",
       "                                       samsung research institute noida  1400000.0   \n",
       "                                       tata consultancy services         1500000.0   \n",
       "                    team lead          persistent systems                1600000.0   \n",
       "\n",
       "                                                                               25%  \\\n",
       "years_of_experience job_position       company                                       \n",
       "0.0                 analyst programmer Others                             360000.0   \n",
       "                    android engineer   Others                             480000.0   \n",
       "                                       accenture                          450000.0   \n",
       "                                       hike messenger                     300000.0   \n",
       "                                       im  a student                      775000.0   \n",
       "...                                                                            ...   \n",
       "16.0                support engineer   ocwen financial corporation  us   1500000.0   \n",
       "                                       oracle                            2600000.0   \n",
       "                                       samsung research institute noida  1400000.0   \n",
       "                                       tata consultancy services         1500000.0   \n",
       "                    team lead          persistent systems                1600000.0   \n",
       "\n",
       "                                                                               50%  \\\n",
       "years_of_experience job_position       company                                       \n",
       "0.0                 analyst programmer Others                             360000.0   \n",
       "                    android engineer   Others                             700000.0   \n",
       "                                       accenture                          450000.0   \n",
       "                                       hike messenger                     300000.0   \n",
       "                                       im  a student                     1350000.0   \n",
       "...                                                                            ...   \n",
       "16.0                support engineer   ocwen financial corporation  us   1500000.0   \n",
       "                                       oracle                            2600000.0   \n",
       "                                       samsung research institute noida  1400000.0   \n",
       "                                       tata consultancy services         1500000.0   \n",
       "                    team lead          persistent systems                1600000.0   \n",
       "\n",
       "                                                                               75%  \\\n",
       "years_of_experience job_position       company                                       \n",
       "0.0                 analyst programmer Others                             360000.0   \n",
       "                    android engineer   Others                            1050000.0   \n",
       "                                       accenture                          450000.0   \n",
       "                                       hike messenger                     300000.0   \n",
       "                                       im  a student                     1925000.0   \n",
       "...                                                                            ...   \n",
       "16.0                support engineer   ocwen financial corporation  us   1500000.0   \n",
       "                                       oracle                            2600000.0   \n",
       "                                       samsung research institute noida  1400000.0   \n",
       "                                       tata consultancy services         1500000.0   \n",
       "                    team lead          persistent systems                1600000.0   \n",
       "\n",
       "                                                                               max  \n",
       "years_of_experience job_position       company                                      \n",
       "0.0                 analyst programmer Others                             360000.0  \n",
       "                    android engineer   Others                            1200000.0  \n",
       "                                       accenture                          450000.0  \n",
       "                                       hike messenger                     300000.0  \n",
       "                                       im  a student                     2500000.0  \n",
       "...                                                                            ...  \n",
       "16.0                support engineer   ocwen financial corporation  us   1500000.0  \n",
       "                                       oracle                            2600000.0  \n",
       "                                       samsung research institute noida  1400000.0  \n",
       "                                       tata consultancy services         1500000.0  \n",
       "                    team lead          persistent systems                1600000.0  \n",
       "\n",
       "[52629 rows x 8 columns]"
      ]
     },
     "execution_count": 54,
     "metadata": {},
     "output_type": "execute_result"
    }
   ],
   "source": [
    "grouped_c_j_y"
   ]
  },
  {
   "cell_type": "code",
   "execution_count": 55,
   "id": "14486789",
   "metadata": {
    "id": "14486789"
   },
   "outputs": [],
   "source": [
    "df_cjy=df.merge(grouped_c_j_y, on=['years_of_experience','job_position','company'], how='left')"
   ]
  },
  {
   "cell_type": "code",
   "execution_count": 56,
   "id": "9ea63fed",
   "metadata": {
    "colab": {
     "base_uri": "https://localhost:8080/",
     "height": 589
    },
    "id": "9ea63fed",
    "outputId": "3d2619e5-8c92-44ee-b8f3-52ff2eab95fb"
   },
   "outputs": [
    {
     "data": {
      "text/html": [
       "<div>\n",
       "<style scoped>\n",
       "    .dataframe tbody tr th:only-of-type {\n",
       "        vertical-align: middle;\n",
       "    }\n",
       "\n",
       "    .dataframe tbody tr th {\n",
       "        vertical-align: top;\n",
       "    }\n",
       "\n",
       "    .dataframe thead th {\n",
       "        text-align: right;\n",
       "    }\n",
       "</style>\n",
       "<table border=\"1\" class=\"dataframe\">\n",
       "  <thead>\n",
       "    <tr style=\"text-align: right;\">\n",
       "      <th></th>\n",
       "      <th>company</th>\n",
       "      <th>orgyear</th>\n",
       "      <th>ctc</th>\n",
       "      <th>ctc_updated_year</th>\n",
       "      <th>years_of_experience</th>\n",
       "      <th>job_position</th>\n",
       "      <th>count</th>\n",
       "      <th>mean</th>\n",
       "      <th>std</th>\n",
       "      <th>min</th>\n",
       "      <th>25%</th>\n",
       "      <th>50%</th>\n",
       "      <th>75%</th>\n",
       "      <th>max</th>\n",
       "    </tr>\n",
       "  </thead>\n",
       "  <tbody>\n",
       "    <tr>\n",
       "      <th>25585</th>\n",
       "      <td>Others</td>\n",
       "      <td>2022.0</td>\n",
       "      <td>360000</td>\n",
       "      <td>2022.0</td>\n",
       "      <td>0.0</td>\n",
       "      <td>analyst programmer</td>\n",
       "      <td>1.0</td>\n",
       "      <td>360000.0</td>\n",
       "      <td>NaN</td>\n",
       "      <td>360000.0</td>\n",
       "      <td>360000.0</td>\n",
       "      <td>360000.0</td>\n",
       "      <td>360000.0</td>\n",
       "      <td>360000.0</td>\n",
       "    </tr>\n",
       "    <tr>\n",
       "      <th>4395</th>\n",
       "      <td>Others</td>\n",
       "      <td>2022.0</td>\n",
       "      <td>480000</td>\n",
       "      <td>2022.0</td>\n",
       "      <td>0.0</td>\n",
       "      <td>android engineer</td>\n",
       "      <td>5.0</td>\n",
       "      <td>706000.0</td>\n",
       "      <td>441791.806171</td>\n",
       "      <td>100000.0</td>\n",
       "      <td>480000.0</td>\n",
       "      <td>700000.0</td>\n",
       "      <td>1050000.0</td>\n",
       "      <td>1200000.0</td>\n",
       "    </tr>\n",
       "    <tr>\n",
       "      <th>17016</th>\n",
       "      <td>Others</td>\n",
       "      <td>2022.0</td>\n",
       "      <td>1200000</td>\n",
       "      <td>2022.0</td>\n",
       "      <td>0.0</td>\n",
       "      <td>android engineer</td>\n",
       "      <td>5.0</td>\n",
       "      <td>706000.0</td>\n",
       "      <td>441791.806171</td>\n",
       "      <td>100000.0</td>\n",
       "      <td>480000.0</td>\n",
       "      <td>700000.0</td>\n",
       "      <td>1050000.0</td>\n",
       "      <td>1200000.0</td>\n",
       "    </tr>\n",
       "    <tr>\n",
       "      <th>30837</th>\n",
       "      <td>Others</td>\n",
       "      <td>2022.0</td>\n",
       "      <td>100000</td>\n",
       "      <td>2022.0</td>\n",
       "      <td>0.0</td>\n",
       "      <td>android engineer</td>\n",
       "      <td>5.0</td>\n",
       "      <td>706000.0</td>\n",
       "      <td>441791.806171</td>\n",
       "      <td>100000.0</td>\n",
       "      <td>480000.0</td>\n",
       "      <td>700000.0</td>\n",
       "      <td>1050000.0</td>\n",
       "      <td>1200000.0</td>\n",
       "    </tr>\n",
       "    <tr>\n",
       "      <th>104059</th>\n",
       "      <td>Others</td>\n",
       "      <td>2022.0</td>\n",
       "      <td>1050000</td>\n",
       "      <td>2022.0</td>\n",
       "      <td>0.0</td>\n",
       "      <td>android engineer</td>\n",
       "      <td>5.0</td>\n",
       "      <td>706000.0</td>\n",
       "      <td>441791.806171</td>\n",
       "      <td>100000.0</td>\n",
       "      <td>480000.0</td>\n",
       "      <td>700000.0</td>\n",
       "      <td>1050000.0</td>\n",
       "      <td>1200000.0</td>\n",
       "    </tr>\n",
       "    <tr>\n",
       "      <th>...</th>\n",
       "      <td>...</td>\n",
       "      <td>...</td>\n",
       "      <td>...</td>\n",
       "      <td>...</td>\n",
       "      <td>...</td>\n",
       "      <td>...</td>\n",
       "      <td>...</td>\n",
       "      <td>...</td>\n",
       "      <td>...</td>\n",
       "      <td>...</td>\n",
       "      <td>...</td>\n",
       "      <td>...</td>\n",
       "      <td>...</td>\n",
       "      <td>...</td>\n",
       "    </tr>\n",
       "    <tr>\n",
       "      <th>132005</th>\n",
       "      <td>ocwen financial corporation  us</td>\n",
       "      <td>2006.0</td>\n",
       "      <td>1500000</td>\n",
       "      <td>2021.0</td>\n",
       "      <td>16.0</td>\n",
       "      <td>support engineer</td>\n",
       "      <td>1.0</td>\n",
       "      <td>1500000.0</td>\n",
       "      <td>NaN</td>\n",
       "      <td>1500000.0</td>\n",
       "      <td>1500000.0</td>\n",
       "      <td>1500000.0</td>\n",
       "      <td>1500000.0</td>\n",
       "      <td>1500000.0</td>\n",
       "    </tr>\n",
       "    <tr>\n",
       "      <th>52888</th>\n",
       "      <td>oracle</td>\n",
       "      <td>2006.0</td>\n",
       "      <td>2600000</td>\n",
       "      <td>2021.0</td>\n",
       "      <td>16.0</td>\n",
       "      <td>support engineer</td>\n",
       "      <td>1.0</td>\n",
       "      <td>2600000.0</td>\n",
       "      <td>NaN</td>\n",
       "      <td>2600000.0</td>\n",
       "      <td>2600000.0</td>\n",
       "      <td>2600000.0</td>\n",
       "      <td>2600000.0</td>\n",
       "      <td>2600000.0</td>\n",
       "    </tr>\n",
       "    <tr>\n",
       "      <th>124794</th>\n",
       "      <td>samsung research institute noida</td>\n",
       "      <td>2006.0</td>\n",
       "      <td>1400000</td>\n",
       "      <td>2020.0</td>\n",
       "      <td>16.0</td>\n",
       "      <td>support engineer</td>\n",
       "      <td>1.0</td>\n",
       "      <td>1400000.0</td>\n",
       "      <td>NaN</td>\n",
       "      <td>1400000.0</td>\n",
       "      <td>1400000.0</td>\n",
       "      <td>1400000.0</td>\n",
       "      <td>1400000.0</td>\n",
       "      <td>1400000.0</td>\n",
       "    </tr>\n",
       "    <tr>\n",
       "      <th>35554</th>\n",
       "      <td>tata consultancy services</td>\n",
       "      <td>2006.0</td>\n",
       "      <td>1500000</td>\n",
       "      <td>2021.0</td>\n",
       "      <td>16.0</td>\n",
       "      <td>support engineer</td>\n",
       "      <td>1.0</td>\n",
       "      <td>1500000.0</td>\n",
       "      <td>NaN</td>\n",
       "      <td>1500000.0</td>\n",
       "      <td>1500000.0</td>\n",
       "      <td>1500000.0</td>\n",
       "      <td>1500000.0</td>\n",
       "      <td>1500000.0</td>\n",
       "    </tr>\n",
       "    <tr>\n",
       "      <th>57137</th>\n",
       "      <td>persistent systems</td>\n",
       "      <td>2006.0</td>\n",
       "      <td>1600000</td>\n",
       "      <td>2021.0</td>\n",
       "      <td>16.0</td>\n",
       "      <td>team lead</td>\n",
       "      <td>1.0</td>\n",
       "      <td>1600000.0</td>\n",
       "      <td>NaN</td>\n",
       "      <td>1600000.0</td>\n",
       "      <td>1600000.0</td>\n",
       "      <td>1600000.0</td>\n",
       "      <td>1600000.0</td>\n",
       "      <td>1600000.0</td>\n",
       "    </tr>\n",
       "  </tbody>\n",
       "</table>\n",
       "<p>140841 rows × 14 columns</p>\n",
       "</div>"
      ],
      "text/plain": [
       "                                 company  orgyear      ctc  ctc_updated_year  \\\n",
       "25585                             Others   2022.0   360000            2022.0   \n",
       "4395                              Others   2022.0   480000            2022.0   \n",
       "17016                             Others   2022.0  1200000            2022.0   \n",
       "30837                             Others   2022.0   100000            2022.0   \n",
       "104059                            Others   2022.0  1050000            2022.0   \n",
       "...                                  ...      ...      ...               ...   \n",
       "132005   ocwen financial corporation  us   2006.0  1500000            2021.0   \n",
       "52888                             oracle   2006.0  2600000            2021.0   \n",
       "124794  samsung research institute noida   2006.0  1400000            2020.0   \n",
       "35554          tata consultancy services   2006.0  1500000            2021.0   \n",
       "57137                 persistent systems   2006.0  1600000            2021.0   \n",
       "\n",
       "        years_of_experience        job_position  count       mean  \\\n",
       "25585                   0.0  analyst programmer    1.0   360000.0   \n",
       "4395                    0.0    android engineer    5.0   706000.0   \n",
       "17016                   0.0    android engineer    5.0   706000.0   \n",
       "30837                   0.0    android engineer    5.0   706000.0   \n",
       "104059                  0.0    android engineer    5.0   706000.0   \n",
       "...                     ...                 ...    ...        ...   \n",
       "132005                 16.0    support engineer    1.0  1500000.0   \n",
       "52888                  16.0    support engineer    1.0  2600000.0   \n",
       "124794                 16.0    support engineer    1.0  1400000.0   \n",
       "35554                  16.0    support engineer    1.0  1500000.0   \n",
       "57137                  16.0           team lead    1.0  1600000.0   \n",
       "\n",
       "                  std        min        25%        50%        75%        max  \n",
       "25585             NaN   360000.0   360000.0   360000.0   360000.0   360000.0  \n",
       "4395    441791.806171   100000.0   480000.0   700000.0  1050000.0  1200000.0  \n",
       "17016   441791.806171   100000.0   480000.0   700000.0  1050000.0  1200000.0  \n",
       "30837   441791.806171   100000.0   480000.0   700000.0  1050000.0  1200000.0  \n",
       "104059  441791.806171   100000.0   480000.0   700000.0  1050000.0  1200000.0  \n",
       "...               ...        ...        ...        ...        ...        ...  \n",
       "132005            NaN  1500000.0  1500000.0  1500000.0  1500000.0  1500000.0  \n",
       "52888             NaN  2600000.0  2600000.0  2600000.0  2600000.0  2600000.0  \n",
       "124794            NaN  1400000.0  1400000.0  1400000.0  1400000.0  1400000.0  \n",
       "35554             NaN  1500000.0  1500000.0  1500000.0  1500000.0  1500000.0  \n",
       "57137             NaN  1600000.0  1600000.0  1600000.0  1600000.0  1600000.0  \n",
       "\n",
       "[140841 rows x 14 columns]"
      ]
     },
     "execution_count": 56,
     "metadata": {},
     "output_type": "execute_result"
    }
   ],
   "source": [
    "df_cjy.sort_values(['years_of_experience','job_position','company'])"
   ]
  },
  {
   "cell_type": "code",
   "execution_count": 57,
   "id": "I9hCPX1OLOOG",
   "metadata": {
    "colab": {
     "base_uri": "https://localhost:8080/"
    },
    "id": "I9hCPX1OLOOG",
    "outputId": "7f485112-f5cd-4876-e228-1a9c71a4c56e"
   },
   "outputs": [
    {
     "data": {
      "text/plain": [
       "(140841, 14)"
      ]
     },
     "execution_count": 57,
     "metadata": {},
     "output_type": "execute_result"
    }
   ],
   "source": [
    "df_cjy.drop_duplicates(inplace=True)\n",
    "df_cjy.shape\n",
    "#no change till now"
   ]
  },
  {
   "cell_type": "markdown",
   "id": "07835aba",
   "metadata": {
    "id": "07835aba"
   },
   "source": [
    "### Creating Designation basis on the salary they are getting in their respective company"
   ]
  },
  {
   "cell_type": "code",
   "execution_count": 58,
   "id": "e8bd309f",
   "metadata": {
    "id": "e8bd309f"
   },
   "outputs": [],
   "source": [
    "def condition_designation(a,b_50,b_75):\n",
    "    if a<b_50:\n",
    "        return 3\n",
    "    elif a>=b_50 and a<=b_75:\n",
    "        return 2\n",
    "    \n",
    "    elif a>=b_75:\n",
    "        return 1\n",
    "        "
   ]
  },
  {
   "cell_type": "code",
   "execution_count": 59,
   "id": "e74ac32d",
   "metadata": {
    "colab": {
     "base_uri": "https://localhost:8080/",
     "height": 423
    },
    "id": "e74ac32d",
    "outputId": "be706840-fe39-4d7d-a1fc-4b66c30a03e1"
   },
   "outputs": [
    {
     "data": {
      "text/html": [
       "<div>\n",
       "<style scoped>\n",
       "    .dataframe tbody tr th:only-of-type {\n",
       "        vertical-align: middle;\n",
       "    }\n",
       "\n",
       "    .dataframe tbody tr th {\n",
       "        vertical-align: top;\n",
       "    }\n",
       "\n",
       "    .dataframe thead th {\n",
       "        text-align: right;\n",
       "    }\n",
       "</style>\n",
       "<table border=\"1\" class=\"dataframe\">\n",
       "  <thead>\n",
       "    <tr style=\"text-align: right;\">\n",
       "      <th></th>\n",
       "      <th>company</th>\n",
       "      <th>orgyear</th>\n",
       "      <th>ctc</th>\n",
       "      <th>ctc_updated_year</th>\n",
       "      <th>years_of_experience</th>\n",
       "      <th>job_position</th>\n",
       "    </tr>\n",
       "  </thead>\n",
       "  <tbody>\n",
       "    <tr>\n",
       "      <th>0</th>\n",
       "      <td>deloitte india</td>\n",
       "      <td>2016.0</td>\n",
       "      <td>1100000</td>\n",
       "      <td>2020.0</td>\n",
       "      <td>6.0</td>\n",
       "      <td>others</td>\n",
       "    </tr>\n",
       "    <tr>\n",
       "      <th>1</th>\n",
       "      <td>reliance infocomm limited</td>\n",
       "      <td>2018.0</td>\n",
       "      <td>449999</td>\n",
       "      <td>2019.0</td>\n",
       "      <td>4.0</td>\n",
       "      <td>fullstack devloper</td>\n",
       "    </tr>\n",
       "    <tr>\n",
       "      <th>2</th>\n",
       "      <td>Others</td>\n",
       "      <td>2015.0</td>\n",
       "      <td>2000000</td>\n",
       "      <td>2020.0</td>\n",
       "      <td>7.0</td>\n",
       "      <td>backend engineer</td>\n",
       "    </tr>\n",
       "    <tr>\n",
       "      <th>3</th>\n",
       "      <td>tokopedia</td>\n",
       "      <td>2017.0</td>\n",
       "      <td>700000</td>\n",
       "      <td>2019.0</td>\n",
       "      <td>5.0</td>\n",
       "      <td>backend engineer</td>\n",
       "    </tr>\n",
       "    <tr>\n",
       "      <th>4</th>\n",
       "      <td>rift group</td>\n",
       "      <td>2017.0</td>\n",
       "      <td>1400000</td>\n",
       "      <td>2019.0</td>\n",
       "      <td>5.0</td>\n",
       "      <td>fullstack devloper</td>\n",
       "    </tr>\n",
       "  </tbody>\n",
       "</table>\n",
       "</div>"
      ],
      "text/plain": [
       "                     company  orgyear      ctc  ctc_updated_year  \\\n",
       "0             deloitte india   2016.0  1100000            2020.0   \n",
       "1  reliance infocomm limited   2018.0   449999            2019.0   \n",
       "2                     Others   2015.0  2000000            2020.0   \n",
       "3                  tokopedia   2017.0   700000            2019.0   \n",
       "4                 rift group   2017.0  1400000            2019.0   \n",
       "\n",
       "   years_of_experience        job_position  \n",
       "0                  6.0              others  \n",
       "1                  4.0  fullstack devloper  \n",
       "2                  7.0    backend engineer  \n",
       "3                  5.0    backend engineer  \n",
       "4                  5.0  fullstack devloper  "
      ]
     },
     "execution_count": 59,
     "metadata": {},
     "output_type": "execute_result"
    }
   ],
   "source": [
    "df.head()"
   ]
  },
  {
   "cell_type": "code",
   "execution_count": 60,
   "id": "02d6a966",
   "metadata": {
    "id": "02d6a966"
   },
   "outputs": [],
   "source": [
    "df_cjy['designation'] =df_cjy.apply(lambda x: condition_designation(x['ctc'],x['50%'],x['75%']),axis=1)"
   ]
  },
  {
   "cell_type": "code",
   "execution_count": 61,
   "id": "6Yj8eKvay2Au",
   "metadata": {
    "colab": {
     "base_uri": "https://localhost:8080/",
     "height": 626
    },
    "id": "6Yj8eKvay2Au",
    "outputId": "261a0b0b-6d96-42aa-84af-46f9d1e5b032"
   },
   "outputs": [
    {
     "data": {
      "text/html": [
       "<div>\n",
       "<style scoped>\n",
       "    .dataframe tbody tr th:only-of-type {\n",
       "        vertical-align: middle;\n",
       "    }\n",
       "\n",
       "    .dataframe tbody tr th {\n",
       "        vertical-align: top;\n",
       "    }\n",
       "\n",
       "    .dataframe thead th {\n",
       "        text-align: right;\n",
       "    }\n",
       "</style>\n",
       "<table border=\"1\" class=\"dataframe\">\n",
       "  <thead>\n",
       "    <tr style=\"text-align: right;\">\n",
       "      <th></th>\n",
       "      <th>company</th>\n",
       "      <th>orgyear</th>\n",
       "      <th>ctc</th>\n",
       "      <th>ctc_updated_year</th>\n",
       "      <th>years_of_experience</th>\n",
       "      <th>job_position</th>\n",
       "      <th>count</th>\n",
       "      <th>mean</th>\n",
       "      <th>std</th>\n",
       "      <th>min</th>\n",
       "      <th>25%</th>\n",
       "      <th>50%</th>\n",
       "      <th>75%</th>\n",
       "      <th>max</th>\n",
       "      <th>designation</th>\n",
       "    </tr>\n",
       "  </thead>\n",
       "  <tbody>\n",
       "    <tr>\n",
       "      <th>0</th>\n",
       "      <td>deloitte india</td>\n",
       "      <td>2016.0</td>\n",
       "      <td>1100000</td>\n",
       "      <td>2020.0</td>\n",
       "      <td>6.0</td>\n",
       "      <td>others</td>\n",
       "      <td>1.0</td>\n",
       "      <td>1.100000e+06</td>\n",
       "      <td>NaN</td>\n",
       "      <td>1100000.0</td>\n",
       "      <td>1100000.0</td>\n",
       "      <td>1100000.0</td>\n",
       "      <td>1100000.0</td>\n",
       "      <td>1100000.0</td>\n",
       "      <td>2</td>\n",
       "    </tr>\n",
       "    <tr>\n",
       "      <th>1</th>\n",
       "      <td>reliance infocomm limited</td>\n",
       "      <td>2018.0</td>\n",
       "      <td>449999</td>\n",
       "      <td>2019.0</td>\n",
       "      <td>4.0</td>\n",
       "      <td>fullstack devloper</td>\n",
       "      <td>7.0</td>\n",
       "      <td>7.742856e+05</td>\n",
       "      <td>250922.324350</td>\n",
       "      <td>449999.0</td>\n",
       "      <td>610000.0</td>\n",
       "      <td>750000.0</td>\n",
       "      <td>900000.0</td>\n",
       "      <td>1200000.0</td>\n",
       "      <td>3</td>\n",
       "    </tr>\n",
       "    <tr>\n",
       "      <th>2</th>\n",
       "      <td>Others</td>\n",
       "      <td>2015.0</td>\n",
       "      <td>2000000</td>\n",
       "      <td>2020.0</td>\n",
       "      <td>7.0</td>\n",
       "      <td>backend engineer</td>\n",
       "      <td>456.0</td>\n",
       "      <td>9.609559e+05</td>\n",
       "      <td>776546.830662</td>\n",
       "      <td>1000.0</td>\n",
       "      <td>307500.0</td>\n",
       "      <td>800000.0</td>\n",
       "      <td>1435000.0</td>\n",
       "      <td>3200000.0</td>\n",
       "      <td>1</td>\n",
       "    </tr>\n",
       "    <tr>\n",
       "      <th>3</th>\n",
       "      <td>tokopedia</td>\n",
       "      <td>2017.0</td>\n",
       "      <td>700000</td>\n",
       "      <td>2019.0</td>\n",
       "      <td>5.0</td>\n",
       "      <td>backend engineer</td>\n",
       "      <td>7.0</td>\n",
       "      <td>1.158571e+06</td>\n",
       "      <td>404780.951933</td>\n",
       "      <td>700000.0</td>\n",
       "      <td>825000.0</td>\n",
       "      <td>1200000.0</td>\n",
       "      <td>1405000.0</td>\n",
       "      <td>1750000.0</td>\n",
       "      <td>3</td>\n",
       "    </tr>\n",
       "    <tr>\n",
       "      <th>4</th>\n",
       "      <td>rift group</td>\n",
       "      <td>2017.0</td>\n",
       "      <td>1400000</td>\n",
       "      <td>2019.0</td>\n",
       "      <td>5.0</td>\n",
       "      <td>fullstack devloper</td>\n",
       "      <td>1.0</td>\n",
       "      <td>1.400000e+06</td>\n",
       "      <td>NaN</td>\n",
       "      <td>1400000.0</td>\n",
       "      <td>1400000.0</td>\n",
       "      <td>1400000.0</td>\n",
       "      <td>1400000.0</td>\n",
       "      <td>1400000.0</td>\n",
       "      <td>2</td>\n",
       "    </tr>\n",
       "  </tbody>\n",
       "</table>\n",
       "</div>"
      ],
      "text/plain": [
       "                     company  orgyear      ctc  ctc_updated_year  \\\n",
       "0             deloitte india   2016.0  1100000            2020.0   \n",
       "1  reliance infocomm limited   2018.0   449999            2019.0   \n",
       "2                     Others   2015.0  2000000            2020.0   \n",
       "3                  tokopedia   2017.0   700000            2019.0   \n",
       "4                 rift group   2017.0  1400000            2019.0   \n",
       "\n",
       "   years_of_experience        job_position  count          mean  \\\n",
       "0                  6.0              others    1.0  1.100000e+06   \n",
       "1                  4.0  fullstack devloper    7.0  7.742856e+05   \n",
       "2                  7.0    backend engineer  456.0  9.609559e+05   \n",
       "3                  5.0    backend engineer    7.0  1.158571e+06   \n",
       "4                  5.0  fullstack devloper    1.0  1.400000e+06   \n",
       "\n",
       "             std        min        25%        50%        75%        max  \\\n",
       "0            NaN  1100000.0  1100000.0  1100000.0  1100000.0  1100000.0   \n",
       "1  250922.324350   449999.0   610000.0   750000.0   900000.0  1200000.0   \n",
       "2  776546.830662     1000.0   307500.0   800000.0  1435000.0  3200000.0   \n",
       "3  404780.951933   700000.0   825000.0  1200000.0  1405000.0  1750000.0   \n",
       "4            NaN  1400000.0  1400000.0  1400000.0  1400000.0  1400000.0   \n",
       "\n",
       "   designation  \n",
       "0            2  \n",
       "1            3  \n",
       "2            1  \n",
       "3            3  \n",
       "4            2  "
      ]
     },
     "execution_count": 61,
     "metadata": {},
     "output_type": "execute_result"
    }
   ],
   "source": [
    "df_cjy.head()"
   ]
  },
  {
   "cell_type": "code",
   "execution_count": 62,
   "id": "7bfd063a",
   "metadata": {
    "colab": {
     "base_uri": "https://localhost:8080/"
    },
    "id": "7bfd063a",
    "outputId": "296e2172-079a-4735-ae25-dec9a90a31c6",
    "scrolled": true
   },
   "outputs": [
    {
     "data": {
      "text/plain": [
       "2    43.322612\n",
       "3    34.705093\n",
       "1    21.972295\n",
       "Name: designation, dtype: float64"
      ]
     },
     "execution_count": 62,
     "metadata": {},
     "output_type": "execute_result"
    }
   ],
   "source": [
    "df_cjy.designation.value_counts(normalize=True)*100"
   ]
  },
  {
   "cell_type": "markdown",
   "id": "fQ7HBCH6jWjg",
   "metadata": {
    "id": "fQ7HBCH6jWjg"
   },
   "source": [
    "## Manual Clustering based on company and job position "
   ]
  },
  {
   "cell_type": "code",
   "execution_count": 63,
   "id": "4TZFASSDggiC",
   "metadata": {
    "id": "4TZFASSDggiC"
   },
   "outputs": [],
   "source": [
    "grouped_c_j=df.groupby(['job_position','company'])['ctc'].describe()"
   ]
  },
  {
   "cell_type": "code",
   "execution_count": 64,
   "id": "6cdbe2c3",
   "metadata": {
    "colab": {
     "base_uri": "https://localhost:8080/",
     "height": 455
    },
    "id": "6cdbe2c3",
    "outputId": "bdda01c2-d875-4ee7-b1c9-e473e68a82e1"
   },
   "outputs": [
    {
     "data": {
      "text/html": [
       "<div>\n",
       "<style scoped>\n",
       "    .dataframe tbody tr th:only-of-type {\n",
       "        vertical-align: middle;\n",
       "    }\n",
       "\n",
       "    .dataframe tbody tr th {\n",
       "        vertical-align: top;\n",
       "    }\n",
       "\n",
       "    .dataframe thead th {\n",
       "        text-align: right;\n",
       "    }\n",
       "</style>\n",
       "<table border=\"1\" class=\"dataframe\">\n",
       "  <thead>\n",
       "    <tr style=\"text-align: right;\">\n",
       "      <th></th>\n",
       "      <th></th>\n",
       "      <th>count</th>\n",
       "      <th>mean</th>\n",
       "      <th>std</th>\n",
       "      <th>min</th>\n",
       "      <th>25%</th>\n",
       "      <th>50%</th>\n",
       "      <th>75%</th>\n",
       "      <th>max</th>\n",
       "    </tr>\n",
       "    <tr>\n",
       "      <th>job_position</th>\n",
       "      <th>company</th>\n",
       "      <th></th>\n",
       "      <th></th>\n",
       "      <th></th>\n",
       "      <th></th>\n",
       "      <th></th>\n",
       "      <th></th>\n",
       "      <th></th>\n",
       "      <th></th>\n",
       "    </tr>\n",
       "  </thead>\n",
       "  <tbody>\n",
       "    <tr>\n",
       "      <th>abap developer</th>\n",
       "      <th>Others</th>\n",
       "      <td>1.0</td>\n",
       "      <td>500000.0</td>\n",
       "      <td>NaN</td>\n",
       "      <td>500000.0</td>\n",
       "      <td>500000.0</td>\n",
       "      <td>500000.0</td>\n",
       "      <td>500000.0</td>\n",
       "      <td>500000.0</td>\n",
       "    </tr>\n",
       "    <tr>\n",
       "      <th>account</th>\n",
       "      <th>not applicable account</th>\n",
       "      <td>1.0</td>\n",
       "      <td>2000000.0</td>\n",
       "      <td>NaN</td>\n",
       "      <td>2000000.0</td>\n",
       "      <td>2000000.0</td>\n",
       "      <td>2000000.0</td>\n",
       "      <td>2000000.0</td>\n",
       "      <td>2000000.0</td>\n",
       "    </tr>\n",
       "    <tr>\n",
       "      <th>administrative clerk</th>\n",
       "      <th>Others</th>\n",
       "      <td>1.0</td>\n",
       "      <td>500000.0</td>\n",
       "      <td>NaN</td>\n",
       "      <td>500000.0</td>\n",
       "      <td>500000.0</td>\n",
       "      <td>500000.0</td>\n",
       "      <td>500000.0</td>\n",
       "      <td>500000.0</td>\n",
       "    </tr>\n",
       "    <tr>\n",
       "      <th>administrator</th>\n",
       "      <th>Others</th>\n",
       "      <td>1.0</td>\n",
       "      <td>380000.0</td>\n",
       "      <td>NaN</td>\n",
       "      <td>380000.0</td>\n",
       "      <td>380000.0</td>\n",
       "      <td>380000.0</td>\n",
       "      <td>380000.0</td>\n",
       "      <td>380000.0</td>\n",
       "    </tr>\n",
       "    <tr>\n",
       "      <th>advisor</th>\n",
       "      <th>fis</th>\n",
       "      <td>1.0</td>\n",
       "      <td>360000.0</td>\n",
       "      <td>NaN</td>\n",
       "      <td>360000.0</td>\n",
       "      <td>360000.0</td>\n",
       "      <td>360000.0</td>\n",
       "      <td>360000.0</td>\n",
       "      <td>360000.0</td>\n",
       "    </tr>\n",
       "    <tr>\n",
       "      <th>...</th>\n",
       "      <th>...</th>\n",
       "      <td>...</td>\n",
       "      <td>...</td>\n",
       "      <td>...</td>\n",
       "      <td>...</td>\n",
       "      <td>...</td>\n",
       "      <td>...</td>\n",
       "      <td>...</td>\n",
       "      <td>...</td>\n",
       "    </tr>\n",
       "    <tr>\n",
       "      <th>web designer intern</th>\n",
       "      <th>the sparks foundation</th>\n",
       "      <td>1.0</td>\n",
       "      <td>420000.0</td>\n",
       "      <td>NaN</td>\n",
       "      <td>420000.0</td>\n",
       "      <td>420000.0</td>\n",
       "      <td>420000.0</td>\n",
       "      <td>420000.0</td>\n",
       "      <td>420000.0</td>\n",
       "    </tr>\n",
       "    <tr>\n",
       "      <th>web developer full stack</th>\n",
       "      <th>another company</th>\n",
       "      <td>1.0</td>\n",
       "      <td>300000.0</td>\n",
       "      <td>NaN</td>\n",
       "      <td>300000.0</td>\n",
       "      <td>300000.0</td>\n",
       "      <td>300000.0</td>\n",
       "      <td>300000.0</td>\n",
       "      <td>300000.0</td>\n",
       "    </tr>\n",
       "    <tr>\n",
       "      <th>webcenter consultant</th>\n",
       "      <th>larsen  toubro infotech ltd</th>\n",
       "      <td>1.0</td>\n",
       "      <td>300000.0</td>\n",
       "      <td>NaN</td>\n",
       "      <td>300000.0</td>\n",
       "      <td>300000.0</td>\n",
       "      <td>300000.0</td>\n",
       "      <td>300000.0</td>\n",
       "      <td>300000.0</td>\n",
       "    </tr>\n",
       "    <tr>\n",
       "      <th>wordpress developer</th>\n",
       "      <th>Others</th>\n",
       "      <td>1.0</td>\n",
       "      <td>600000.0</td>\n",
       "      <td>NaN</td>\n",
       "      <td>600000.0</td>\n",
       "      <td>600000.0</td>\n",
       "      <td>600000.0</td>\n",
       "      <td>600000.0</td>\n",
       "      <td>600000.0</td>\n",
       "    </tr>\n",
       "    <tr>\n",
       "      <th>young professional 2</th>\n",
       "      <th>government of india</th>\n",
       "      <td>1.0</td>\n",
       "      <td>500000.0</td>\n",
       "      <td>NaN</td>\n",
       "      <td>500000.0</td>\n",
       "      <td>500000.0</td>\n",
       "      <td>500000.0</td>\n",
       "      <td>500000.0</td>\n",
       "      <td>500000.0</td>\n",
       "    </tr>\n",
       "  </tbody>\n",
       "</table>\n",
       "<p>19744 rows × 8 columns</p>\n",
       "</div>"
      ],
      "text/plain": [
       "                                                      count       mean  std  \\\n",
       "job_position             company                                              \n",
       "abap developer           Others                         1.0   500000.0  NaN   \n",
       "account                  not applicable account         1.0  2000000.0  NaN   \n",
       "administrative clerk     Others                         1.0   500000.0  NaN   \n",
       "administrator            Others                         1.0   380000.0  NaN   \n",
       "advisor                  fis                            1.0   360000.0  NaN   \n",
       "...                                                     ...        ...  ...   \n",
       "web designer intern      the sparks foundation          1.0   420000.0  NaN   \n",
       "web developer full stack another company                1.0   300000.0  NaN   \n",
       "webcenter consultant     larsen  toubro infotech ltd    1.0   300000.0  NaN   \n",
       "wordpress developer      Others                         1.0   600000.0  NaN   \n",
       "young professional 2     government of india            1.0   500000.0  NaN   \n",
       "\n",
       "                                                            min        25%  \\\n",
       "job_position             company                                             \n",
       "abap developer           Others                        500000.0   500000.0   \n",
       "account                  not applicable account       2000000.0  2000000.0   \n",
       "administrative clerk     Others                        500000.0   500000.0   \n",
       "administrator            Others                        380000.0   380000.0   \n",
       "advisor                  fis                           360000.0   360000.0   \n",
       "...                                                         ...        ...   \n",
       "web designer intern      the sparks foundation         420000.0   420000.0   \n",
       "web developer full stack another company               300000.0   300000.0   \n",
       "webcenter consultant     larsen  toubro infotech ltd   300000.0   300000.0   \n",
       "wordpress developer      Others                        600000.0   600000.0   \n",
       "young professional 2     government of india           500000.0   500000.0   \n",
       "\n",
       "                                                            50%        75%  \\\n",
       "job_position             company                                             \n",
       "abap developer           Others                        500000.0   500000.0   \n",
       "account                  not applicable account       2000000.0  2000000.0   \n",
       "administrative clerk     Others                        500000.0   500000.0   \n",
       "administrator            Others                        380000.0   380000.0   \n",
       "advisor                  fis                           360000.0   360000.0   \n",
       "...                                                         ...        ...   \n",
       "web designer intern      the sparks foundation         420000.0   420000.0   \n",
       "web developer full stack another company               300000.0   300000.0   \n",
       "webcenter consultant     larsen  toubro infotech ltd   300000.0   300000.0   \n",
       "wordpress developer      Others                        600000.0   600000.0   \n",
       "young professional 2     government of india           500000.0   500000.0   \n",
       "\n",
       "                                                            max  \n",
       "job_position             company                                 \n",
       "abap developer           Others                        500000.0  \n",
       "account                  not applicable account       2000000.0  \n",
       "administrative clerk     Others                        500000.0  \n",
       "administrator            Others                        380000.0  \n",
       "advisor                  fis                           360000.0  \n",
       "...                                                         ...  \n",
       "web designer intern      the sparks foundation         420000.0  \n",
       "web developer full stack another company               300000.0  \n",
       "webcenter consultant     larsen  toubro infotech ltd   300000.0  \n",
       "wordpress developer      Others                        600000.0  \n",
       "young professional 2     government of india           500000.0  \n",
       "\n",
       "[19744 rows x 8 columns]"
      ]
     },
     "execution_count": 64,
     "metadata": {},
     "output_type": "execute_result"
    }
   ],
   "source": [
    "grouped_c_j"
   ]
  },
  {
   "cell_type": "code",
   "execution_count": 65,
   "id": "jpUA64ABy_zw",
   "metadata": {
    "colab": {
     "base_uri": "https://localhost:8080/",
     "height": 423
    },
    "id": "jpUA64ABy_zw",
    "outputId": "7876ce3b-5503-4b81-b7ee-7ad90a73e73c"
   },
   "outputs": [
    {
     "data": {
      "text/html": [
       "<div>\n",
       "<style scoped>\n",
       "    .dataframe tbody tr th:only-of-type {\n",
       "        vertical-align: middle;\n",
       "    }\n",
       "\n",
       "    .dataframe tbody tr th {\n",
       "        vertical-align: top;\n",
       "    }\n",
       "\n",
       "    .dataframe thead th {\n",
       "        text-align: right;\n",
       "    }\n",
       "</style>\n",
       "<table border=\"1\" class=\"dataframe\">\n",
       "  <thead>\n",
       "    <tr style=\"text-align: right;\">\n",
       "      <th></th>\n",
       "      <th>company</th>\n",
       "      <th>orgyear</th>\n",
       "      <th>ctc</th>\n",
       "      <th>ctc_updated_year</th>\n",
       "      <th>years_of_experience</th>\n",
       "      <th>job_position</th>\n",
       "    </tr>\n",
       "  </thead>\n",
       "  <tbody>\n",
       "    <tr>\n",
       "      <th>0</th>\n",
       "      <td>deloitte india</td>\n",
       "      <td>2016.0</td>\n",
       "      <td>1100000</td>\n",
       "      <td>2020.0</td>\n",
       "      <td>6.0</td>\n",
       "      <td>others</td>\n",
       "    </tr>\n",
       "    <tr>\n",
       "      <th>1</th>\n",
       "      <td>reliance infocomm limited</td>\n",
       "      <td>2018.0</td>\n",
       "      <td>449999</td>\n",
       "      <td>2019.0</td>\n",
       "      <td>4.0</td>\n",
       "      <td>fullstack devloper</td>\n",
       "    </tr>\n",
       "    <tr>\n",
       "      <th>2</th>\n",
       "      <td>Others</td>\n",
       "      <td>2015.0</td>\n",
       "      <td>2000000</td>\n",
       "      <td>2020.0</td>\n",
       "      <td>7.0</td>\n",
       "      <td>backend engineer</td>\n",
       "    </tr>\n",
       "    <tr>\n",
       "      <th>3</th>\n",
       "      <td>tokopedia</td>\n",
       "      <td>2017.0</td>\n",
       "      <td>700000</td>\n",
       "      <td>2019.0</td>\n",
       "      <td>5.0</td>\n",
       "      <td>backend engineer</td>\n",
       "    </tr>\n",
       "    <tr>\n",
       "      <th>4</th>\n",
       "      <td>rift group</td>\n",
       "      <td>2017.0</td>\n",
       "      <td>1400000</td>\n",
       "      <td>2019.0</td>\n",
       "      <td>5.0</td>\n",
       "      <td>fullstack devloper</td>\n",
       "    </tr>\n",
       "    <tr>\n",
       "      <th>...</th>\n",
       "      <td>...</td>\n",
       "      <td>...</td>\n",
       "      <td>...</td>\n",
       "      <td>...</td>\n",
       "      <td>...</td>\n",
       "      <td>...</td>\n",
       "    </tr>\n",
       "    <tr>\n",
       "      <th>146072</th>\n",
       "      <td>barclays</td>\n",
       "      <td>2011.0</td>\n",
       "      <td>2250000</td>\n",
       "      <td>2019.0</td>\n",
       "      <td>11.0</td>\n",
       "      <td>others</td>\n",
       "    </tr>\n",
       "    <tr>\n",
       "      <th>146073</th>\n",
       "      <td>apple inc</td>\n",
       "      <td>2008.0</td>\n",
       "      <td>220000</td>\n",
       "      <td>2019.0</td>\n",
       "      <td>14.0</td>\n",
       "      <td>others</td>\n",
       "    </tr>\n",
       "    <tr>\n",
       "      <th>146074</th>\n",
       "      <td>upgradcom</td>\n",
       "      <td>2017.0</td>\n",
       "      <td>500000</td>\n",
       "      <td>2020.0</td>\n",
       "      <td>5.0</td>\n",
       "      <td>others</td>\n",
       "    </tr>\n",
       "    <tr>\n",
       "      <th>146075</th>\n",
       "      <td>accolite</td>\n",
       "      <td>2021.0</td>\n",
       "      <td>700000</td>\n",
       "      <td>2021.0</td>\n",
       "      <td>1.0</td>\n",
       "      <td>others</td>\n",
       "    </tr>\n",
       "    <tr>\n",
       "      <th>146076</th>\n",
       "      <td>morgan stanley</td>\n",
       "      <td>2014.0</td>\n",
       "      <td>1240000</td>\n",
       "      <td>2016.0</td>\n",
       "      <td>8.0</td>\n",
       "      <td>others</td>\n",
       "    </tr>\n",
       "  </tbody>\n",
       "</table>\n",
       "<p>140841 rows × 6 columns</p>\n",
       "</div>"
      ],
      "text/plain": [
       "                          company  orgyear      ctc  ctc_updated_year  \\\n",
       "0                  deloitte india   2016.0  1100000            2020.0   \n",
       "1       reliance infocomm limited   2018.0   449999            2019.0   \n",
       "2                          Others   2015.0  2000000            2020.0   \n",
       "3                       tokopedia   2017.0   700000            2019.0   \n",
       "4                      rift group   2017.0  1400000            2019.0   \n",
       "...                           ...      ...      ...               ...   \n",
       "146072                   barclays   2011.0  2250000            2019.0   \n",
       "146073                  apple inc   2008.0   220000            2019.0   \n",
       "146074                  upgradcom   2017.0   500000            2020.0   \n",
       "146075                   accolite   2021.0   700000            2021.0   \n",
       "146076             morgan stanley   2014.0  1240000            2016.0   \n",
       "\n",
       "        years_of_experience        job_position  \n",
       "0                       6.0              others  \n",
       "1                       4.0  fullstack devloper  \n",
       "2                       7.0    backend engineer  \n",
       "3                       5.0    backend engineer  \n",
       "4                       5.0  fullstack devloper  \n",
       "...                     ...                 ...  \n",
       "146072                 11.0              others  \n",
       "146073                 14.0              others  \n",
       "146074                  5.0              others  \n",
       "146075                  1.0              others  \n",
       "146076                  8.0              others  \n",
       "\n",
       "[140841 rows x 6 columns]"
      ]
     },
     "execution_count": 65,
     "metadata": {},
     "output_type": "execute_result"
    }
   ],
   "source": [
    "df"
   ]
  },
  {
   "cell_type": "code",
   "execution_count": 66,
   "id": "4131b30c",
   "metadata": {
    "colab": {
     "base_uri": "https://localhost:8080/"
    },
    "id": "4131b30c",
    "outputId": "ce8ee754-9e31-4281-d560-d9c033eb13fb"
   },
   "outputs": [
    {
     "data": {
      "text/plain": [
       "(140841, 6)"
      ]
     },
     "execution_count": 66,
     "metadata": {},
     "output_type": "execute_result"
    }
   ],
   "source": [
    "df.drop_duplicates().shape"
   ]
  },
  {
   "cell_type": "code",
   "execution_count": 67,
   "id": "bxhYS6Crg8qI",
   "metadata": {
    "id": "bxhYS6Crg8qI"
   },
   "outputs": [],
   "source": [
    "df_cj=df.merge(grouped_c_j, on=['job_position','company'], how='left')"
   ]
  },
  {
   "cell_type": "code",
   "execution_count": 68,
   "id": "EVdnjJl3hK6v",
   "metadata": {
    "colab": {
     "base_uri": "https://localhost:8080/",
     "height": 537
    },
    "id": "EVdnjJl3hK6v",
    "outputId": "beebb426-67dd-45da-ceb8-f4e5d0f39549"
   },
   "outputs": [
    {
     "data": {
      "text/html": [
       "<div>\n",
       "<style scoped>\n",
       "    .dataframe tbody tr th:only-of-type {\n",
       "        vertical-align: middle;\n",
       "    }\n",
       "\n",
       "    .dataframe tbody tr th {\n",
       "        vertical-align: top;\n",
       "    }\n",
       "\n",
       "    .dataframe thead th {\n",
       "        text-align: right;\n",
       "    }\n",
       "</style>\n",
       "<table border=\"1\" class=\"dataframe\">\n",
       "  <thead>\n",
       "    <tr style=\"text-align: right;\">\n",
       "      <th></th>\n",
       "      <th>company</th>\n",
       "      <th>orgyear</th>\n",
       "      <th>ctc</th>\n",
       "      <th>ctc_updated_year</th>\n",
       "      <th>years_of_experience</th>\n",
       "      <th>job_position</th>\n",
       "      <th>count</th>\n",
       "      <th>mean</th>\n",
       "      <th>std</th>\n",
       "      <th>min</th>\n",
       "      <th>25%</th>\n",
       "      <th>50%</th>\n",
       "      <th>75%</th>\n",
       "      <th>max</th>\n",
       "    </tr>\n",
       "  </thead>\n",
       "  <tbody>\n",
       "    <tr>\n",
       "      <th>0</th>\n",
       "      <td>deloitte india</td>\n",
       "      <td>2016.0</td>\n",
       "      <td>1100000</td>\n",
       "      <td>2020.0</td>\n",
       "      <td>6.0</td>\n",
       "      <td>others</td>\n",
       "      <td>2.0</td>\n",
       "      <td>1.085000e+06</td>\n",
       "      <td>2.121320e+04</td>\n",
       "      <td>1070000.0</td>\n",
       "      <td>1077500.0</td>\n",
       "      <td>1085000.0</td>\n",
       "      <td>1092500.0</td>\n",
       "      <td>1100000.0</td>\n",
       "    </tr>\n",
       "    <tr>\n",
       "      <th>1</th>\n",
       "      <td>reliance infocomm limited</td>\n",
       "      <td>2018.0</td>\n",
       "      <td>449999</td>\n",
       "      <td>2019.0</td>\n",
       "      <td>4.0</td>\n",
       "      <td>fullstack devloper</td>\n",
       "      <td>25.0</td>\n",
       "      <td>9.882000e+05</td>\n",
       "      <td>4.874998e+05</td>\n",
       "      <td>300000.0</td>\n",
       "      <td>600000.0</td>\n",
       "      <td>850000.0</td>\n",
       "      <td>1380000.0</td>\n",
       "      <td>2000000.0</td>\n",
       "    </tr>\n",
       "    <tr>\n",
       "      <th>2</th>\n",
       "      <td>Others</td>\n",
       "      <td>2015.0</td>\n",
       "      <td>2000000</td>\n",
       "      <td>2020.0</td>\n",
       "      <td>7.0</td>\n",
       "      <td>backend engineer</td>\n",
       "      <td>3876.0</td>\n",
       "      <td>1.001486e+06</td>\n",
       "      <td>8.125128e+05</td>\n",
       "      <td>1000.0</td>\n",
       "      <td>300000.0</td>\n",
       "      <td>830000.0</td>\n",
       "      <td>1530000.0</td>\n",
       "      <td>3300000.0</td>\n",
       "    </tr>\n",
       "    <tr>\n",
       "      <th>3</th>\n",
       "      <td>tokopedia</td>\n",
       "      <td>2017.0</td>\n",
       "      <td>700000</td>\n",
       "      <td>2019.0</td>\n",
       "      <td>5.0</td>\n",
       "      <td>backend engineer</td>\n",
       "      <td>24.0</td>\n",
       "      <td>1.416667e+06</td>\n",
       "      <td>5.453413e+05</td>\n",
       "      <td>520000.0</td>\n",
       "      <td>1047500.0</td>\n",
       "      <td>1375000.0</td>\n",
       "      <td>1792500.0</td>\n",
       "      <td>2600000.0</td>\n",
       "    </tr>\n",
       "    <tr>\n",
       "      <th>4</th>\n",
       "      <td>rift group</td>\n",
       "      <td>2017.0</td>\n",
       "      <td>1400000</td>\n",
       "      <td>2019.0</td>\n",
       "      <td>5.0</td>\n",
       "      <td>fullstack devloper</td>\n",
       "      <td>3.0</td>\n",
       "      <td>8.466667e+05</td>\n",
       "      <td>4.801389e+05</td>\n",
       "      <td>540000.0</td>\n",
       "      <td>570000.0</td>\n",
       "      <td>600000.0</td>\n",
       "      <td>1000000.0</td>\n",
       "      <td>1400000.0</td>\n",
       "    </tr>\n",
       "    <tr>\n",
       "      <th>...</th>\n",
       "      <td>...</td>\n",
       "      <td>...</td>\n",
       "      <td>...</td>\n",
       "      <td>...</td>\n",
       "      <td>...</td>\n",
       "      <td>...</td>\n",
       "      <td>...</td>\n",
       "      <td>...</td>\n",
       "      <td>...</td>\n",
       "      <td>...</td>\n",
       "      <td>...</td>\n",
       "      <td>...</td>\n",
       "      <td>...</td>\n",
       "      <td>...</td>\n",
       "    </tr>\n",
       "    <tr>\n",
       "      <th>140836</th>\n",
       "      <td>barclays</td>\n",
       "      <td>2011.0</td>\n",
       "      <td>2250000</td>\n",
       "      <td>2019.0</td>\n",
       "      <td>11.0</td>\n",
       "      <td>others</td>\n",
       "      <td>64.0</td>\n",
       "      <td>1.259969e+06</td>\n",
       "      <td>5.777488e+05</td>\n",
       "      <td>500000.0</td>\n",
       "      <td>800000.0</td>\n",
       "      <td>1020000.0</td>\n",
       "      <td>1607500.0</td>\n",
       "      <td>3200000.0</td>\n",
       "    </tr>\n",
       "    <tr>\n",
       "      <th>140837</th>\n",
       "      <td>apple inc</td>\n",
       "      <td>2008.0</td>\n",
       "      <td>220000</td>\n",
       "      <td>2019.0</td>\n",
       "      <td>14.0</td>\n",
       "      <td>others</td>\n",
       "      <td>16.0</td>\n",
       "      <td>1.568312e+06</td>\n",
       "      <td>1.231984e+06</td>\n",
       "      <td>60000.0</td>\n",
       "      <td>216250.0</td>\n",
       "      <td>2275000.0</td>\n",
       "      <td>2550000.0</td>\n",
       "      <td>3000000.0</td>\n",
       "    </tr>\n",
       "    <tr>\n",
       "      <th>140838</th>\n",
       "      <td>upgradcom</td>\n",
       "      <td>2017.0</td>\n",
       "      <td>500000</td>\n",
       "      <td>2020.0</td>\n",
       "      <td>5.0</td>\n",
       "      <td>others</td>\n",
       "      <td>61.0</td>\n",
       "      <td>1.149180e+06</td>\n",
       "      <td>4.866254e+05</td>\n",
       "      <td>400000.0</td>\n",
       "      <td>800000.0</td>\n",
       "      <td>1000000.0</td>\n",
       "      <td>1450000.0</td>\n",
       "      <td>2400000.0</td>\n",
       "    </tr>\n",
       "    <tr>\n",
       "      <th>140839</th>\n",
       "      <td>accolite</td>\n",
       "      <td>2021.0</td>\n",
       "      <td>700000</td>\n",
       "      <td>2021.0</td>\n",
       "      <td>1.0</td>\n",
       "      <td>others</td>\n",
       "      <td>38.0</td>\n",
       "      <td>1.221395e+06</td>\n",
       "      <td>5.482048e+05</td>\n",
       "      <td>300000.0</td>\n",
       "      <td>812500.0</td>\n",
       "      <td>1175000.0</td>\n",
       "      <td>1460000.0</td>\n",
       "      <td>2700000.0</td>\n",
       "    </tr>\n",
       "    <tr>\n",
       "      <th>140840</th>\n",
       "      <td>morgan stanley</td>\n",
       "      <td>2014.0</td>\n",
       "      <td>1240000</td>\n",
       "      <td>2016.0</td>\n",
       "      <td>8.0</td>\n",
       "      <td>others</td>\n",
       "      <td>126.0</td>\n",
       "      <td>1.806436e+06</td>\n",
       "      <td>6.716000e+05</td>\n",
       "      <td>100000.0</td>\n",
       "      <td>1500000.0</td>\n",
       "      <td>1800000.0</td>\n",
       "      <td>2200000.0</td>\n",
       "      <td>3250000.0</td>\n",
       "    </tr>\n",
       "  </tbody>\n",
       "</table>\n",
       "<p>140841 rows × 14 columns</p>\n",
       "</div>"
      ],
      "text/plain": [
       "                          company  orgyear      ctc  ctc_updated_year  \\\n",
       "0                  deloitte india   2016.0  1100000            2020.0   \n",
       "1       reliance infocomm limited   2018.0   449999            2019.0   \n",
       "2                          Others   2015.0  2000000            2020.0   \n",
       "3                       tokopedia   2017.0   700000            2019.0   \n",
       "4                      rift group   2017.0  1400000            2019.0   \n",
       "...                           ...      ...      ...               ...   \n",
       "140836                   barclays   2011.0  2250000            2019.0   \n",
       "140837                  apple inc   2008.0   220000            2019.0   \n",
       "140838                  upgradcom   2017.0   500000            2020.0   \n",
       "140839                   accolite   2021.0   700000            2021.0   \n",
       "140840             morgan stanley   2014.0  1240000            2016.0   \n",
       "\n",
       "        years_of_experience        job_position   count          mean  \\\n",
       "0                       6.0              others     2.0  1.085000e+06   \n",
       "1                       4.0  fullstack devloper    25.0  9.882000e+05   \n",
       "2                       7.0    backend engineer  3876.0  1.001486e+06   \n",
       "3                       5.0    backend engineer    24.0  1.416667e+06   \n",
       "4                       5.0  fullstack devloper     3.0  8.466667e+05   \n",
       "...                     ...                 ...     ...           ...   \n",
       "140836                 11.0              others    64.0  1.259969e+06   \n",
       "140837                 14.0              others    16.0  1.568312e+06   \n",
       "140838                  5.0              others    61.0  1.149180e+06   \n",
       "140839                  1.0              others    38.0  1.221395e+06   \n",
       "140840                  8.0              others   126.0  1.806436e+06   \n",
       "\n",
       "                 std        min        25%        50%        75%        max  \n",
       "0       2.121320e+04  1070000.0  1077500.0  1085000.0  1092500.0  1100000.0  \n",
       "1       4.874998e+05   300000.0   600000.0   850000.0  1380000.0  2000000.0  \n",
       "2       8.125128e+05     1000.0   300000.0   830000.0  1530000.0  3300000.0  \n",
       "3       5.453413e+05   520000.0  1047500.0  1375000.0  1792500.0  2600000.0  \n",
       "4       4.801389e+05   540000.0   570000.0   600000.0  1000000.0  1400000.0  \n",
       "...              ...        ...        ...        ...        ...        ...  \n",
       "140836  5.777488e+05   500000.0   800000.0  1020000.0  1607500.0  3200000.0  \n",
       "140837  1.231984e+06    60000.0   216250.0  2275000.0  2550000.0  3000000.0  \n",
       "140838  4.866254e+05   400000.0   800000.0  1000000.0  1450000.0  2400000.0  \n",
       "140839  5.482048e+05   300000.0   812500.0  1175000.0  1460000.0  2700000.0  \n",
       "140840  6.716000e+05   100000.0  1500000.0  1800000.0  2200000.0  3250000.0  \n",
       "\n",
       "[140841 rows x 14 columns]"
      ]
     },
     "execution_count": 68,
     "metadata": {},
     "output_type": "execute_result"
    }
   ],
   "source": [
    "df_cj"
   ]
  },
  {
   "cell_type": "code",
   "execution_count": 69,
   "id": "hr1HqwUyhM1M",
   "metadata": {
    "colab": {
     "base_uri": "https://localhost:8080/",
     "height": 502
    },
    "id": "hr1HqwUyhM1M",
    "outputId": "129d681f-ccee-4759-ade0-6c46ac82d857",
    "scrolled": true
   },
   "outputs": [
    {
     "data": {
      "text/html": [
       "<div>\n",
       "<style scoped>\n",
       "    .dataframe tbody tr th:only-of-type {\n",
       "        vertical-align: middle;\n",
       "    }\n",
       "\n",
       "    .dataframe tbody tr th {\n",
       "        vertical-align: top;\n",
       "    }\n",
       "\n",
       "    .dataframe thead th {\n",
       "        text-align: right;\n",
       "    }\n",
       "</style>\n",
       "<table border=\"1\" class=\"dataframe\">\n",
       "  <thead>\n",
       "    <tr style=\"text-align: right;\">\n",
       "      <th></th>\n",
       "      <th>company</th>\n",
       "      <th>orgyear</th>\n",
       "      <th>ctc</th>\n",
       "      <th>ctc_updated_year</th>\n",
       "      <th>years_of_experience</th>\n",
       "      <th>job_position</th>\n",
       "      <th>count</th>\n",
       "      <th>mean</th>\n",
       "      <th>std</th>\n",
       "      <th>min</th>\n",
       "      <th>25%</th>\n",
       "      <th>50%</th>\n",
       "      <th>75%</th>\n",
       "      <th>max</th>\n",
       "    </tr>\n",
       "  </thead>\n",
       "  <tbody>\n",
       "    <tr>\n",
       "      <th>90779</th>\n",
       "      <td></td>\n",
       "      <td>2015.0</td>\n",
       "      <td>800000</td>\n",
       "      <td>2019.0</td>\n",
       "      <td>7.0</td>\n",
       "      <td>backend engineer</td>\n",
       "      <td>1.0</td>\n",
       "      <td>800000.0</td>\n",
       "      <td>NaN</td>\n",
       "      <td>800000.0</td>\n",
       "      <td>800000.0</td>\n",
       "      <td>800000.0</td>\n",
       "      <td>800000.0</td>\n",
       "      <td>800000.0</td>\n",
       "    </tr>\n",
       "    <tr>\n",
       "      <th>99537</th>\n",
       "      <td></td>\n",
       "      <td>2018.0</td>\n",
       "      <td>2000000</td>\n",
       "      <td>2018.0</td>\n",
       "      <td>4.0</td>\n",
       "      <td>data analyst</td>\n",
       "      <td>1.0</td>\n",
       "      <td>2000000.0</td>\n",
       "      <td>NaN</td>\n",
       "      <td>2000000.0</td>\n",
       "      <td>2000000.0</td>\n",
       "      <td>2000000.0</td>\n",
       "      <td>2000000.0</td>\n",
       "      <td>2000000.0</td>\n",
       "    </tr>\n",
       "    <tr>\n",
       "      <th>133783</th>\n",
       "      <td></td>\n",
       "      <td>2019.0</td>\n",
       "      <td>2000000</td>\n",
       "      <td>2019.0</td>\n",
       "      <td>3.0</td>\n",
       "      <td>data scientist</td>\n",
       "      <td>2.0</td>\n",
       "      <td>1455000.0</td>\n",
       "      <td>770746.391493</td>\n",
       "      <td>910000.0</td>\n",
       "      <td>1182500.0</td>\n",
       "      <td>1455000.0</td>\n",
       "      <td>1727500.0</td>\n",
       "      <td>2000000.0</td>\n",
       "    </tr>\n",
       "    <tr>\n",
       "      <th>35682</th>\n",
       "      <td></td>\n",
       "      <td>2011.0</td>\n",
       "      <td>910000</td>\n",
       "      <td>2019.0</td>\n",
       "      <td>11.0</td>\n",
       "      <td>data scientist</td>\n",
       "      <td>2.0</td>\n",
       "      <td>1455000.0</td>\n",
       "      <td>770746.391493</td>\n",
       "      <td>910000.0</td>\n",
       "      <td>1182500.0</td>\n",
       "      <td>1455000.0</td>\n",
       "      <td>1727500.0</td>\n",
       "      <td>2000000.0</td>\n",
       "    </tr>\n",
       "    <tr>\n",
       "      <th>67236</th>\n",
       "      <td></td>\n",
       "      <td>2019.0</td>\n",
       "      <td>500000</td>\n",
       "      <td>2019.0</td>\n",
       "      <td>3.0</td>\n",
       "      <td>database administrator</td>\n",
       "      <td>1.0</td>\n",
       "      <td>500000.0</td>\n",
       "      <td>NaN</td>\n",
       "      <td>500000.0</td>\n",
       "      <td>500000.0</td>\n",
       "      <td>500000.0</td>\n",
       "      <td>500000.0</td>\n",
       "      <td>500000.0</td>\n",
       "    </tr>\n",
       "    <tr>\n",
       "      <th>...</th>\n",
       "      <td>...</td>\n",
       "      <td>...</td>\n",
       "      <td>...</td>\n",
       "      <td>...</td>\n",
       "      <td>...</td>\n",
       "      <td>...</td>\n",
       "      <td>...</td>\n",
       "      <td>...</td>\n",
       "      <td>...</td>\n",
       "      <td>...</td>\n",
       "      <td>...</td>\n",
       "      <td>...</td>\n",
       "      <td>...</td>\n",
       "      <td>...</td>\n",
       "    </tr>\n",
       "    <tr>\n",
       "      <th>63155</th>\n",
       "      <td>zynga</td>\n",
       "      <td>2015.0</td>\n",
       "      <td>1700000</td>\n",
       "      <td>2019.0</td>\n",
       "      <td>7.0</td>\n",
       "      <td>ios engineer</td>\n",
       "      <td>1.0</td>\n",
       "      <td>1700000.0</td>\n",
       "      <td>NaN</td>\n",
       "      <td>1700000.0</td>\n",
       "      <td>1700000.0</td>\n",
       "      <td>1700000.0</td>\n",
       "      <td>1700000.0</td>\n",
       "      <td>1700000.0</td>\n",
       "    </tr>\n",
       "    <tr>\n",
       "      <th>30057</th>\n",
       "      <td>zynga</td>\n",
       "      <td>2018.0</td>\n",
       "      <td>2400000</td>\n",
       "      <td>2020.0</td>\n",
       "      <td>4.0</td>\n",
       "      <td>others</td>\n",
       "      <td>4.0</td>\n",
       "      <td>1725000.0</td>\n",
       "      <td>531507.290637</td>\n",
       "      <td>1300000.0</td>\n",
       "      <td>1300000.0</td>\n",
       "      <td>1600000.0</td>\n",
       "      <td>2025000.0</td>\n",
       "      <td>2400000.0</td>\n",
       "    </tr>\n",
       "    <tr>\n",
       "      <th>103299</th>\n",
       "      <td>zynga</td>\n",
       "      <td>2016.0</td>\n",
       "      <td>1900000</td>\n",
       "      <td>2019.0</td>\n",
       "      <td>6.0</td>\n",
       "      <td>others</td>\n",
       "      <td>4.0</td>\n",
       "      <td>1725000.0</td>\n",
       "      <td>531507.290637</td>\n",
       "      <td>1300000.0</td>\n",
       "      <td>1300000.0</td>\n",
       "      <td>1600000.0</td>\n",
       "      <td>2025000.0</td>\n",
       "      <td>2400000.0</td>\n",
       "    </tr>\n",
       "    <tr>\n",
       "      <th>51193</th>\n",
       "      <td>zynga</td>\n",
       "      <td>2015.0</td>\n",
       "      <td>1300000</td>\n",
       "      <td>2015.0</td>\n",
       "      <td>7.0</td>\n",
       "      <td>others</td>\n",
       "      <td>4.0</td>\n",
       "      <td>1725000.0</td>\n",
       "      <td>531507.290637</td>\n",
       "      <td>1300000.0</td>\n",
       "      <td>1300000.0</td>\n",
       "      <td>1600000.0</td>\n",
       "      <td>2025000.0</td>\n",
       "      <td>2400000.0</td>\n",
       "    </tr>\n",
       "    <tr>\n",
       "      <th>113925</th>\n",
       "      <td>zynga</td>\n",
       "      <td>2013.0</td>\n",
       "      <td>1300000</td>\n",
       "      <td>2015.0</td>\n",
       "      <td>9.0</td>\n",
       "      <td>others</td>\n",
       "      <td>4.0</td>\n",
       "      <td>1725000.0</td>\n",
       "      <td>531507.290637</td>\n",
       "      <td>1300000.0</td>\n",
       "      <td>1300000.0</td>\n",
       "      <td>1600000.0</td>\n",
       "      <td>2025000.0</td>\n",
       "      <td>2400000.0</td>\n",
       "    </tr>\n",
       "  </tbody>\n",
       "</table>\n",
       "<p>140841 rows × 14 columns</p>\n",
       "</div>"
      ],
      "text/plain": [
       "       company  orgyear      ctc  ctc_updated_year  years_of_experience  \\\n",
       "90779            2015.0   800000            2019.0                  7.0   \n",
       "99537            2018.0  2000000            2018.0                  4.0   \n",
       "133783           2019.0  2000000            2019.0                  3.0   \n",
       "35682            2011.0   910000            2019.0                 11.0   \n",
       "67236            2019.0   500000            2019.0                  3.0   \n",
       "...        ...      ...      ...               ...                  ...   \n",
       "63155    zynga   2015.0  1700000            2019.0                  7.0   \n",
       "30057    zynga   2018.0  2400000            2020.0                  4.0   \n",
       "103299   zynga   2016.0  1900000            2019.0                  6.0   \n",
       "51193    zynga   2015.0  1300000            2015.0                  7.0   \n",
       "113925   zynga   2013.0  1300000            2015.0                  9.0   \n",
       "\n",
       "                  job_position  count       mean            std        min  \\\n",
       "90779         backend engineer    1.0   800000.0            NaN   800000.0   \n",
       "99537             data analyst    1.0  2000000.0            NaN  2000000.0   \n",
       "133783          data scientist    2.0  1455000.0  770746.391493   910000.0   \n",
       "35682           data scientist    2.0  1455000.0  770746.391493   910000.0   \n",
       "67236   database administrator    1.0   500000.0            NaN   500000.0   \n",
       "...                        ...    ...        ...            ...        ...   \n",
       "63155             ios engineer    1.0  1700000.0            NaN  1700000.0   \n",
       "30057                   others    4.0  1725000.0  531507.290637  1300000.0   \n",
       "103299                  others    4.0  1725000.0  531507.290637  1300000.0   \n",
       "51193                   others    4.0  1725000.0  531507.290637  1300000.0   \n",
       "113925                  others    4.0  1725000.0  531507.290637  1300000.0   \n",
       "\n",
       "              25%        50%        75%        max  \n",
       "90779    800000.0   800000.0   800000.0   800000.0  \n",
       "99537   2000000.0  2000000.0  2000000.0  2000000.0  \n",
       "133783  1182500.0  1455000.0  1727500.0  2000000.0  \n",
       "35682   1182500.0  1455000.0  1727500.0  2000000.0  \n",
       "67236    500000.0   500000.0   500000.0   500000.0  \n",
       "...           ...        ...        ...        ...  \n",
       "63155   1700000.0  1700000.0  1700000.0  1700000.0  \n",
       "30057   1300000.0  1600000.0  2025000.0  2400000.0  \n",
       "103299  1300000.0  1600000.0  2025000.0  2400000.0  \n",
       "51193   1300000.0  1600000.0  2025000.0  2400000.0  \n",
       "113925  1300000.0  1600000.0  2025000.0  2400000.0  \n",
       "\n",
       "[140841 rows x 14 columns]"
      ]
     },
     "execution_count": 69,
     "metadata": {},
     "output_type": "execute_result"
    }
   ],
   "source": [
    "df_cj.sort_values(['company','job_position','years_of_experience'])\n",
    "# [df_cj.sort_values(['company','job_position','years_of_experience'])['company']=='Amazon'][:2]\n",
    "# df_cj.sort_values(['company','job_position','years_of_experience'])[df_cj.sort_values(['company','job_position','years_of_experience'])['company']=='Amazon'][:2]"
   ]
  },
  {
   "cell_type": "code",
   "execution_count": 70,
   "id": "b99e1038",
   "metadata": {
    "colab": {
     "base_uri": "https://localhost:8080/"
    },
    "id": "b99e1038",
    "outputId": "f1573228-5916-4a73-fa38-25995e657101"
   },
   "outputs": [
    {
     "data": {
      "text/plain": [
       "(140841, 14)"
      ]
     },
     "execution_count": 70,
     "metadata": {},
     "output_type": "execute_result"
    }
   ],
   "source": [
    "df_cj.shape"
   ]
  },
  {
   "cell_type": "code",
   "execution_count": 71,
   "id": "8bdb74d4",
   "metadata": {
    "colab": {
     "base_uri": "https://localhost:8080/"
    },
    "id": "8bdb74d4",
    "outputId": "c8439fd8-e2e0-4e5b-a2a3-c9ba55b6aaea"
   },
   "outputs": [],
   "source": [
    "df_cj.drop_duplicates(inplace=True)"
   ]
  },
  {
   "cell_type": "code",
   "execution_count": 72,
   "id": "9e99606a",
   "metadata": {},
   "outputs": [
    {
     "data": {
      "text/plain": [
       "(140841, 14)"
      ]
     },
     "execution_count": 72,
     "metadata": {},
     "output_type": "execute_result"
    }
   ],
   "source": [
    "df_cj.shape"
   ]
  },
  {
   "cell_type": "markdown",
   "id": "Fgvi7KyWhie9",
   "metadata": {
    "id": "Fgvi7KyWhie9"
   },
   "source": [
    "### Creating Class basis on the salary they are getting in their respective company"
   ]
  },
  {
   "cell_type": "code",
   "execution_count": 73,
   "id": "qFf6N0RChYBI",
   "metadata": {
    "id": "qFf6N0RChYBI"
   },
   "outputs": [],
   "source": [
    "def condition_classs(a,b_50,b_75):\n",
    "    if a<b_50:\n",
    "        return 3\n",
    "    elif a>=b_50 and a<=b_75:\n",
    "        return 2\n",
    "    \n",
    "    elif a>=b_75:\n",
    "        return 1\n",
    "        "
   ]
  },
  {
   "cell_type": "code",
   "execution_count": 74,
   "id": "PR-eLhXVhouP",
   "metadata": {
    "id": "PR-eLhXVhouP"
   },
   "outputs": [],
   "source": [
    "df_cj['classs'] =df_cj.apply(lambda x: condition_classs(x['ctc'],x['50%'],x['75%']),axis=1)"
   ]
  },
  {
   "cell_type": "code",
   "execution_count": 75,
   "id": "9KPtS_3AhuO-",
   "metadata": {
    "colab": {
     "base_uri": "https://localhost:8080/",
     "height": 626
    },
    "id": "9KPtS_3AhuO-",
    "outputId": "40f7cd01-59d6-464a-efdf-00a2e3978072"
   },
   "outputs": [
    {
     "data": {
      "text/html": [
       "<div>\n",
       "<style scoped>\n",
       "    .dataframe tbody tr th:only-of-type {\n",
       "        vertical-align: middle;\n",
       "    }\n",
       "\n",
       "    .dataframe tbody tr th {\n",
       "        vertical-align: top;\n",
       "    }\n",
       "\n",
       "    .dataframe thead th {\n",
       "        text-align: right;\n",
       "    }\n",
       "</style>\n",
       "<table border=\"1\" class=\"dataframe\">\n",
       "  <thead>\n",
       "    <tr style=\"text-align: right;\">\n",
       "      <th></th>\n",
       "      <th>company</th>\n",
       "      <th>orgyear</th>\n",
       "      <th>ctc</th>\n",
       "      <th>ctc_updated_year</th>\n",
       "      <th>years_of_experience</th>\n",
       "      <th>job_position</th>\n",
       "      <th>count</th>\n",
       "      <th>mean</th>\n",
       "      <th>std</th>\n",
       "      <th>min</th>\n",
       "      <th>25%</th>\n",
       "      <th>50%</th>\n",
       "      <th>75%</th>\n",
       "      <th>max</th>\n",
       "      <th>classs</th>\n",
       "    </tr>\n",
       "  </thead>\n",
       "  <tbody>\n",
       "    <tr>\n",
       "      <th>0</th>\n",
       "      <td>deloitte india</td>\n",
       "      <td>2016.0</td>\n",
       "      <td>1100000</td>\n",
       "      <td>2020.0</td>\n",
       "      <td>6.0</td>\n",
       "      <td>others</td>\n",
       "      <td>2.0</td>\n",
       "      <td>1.085000e+06</td>\n",
       "      <td>2.121320e+04</td>\n",
       "      <td>1070000.0</td>\n",
       "      <td>1077500.0</td>\n",
       "      <td>1085000.0</td>\n",
       "      <td>1092500.0</td>\n",
       "      <td>1100000.0</td>\n",
       "      <td>1</td>\n",
       "    </tr>\n",
       "    <tr>\n",
       "      <th>1</th>\n",
       "      <td>reliance infocomm limited</td>\n",
       "      <td>2018.0</td>\n",
       "      <td>449999</td>\n",
       "      <td>2019.0</td>\n",
       "      <td>4.0</td>\n",
       "      <td>fullstack devloper</td>\n",
       "      <td>25.0</td>\n",
       "      <td>9.882000e+05</td>\n",
       "      <td>4.874998e+05</td>\n",
       "      <td>300000.0</td>\n",
       "      <td>600000.0</td>\n",
       "      <td>850000.0</td>\n",
       "      <td>1380000.0</td>\n",
       "      <td>2000000.0</td>\n",
       "      <td>3</td>\n",
       "    </tr>\n",
       "    <tr>\n",
       "      <th>2</th>\n",
       "      <td>Others</td>\n",
       "      <td>2015.0</td>\n",
       "      <td>2000000</td>\n",
       "      <td>2020.0</td>\n",
       "      <td>7.0</td>\n",
       "      <td>backend engineer</td>\n",
       "      <td>3876.0</td>\n",
       "      <td>1.001486e+06</td>\n",
       "      <td>8.125128e+05</td>\n",
       "      <td>1000.0</td>\n",
       "      <td>300000.0</td>\n",
       "      <td>830000.0</td>\n",
       "      <td>1530000.0</td>\n",
       "      <td>3300000.0</td>\n",
       "      <td>1</td>\n",
       "    </tr>\n",
       "    <tr>\n",
       "      <th>3</th>\n",
       "      <td>tokopedia</td>\n",
       "      <td>2017.0</td>\n",
       "      <td>700000</td>\n",
       "      <td>2019.0</td>\n",
       "      <td>5.0</td>\n",
       "      <td>backend engineer</td>\n",
       "      <td>24.0</td>\n",
       "      <td>1.416667e+06</td>\n",
       "      <td>5.453413e+05</td>\n",
       "      <td>520000.0</td>\n",
       "      <td>1047500.0</td>\n",
       "      <td>1375000.0</td>\n",
       "      <td>1792500.0</td>\n",
       "      <td>2600000.0</td>\n",
       "      <td>3</td>\n",
       "    </tr>\n",
       "    <tr>\n",
       "      <th>4</th>\n",
       "      <td>rift group</td>\n",
       "      <td>2017.0</td>\n",
       "      <td>1400000</td>\n",
       "      <td>2019.0</td>\n",
       "      <td>5.0</td>\n",
       "      <td>fullstack devloper</td>\n",
       "      <td>3.0</td>\n",
       "      <td>8.466667e+05</td>\n",
       "      <td>4.801389e+05</td>\n",
       "      <td>540000.0</td>\n",
       "      <td>570000.0</td>\n",
       "      <td>600000.0</td>\n",
       "      <td>1000000.0</td>\n",
       "      <td>1400000.0</td>\n",
       "      <td>1</td>\n",
       "    </tr>\n",
       "    <tr>\n",
       "      <th>...</th>\n",
       "      <td>...</td>\n",
       "      <td>...</td>\n",
       "      <td>...</td>\n",
       "      <td>...</td>\n",
       "      <td>...</td>\n",
       "      <td>...</td>\n",
       "      <td>...</td>\n",
       "      <td>...</td>\n",
       "      <td>...</td>\n",
       "      <td>...</td>\n",
       "      <td>...</td>\n",
       "      <td>...</td>\n",
       "      <td>...</td>\n",
       "      <td>...</td>\n",
       "      <td>...</td>\n",
       "    </tr>\n",
       "    <tr>\n",
       "      <th>140836</th>\n",
       "      <td>barclays</td>\n",
       "      <td>2011.0</td>\n",
       "      <td>2250000</td>\n",
       "      <td>2019.0</td>\n",
       "      <td>11.0</td>\n",
       "      <td>others</td>\n",
       "      <td>64.0</td>\n",
       "      <td>1.259969e+06</td>\n",
       "      <td>5.777488e+05</td>\n",
       "      <td>500000.0</td>\n",
       "      <td>800000.0</td>\n",
       "      <td>1020000.0</td>\n",
       "      <td>1607500.0</td>\n",
       "      <td>3200000.0</td>\n",
       "      <td>1</td>\n",
       "    </tr>\n",
       "    <tr>\n",
       "      <th>140837</th>\n",
       "      <td>apple inc</td>\n",
       "      <td>2008.0</td>\n",
       "      <td>220000</td>\n",
       "      <td>2019.0</td>\n",
       "      <td>14.0</td>\n",
       "      <td>others</td>\n",
       "      <td>16.0</td>\n",
       "      <td>1.568312e+06</td>\n",
       "      <td>1.231984e+06</td>\n",
       "      <td>60000.0</td>\n",
       "      <td>216250.0</td>\n",
       "      <td>2275000.0</td>\n",
       "      <td>2550000.0</td>\n",
       "      <td>3000000.0</td>\n",
       "      <td>3</td>\n",
       "    </tr>\n",
       "    <tr>\n",
       "      <th>140838</th>\n",
       "      <td>upgradcom</td>\n",
       "      <td>2017.0</td>\n",
       "      <td>500000</td>\n",
       "      <td>2020.0</td>\n",
       "      <td>5.0</td>\n",
       "      <td>others</td>\n",
       "      <td>61.0</td>\n",
       "      <td>1.149180e+06</td>\n",
       "      <td>4.866254e+05</td>\n",
       "      <td>400000.0</td>\n",
       "      <td>800000.0</td>\n",
       "      <td>1000000.0</td>\n",
       "      <td>1450000.0</td>\n",
       "      <td>2400000.0</td>\n",
       "      <td>3</td>\n",
       "    </tr>\n",
       "    <tr>\n",
       "      <th>140839</th>\n",
       "      <td>accolite</td>\n",
       "      <td>2021.0</td>\n",
       "      <td>700000</td>\n",
       "      <td>2021.0</td>\n",
       "      <td>1.0</td>\n",
       "      <td>others</td>\n",
       "      <td>38.0</td>\n",
       "      <td>1.221395e+06</td>\n",
       "      <td>5.482048e+05</td>\n",
       "      <td>300000.0</td>\n",
       "      <td>812500.0</td>\n",
       "      <td>1175000.0</td>\n",
       "      <td>1460000.0</td>\n",
       "      <td>2700000.0</td>\n",
       "      <td>3</td>\n",
       "    </tr>\n",
       "    <tr>\n",
       "      <th>140840</th>\n",
       "      <td>morgan stanley</td>\n",
       "      <td>2014.0</td>\n",
       "      <td>1240000</td>\n",
       "      <td>2016.0</td>\n",
       "      <td>8.0</td>\n",
       "      <td>others</td>\n",
       "      <td>126.0</td>\n",
       "      <td>1.806436e+06</td>\n",
       "      <td>6.716000e+05</td>\n",
       "      <td>100000.0</td>\n",
       "      <td>1500000.0</td>\n",
       "      <td>1800000.0</td>\n",
       "      <td>2200000.0</td>\n",
       "      <td>3250000.0</td>\n",
       "      <td>3</td>\n",
       "    </tr>\n",
       "  </tbody>\n",
       "</table>\n",
       "<p>140841 rows × 15 columns</p>\n",
       "</div>"
      ],
      "text/plain": [
       "                          company  orgyear      ctc  ctc_updated_year  \\\n",
       "0                  deloitte india   2016.0  1100000            2020.0   \n",
       "1       reliance infocomm limited   2018.0   449999            2019.0   \n",
       "2                          Others   2015.0  2000000            2020.0   \n",
       "3                       tokopedia   2017.0   700000            2019.0   \n",
       "4                      rift group   2017.0  1400000            2019.0   \n",
       "...                           ...      ...      ...               ...   \n",
       "140836                   barclays   2011.0  2250000            2019.0   \n",
       "140837                  apple inc   2008.0   220000            2019.0   \n",
       "140838                  upgradcom   2017.0   500000            2020.0   \n",
       "140839                   accolite   2021.0   700000            2021.0   \n",
       "140840             morgan stanley   2014.0  1240000            2016.0   \n",
       "\n",
       "        years_of_experience        job_position   count          mean  \\\n",
       "0                       6.0              others     2.0  1.085000e+06   \n",
       "1                       4.0  fullstack devloper    25.0  9.882000e+05   \n",
       "2                       7.0    backend engineer  3876.0  1.001486e+06   \n",
       "3                       5.0    backend engineer    24.0  1.416667e+06   \n",
       "4                       5.0  fullstack devloper     3.0  8.466667e+05   \n",
       "...                     ...                 ...     ...           ...   \n",
       "140836                 11.0              others    64.0  1.259969e+06   \n",
       "140837                 14.0              others    16.0  1.568312e+06   \n",
       "140838                  5.0              others    61.0  1.149180e+06   \n",
       "140839                  1.0              others    38.0  1.221395e+06   \n",
       "140840                  8.0              others   126.0  1.806436e+06   \n",
       "\n",
       "                 std        min        25%        50%        75%        max  \\\n",
       "0       2.121320e+04  1070000.0  1077500.0  1085000.0  1092500.0  1100000.0   \n",
       "1       4.874998e+05   300000.0   600000.0   850000.0  1380000.0  2000000.0   \n",
       "2       8.125128e+05     1000.0   300000.0   830000.0  1530000.0  3300000.0   \n",
       "3       5.453413e+05   520000.0  1047500.0  1375000.0  1792500.0  2600000.0   \n",
       "4       4.801389e+05   540000.0   570000.0   600000.0  1000000.0  1400000.0   \n",
       "...              ...        ...        ...        ...        ...        ...   \n",
       "140836  5.777488e+05   500000.0   800000.0  1020000.0  1607500.0  3200000.0   \n",
       "140837  1.231984e+06    60000.0   216250.0  2275000.0  2550000.0  3000000.0   \n",
       "140838  4.866254e+05   400000.0   800000.0  1000000.0  1450000.0  2400000.0   \n",
       "140839  5.482048e+05   300000.0   812500.0  1175000.0  1460000.0  2700000.0   \n",
       "140840  6.716000e+05   100000.0  1500000.0  1800000.0  2200000.0  3250000.0   \n",
       "\n",
       "        classs  \n",
       "0            1  \n",
       "1            3  \n",
       "2            1  \n",
       "3            3  \n",
       "4            1  \n",
       "...        ...  \n",
       "140836       1  \n",
       "140837       3  \n",
       "140838       3  \n",
       "140839       3  \n",
       "140840       3  \n",
       "\n",
       "[140841 rows x 15 columns]"
      ]
     },
     "execution_count": 75,
     "metadata": {},
     "output_type": "execute_result"
    }
   ],
   "source": [
    "df_cj"
   ]
  },
  {
   "cell_type": "code",
   "execution_count": 76,
   "id": "DehJC1QThxWK",
   "metadata": {
    "colab": {
     "base_uri": "https://localhost:8080/"
    },
    "id": "DehJC1QThxWK",
    "outputId": "840874e4-9116-40f7-922c-fa7fd758b30d"
   },
   "outputs": [
    {
     "data": {
      "text/plain": [
       "3    44.073814\n",
       "2    31.475210\n",
       "1    24.450977\n",
       "Name: classs, dtype: float64"
      ]
     },
     "execution_count": 76,
     "metadata": {},
     "output_type": "execute_result"
    }
   ],
   "source": [
    "df_cj.classs.value_counts(normalize=True)*100"
   ]
  },
  {
   "cell_type": "code",
   "execution_count": 77,
   "id": "83a7d7da",
   "metadata": {},
   "outputs": [],
   "source": [
    "#insight"
   ]
  },
  {
   "cell_type": "code",
   "execution_count": 78,
   "id": "e5d5bbdd",
   "metadata": {
    "scrolled": true
   },
   "outputs": [
    {
     "data": {
      "text/html": [
       "<div>\n",
       "<style scoped>\n",
       "    .dataframe tbody tr th:only-of-type {\n",
       "        vertical-align: middle;\n",
       "    }\n",
       "\n",
       "    .dataframe tbody tr th {\n",
       "        vertical-align: top;\n",
       "    }\n",
       "\n",
       "    .dataframe thead th {\n",
       "        text-align: right;\n",
       "    }\n",
       "</style>\n",
       "<table border=\"1\" class=\"dataframe\">\n",
       "  <thead>\n",
       "    <tr style=\"text-align: right;\">\n",
       "      <th></th>\n",
       "      <th>count</th>\n",
       "      <th>mean</th>\n",
       "      <th>std</th>\n",
       "      <th>min</th>\n",
       "      <th>25%</th>\n",
       "      <th>50%</th>\n",
       "      <th>75%</th>\n",
       "      <th>max</th>\n",
       "    </tr>\n",
       "    <tr>\n",
       "      <th>job_position</th>\n",
       "      <th></th>\n",
       "      <th></th>\n",
       "      <th></th>\n",
       "      <th></th>\n",
       "      <th></th>\n",
       "      <th></th>\n",
       "      <th></th>\n",
       "      <th></th>\n",
       "    </tr>\n",
       "  </thead>\n",
       "  <tbody>\n",
       "    <tr>\n",
       "      <th>others</th>\n",
       "      <td>10218.0</td>\n",
       "      <td>1.914802e+06</td>\n",
       "      <td>694753.152926</td>\n",
       "      <td>100000.0</td>\n",
       "      <td>1400000.0</td>\n",
       "      <td>1900000.0</td>\n",
       "      <td>2500000.0</td>\n",
       "      <td>3330000.0</td>\n",
       "    </tr>\n",
       "    <tr>\n",
       "      <th>backend engineer</th>\n",
       "      <td>8141.0</td>\n",
       "      <td>2.062763e+06</td>\n",
       "      <td>687519.050387</td>\n",
       "      <td>30000.0</td>\n",
       "      <td>1550000.0</td>\n",
       "      <td>2000000.0</td>\n",
       "      <td>2600000.0</td>\n",
       "      <td>3330000.0</td>\n",
       "    </tr>\n",
       "    <tr>\n",
       "      <th>fullstack devloper</th>\n",
       "      <td>4737.0</td>\n",
       "      <td>1.844218e+06</td>\n",
       "      <td>688705.831941</td>\n",
       "      <td>59000.0</td>\n",
       "      <td>1350000.0</td>\n",
       "      <td>1750000.0</td>\n",
       "      <td>2360000.0</td>\n",
       "      <td>3330000.0</td>\n",
       "    </tr>\n",
       "    <tr>\n",
       "      <th>frontend developer</th>\n",
       "      <td>2001.0</td>\n",
       "      <td>1.668149e+06</td>\n",
       "      <td>631746.759730</td>\n",
       "      <td>90000.0</td>\n",
       "      <td>1210000.0</td>\n",
       "      <td>1550000.0</td>\n",
       "      <td>2030000.0</td>\n",
       "      <td>3300000.0</td>\n",
       "    </tr>\n",
       "    <tr>\n",
       "      <th>qa engineer</th>\n",
       "      <td>1264.0</td>\n",
       "      <td>1.393021e+06</td>\n",
       "      <td>629618.259158</td>\n",
       "      <td>65000.0</td>\n",
       "      <td>900000.0</td>\n",
       "      <td>1250000.0</td>\n",
       "      <td>1707500.0</td>\n",
       "      <td>3300000.0</td>\n",
       "    </tr>\n",
       "    <tr>\n",
       "      <th>data scientist</th>\n",
       "      <td>1014.0</td>\n",
       "      <td>2.004372e+06</td>\n",
       "      <td>657171.138374</td>\n",
       "      <td>115000.0</td>\n",
       "      <td>1600000.0</td>\n",
       "      <td>2000000.0</td>\n",
       "      <td>2500000.0</td>\n",
       "      <td>3310000.0</td>\n",
       "    </tr>\n",
       "    <tr>\n",
       "      <th>software developer 1</th>\n",
       "      <td>999.0</td>\n",
       "      <td>1.559613e+06</td>\n",
       "      <td>720478.817144</td>\n",
       "      <td>140000.0</td>\n",
       "      <td>900000.0</td>\n",
       "      <td>1450000.0</td>\n",
       "      <td>2000000.0</td>\n",
       "      <td>3329999.0</td>\n",
       "    </tr>\n",
       "    <tr>\n",
       "      <th>devops engineer</th>\n",
       "      <td>927.0</td>\n",
       "      <td>1.750345e+06</td>\n",
       "      <td>626199.257910</td>\n",
       "      <td>400000.0</td>\n",
       "      <td>1300000.0</td>\n",
       "      <td>1670000.0</td>\n",
       "      <td>2137500.0</td>\n",
       "      <td>3300000.0</td>\n",
       "    </tr>\n",
       "    <tr>\n",
       "      <th>android engineer</th>\n",
       "      <td>914.0</td>\n",
       "      <td>1.784936e+06</td>\n",
       "      <td>638355.947537</td>\n",
       "      <td>14000.0</td>\n",
       "      <td>1320000.0</td>\n",
       "      <td>1700000.0</td>\n",
       "      <td>2200000.0</td>\n",
       "      <td>3300000.0</td>\n",
       "    </tr>\n",
       "    <tr>\n",
       "      <th>engineering leadership</th>\n",
       "      <td>780.0</td>\n",
       "      <td>2.544358e+06</td>\n",
       "      <td>584769.872493</td>\n",
       "      <td>124000.0</td>\n",
       "      <td>2292500.0</td>\n",
       "      <td>2650000.0</td>\n",
       "      <td>3000000.0</td>\n",
       "      <td>3320000.0</td>\n",
       "    </tr>\n",
       "  </tbody>\n",
       "</table>\n",
       "</div>"
      ],
      "text/plain": [
       "                          count          mean            std       min  \\\n",
       "job_position                                                             \n",
       "others                  10218.0  1.914802e+06  694753.152926  100000.0   \n",
       "backend engineer         8141.0  2.062763e+06  687519.050387   30000.0   \n",
       "fullstack devloper       4737.0  1.844218e+06  688705.831941   59000.0   \n",
       "frontend developer       2001.0  1.668149e+06  631746.759730   90000.0   \n",
       "qa engineer              1264.0  1.393021e+06  629618.259158   65000.0   \n",
       "data scientist           1014.0  2.004372e+06  657171.138374  115000.0   \n",
       "software developer 1      999.0  1.559613e+06  720478.817144  140000.0   \n",
       "devops engineer           927.0  1.750345e+06  626199.257910  400000.0   \n",
       "android engineer          914.0  1.784936e+06  638355.947537   14000.0   \n",
       "engineering leadership    780.0  2.544358e+06  584769.872493  124000.0   \n",
       "\n",
       "                              25%        50%        75%        max  \n",
       "job_position                                                        \n",
       "others                  1400000.0  1900000.0  2500000.0  3330000.0  \n",
       "backend engineer        1550000.0  2000000.0  2600000.0  3330000.0  \n",
       "fullstack devloper      1350000.0  1750000.0  2360000.0  3330000.0  \n",
       "frontend developer      1210000.0  1550000.0  2030000.0  3300000.0  \n",
       "qa engineer              900000.0  1250000.0  1707500.0  3300000.0  \n",
       "data scientist          1600000.0  2000000.0  2500000.0  3310000.0  \n",
       "software developer 1     900000.0  1450000.0  2000000.0  3329999.0  \n",
       "devops engineer         1300000.0  1670000.0  2137500.0  3300000.0  \n",
       "android engineer        1320000.0  1700000.0  2200000.0  3300000.0  \n",
       "engineering leadership  2292500.0  2650000.0  3000000.0  3320000.0  "
      ]
     },
     "execution_count": 78,
     "metadata": {},
     "output_type": "execute_result"
    }
   ],
   "source": [
    "# job position that has the highest class\n",
    "df_cj[df_cj['classs']==1][['job_position','ctc']].groupby('job_position')['ctc'].describe().sort_values(by=['count','mean'],ascending=False)[:10]"
   ]
  },
  {
   "cell_type": "code",
   "execution_count": 79,
   "id": "1ea1d5a5",
   "metadata": {
    "colab": {
     "base_uri": "https://localhost:8080/",
     "height": 354
    },
    "id": "1ea1d5a5",
    "outputId": "0b9e6fd7-ef05-4fb2-d89d-a3a48b72f7a6"
   },
   "outputs": [
    {
     "data": {
      "text/html": [
       "<div>\n",
       "<style scoped>\n",
       "    .dataframe tbody tr th:only-of-type {\n",
       "        vertical-align: middle;\n",
       "    }\n",
       "\n",
       "    .dataframe tbody tr th {\n",
       "        vertical-align: top;\n",
       "    }\n",
       "\n",
       "    .dataframe thead th {\n",
       "        text-align: right;\n",
       "    }\n",
       "</style>\n",
       "<table border=\"1\" class=\"dataframe\">\n",
       "  <thead>\n",
       "    <tr style=\"text-align: right;\">\n",
       "      <th></th>\n",
       "      <th>company</th>\n",
       "      <th>orgyear</th>\n",
       "      <th>ctc</th>\n",
       "      <th>ctc_updated_year</th>\n",
       "      <th>years_of_experience</th>\n",
       "      <th>job_position</th>\n",
       "      <th>count</th>\n",
       "      <th>mean</th>\n",
       "      <th>std</th>\n",
       "      <th>min</th>\n",
       "      <th>25%</th>\n",
       "      <th>50%</th>\n",
       "      <th>75%</th>\n",
       "      <th>max</th>\n",
       "      <th>designation</th>\n",
       "    </tr>\n",
       "  </thead>\n",
       "  <tbody>\n",
       "    <tr>\n",
       "      <th>0</th>\n",
       "      <td>deloitte india</td>\n",
       "      <td>2016.0</td>\n",
       "      <td>1100000</td>\n",
       "      <td>2020.0</td>\n",
       "      <td>6.0</td>\n",
       "      <td>others</td>\n",
       "      <td>1.0</td>\n",
       "      <td>1.100000e+06</td>\n",
       "      <td>NaN</td>\n",
       "      <td>1100000.0</td>\n",
       "      <td>1100000.0</td>\n",
       "      <td>1100000.0</td>\n",
       "      <td>1100000.0</td>\n",
       "      <td>1100000.0</td>\n",
       "      <td>2</td>\n",
       "    </tr>\n",
       "    <tr>\n",
       "      <th>1</th>\n",
       "      <td>reliance infocomm limited</td>\n",
       "      <td>2018.0</td>\n",
       "      <td>449999</td>\n",
       "      <td>2019.0</td>\n",
       "      <td>4.0</td>\n",
       "      <td>fullstack devloper</td>\n",
       "      <td>7.0</td>\n",
       "      <td>7.742856e+05</td>\n",
       "      <td>250922.324350</td>\n",
       "      <td>449999.0</td>\n",
       "      <td>610000.0</td>\n",
       "      <td>750000.0</td>\n",
       "      <td>900000.0</td>\n",
       "      <td>1200000.0</td>\n",
       "      <td>3</td>\n",
       "    </tr>\n",
       "    <tr>\n",
       "      <th>2</th>\n",
       "      <td>Others</td>\n",
       "      <td>2015.0</td>\n",
       "      <td>2000000</td>\n",
       "      <td>2020.0</td>\n",
       "      <td>7.0</td>\n",
       "      <td>backend engineer</td>\n",
       "      <td>456.0</td>\n",
       "      <td>9.609559e+05</td>\n",
       "      <td>776546.830662</td>\n",
       "      <td>1000.0</td>\n",
       "      <td>307500.0</td>\n",
       "      <td>800000.0</td>\n",
       "      <td>1435000.0</td>\n",
       "      <td>3200000.0</td>\n",
       "      <td>1</td>\n",
       "    </tr>\n",
       "    <tr>\n",
       "      <th>3</th>\n",
       "      <td>tokopedia</td>\n",
       "      <td>2017.0</td>\n",
       "      <td>700000</td>\n",
       "      <td>2019.0</td>\n",
       "      <td>5.0</td>\n",
       "      <td>backend engineer</td>\n",
       "      <td>7.0</td>\n",
       "      <td>1.158571e+06</td>\n",
       "      <td>404780.951933</td>\n",
       "      <td>700000.0</td>\n",
       "      <td>825000.0</td>\n",
       "      <td>1200000.0</td>\n",
       "      <td>1405000.0</td>\n",
       "      <td>1750000.0</td>\n",
       "      <td>3</td>\n",
       "    </tr>\n",
       "    <tr>\n",
       "      <th>4</th>\n",
       "      <td>rift group</td>\n",
       "      <td>2017.0</td>\n",
       "      <td>1400000</td>\n",
       "      <td>2019.0</td>\n",
       "      <td>5.0</td>\n",
       "      <td>fullstack devloper</td>\n",
       "      <td>1.0</td>\n",
       "      <td>1.400000e+06</td>\n",
       "      <td>NaN</td>\n",
       "      <td>1400000.0</td>\n",
       "      <td>1400000.0</td>\n",
       "      <td>1400000.0</td>\n",
       "      <td>1400000.0</td>\n",
       "      <td>1400000.0</td>\n",
       "      <td>2</td>\n",
       "    </tr>\n",
       "  </tbody>\n",
       "</table>\n",
       "</div>"
      ],
      "text/plain": [
       "                     company  orgyear      ctc  ctc_updated_year  \\\n",
       "0             deloitte india   2016.0  1100000            2020.0   \n",
       "1  reliance infocomm limited   2018.0   449999            2019.0   \n",
       "2                     Others   2015.0  2000000            2020.0   \n",
       "3                  tokopedia   2017.0   700000            2019.0   \n",
       "4                 rift group   2017.0  1400000            2019.0   \n",
       "\n",
       "   years_of_experience        job_position  count          mean  \\\n",
       "0                  6.0              others    1.0  1.100000e+06   \n",
       "1                  4.0  fullstack devloper    7.0  7.742856e+05   \n",
       "2                  7.0    backend engineer  456.0  9.609559e+05   \n",
       "3                  5.0    backend engineer    7.0  1.158571e+06   \n",
       "4                  5.0  fullstack devloper    1.0  1.400000e+06   \n",
       "\n",
       "             std        min        25%        50%        75%        max  \\\n",
       "0            NaN  1100000.0  1100000.0  1100000.0  1100000.0  1100000.0   \n",
       "1  250922.324350   449999.0   610000.0   750000.0   900000.0  1200000.0   \n",
       "2  776546.830662     1000.0   307500.0   800000.0  1435000.0  3200000.0   \n",
       "3  404780.951933   700000.0   825000.0  1200000.0  1405000.0  1750000.0   \n",
       "4            NaN  1400000.0  1400000.0  1400000.0  1400000.0  1400000.0   \n",
       "\n",
       "   designation  \n",
       "0            2  \n",
       "1            3  \n",
       "2            1  \n",
       "3            3  \n",
       "4            2  "
      ]
     },
     "execution_count": 79,
     "metadata": {},
     "output_type": "execute_result"
    }
   ],
   "source": [
    "#########\n",
    "df_cjy.head()"
   ]
  },
  {
   "cell_type": "code",
   "execution_count": 80,
   "id": "bc74af21",
   "metadata": {
    "colab": {
     "base_uri": "https://localhost:8080/",
     "height": 337
    },
    "id": "bc74af21",
    "outputId": "36db13e5-a19f-413a-a49b-873165e0c9e2"
   },
   "outputs": [
    {
     "data": {
      "text/html": [
       "<div>\n",
       "<style scoped>\n",
       "    .dataframe tbody tr th:only-of-type {\n",
       "        vertical-align: middle;\n",
       "    }\n",
       "\n",
       "    .dataframe tbody tr th {\n",
       "        vertical-align: top;\n",
       "    }\n",
       "\n",
       "    .dataframe thead th {\n",
       "        text-align: right;\n",
       "    }\n",
       "</style>\n",
       "<table border=\"1\" class=\"dataframe\">\n",
       "  <thead>\n",
       "    <tr style=\"text-align: right;\">\n",
       "      <th></th>\n",
       "      <th>company</th>\n",
       "      <th>orgyear</th>\n",
       "      <th>ctc</th>\n",
       "      <th>ctc_updated_year</th>\n",
       "      <th>years_of_experience</th>\n",
       "      <th>job_position</th>\n",
       "      <th>count</th>\n",
       "      <th>mean</th>\n",
       "      <th>std</th>\n",
       "      <th>min</th>\n",
       "      <th>25%</th>\n",
       "      <th>50%</th>\n",
       "      <th>75%</th>\n",
       "      <th>max</th>\n",
       "      <th>classs</th>\n",
       "    </tr>\n",
       "  </thead>\n",
       "  <tbody>\n",
       "    <tr>\n",
       "      <th>0</th>\n",
       "      <td>deloitte india</td>\n",
       "      <td>2016.0</td>\n",
       "      <td>1100000</td>\n",
       "      <td>2020.0</td>\n",
       "      <td>6.0</td>\n",
       "      <td>others</td>\n",
       "      <td>2.0</td>\n",
       "      <td>1.085000e+06</td>\n",
       "      <td>21213.203436</td>\n",
       "      <td>1070000.0</td>\n",
       "      <td>1077500.0</td>\n",
       "      <td>1085000.0</td>\n",
       "      <td>1092500.0</td>\n",
       "      <td>1100000.0</td>\n",
       "      <td>1</td>\n",
       "    </tr>\n",
       "    <tr>\n",
       "      <th>1</th>\n",
       "      <td>reliance infocomm limited</td>\n",
       "      <td>2018.0</td>\n",
       "      <td>449999</td>\n",
       "      <td>2019.0</td>\n",
       "      <td>4.0</td>\n",
       "      <td>fullstack devloper</td>\n",
       "      <td>25.0</td>\n",
       "      <td>9.882000e+05</td>\n",
       "      <td>487499.789590</td>\n",
       "      <td>300000.0</td>\n",
       "      <td>600000.0</td>\n",
       "      <td>850000.0</td>\n",
       "      <td>1380000.0</td>\n",
       "      <td>2000000.0</td>\n",
       "      <td>3</td>\n",
       "    </tr>\n",
       "    <tr>\n",
       "      <th>2</th>\n",
       "      <td>Others</td>\n",
       "      <td>2015.0</td>\n",
       "      <td>2000000</td>\n",
       "      <td>2020.0</td>\n",
       "      <td>7.0</td>\n",
       "      <td>backend engineer</td>\n",
       "      <td>3876.0</td>\n",
       "      <td>1.001486e+06</td>\n",
       "      <td>812512.814387</td>\n",
       "      <td>1000.0</td>\n",
       "      <td>300000.0</td>\n",
       "      <td>830000.0</td>\n",
       "      <td>1530000.0</td>\n",
       "      <td>3300000.0</td>\n",
       "      <td>1</td>\n",
       "    </tr>\n",
       "    <tr>\n",
       "      <th>3</th>\n",
       "      <td>tokopedia</td>\n",
       "      <td>2017.0</td>\n",
       "      <td>700000</td>\n",
       "      <td>2019.0</td>\n",
       "      <td>5.0</td>\n",
       "      <td>backend engineer</td>\n",
       "      <td>24.0</td>\n",
       "      <td>1.416667e+06</td>\n",
       "      <td>545341.270627</td>\n",
       "      <td>520000.0</td>\n",
       "      <td>1047500.0</td>\n",
       "      <td>1375000.0</td>\n",
       "      <td>1792500.0</td>\n",
       "      <td>2600000.0</td>\n",
       "      <td>3</td>\n",
       "    </tr>\n",
       "    <tr>\n",
       "      <th>4</th>\n",
       "      <td>rift group</td>\n",
       "      <td>2017.0</td>\n",
       "      <td>1400000</td>\n",
       "      <td>2019.0</td>\n",
       "      <td>5.0</td>\n",
       "      <td>fullstack devloper</td>\n",
       "      <td>3.0</td>\n",
       "      <td>8.466667e+05</td>\n",
       "      <td>480138.868801</td>\n",
       "      <td>540000.0</td>\n",
       "      <td>570000.0</td>\n",
       "      <td>600000.0</td>\n",
       "      <td>1000000.0</td>\n",
       "      <td>1400000.0</td>\n",
       "      <td>1</td>\n",
       "    </tr>\n",
       "  </tbody>\n",
       "</table>\n",
       "</div>"
      ],
      "text/plain": [
       "                     company  orgyear      ctc  ctc_updated_year  \\\n",
       "0             deloitte india   2016.0  1100000            2020.0   \n",
       "1  reliance infocomm limited   2018.0   449999            2019.0   \n",
       "2                     Others   2015.0  2000000            2020.0   \n",
       "3                  tokopedia   2017.0   700000            2019.0   \n",
       "4                 rift group   2017.0  1400000            2019.0   \n",
       "\n",
       "   years_of_experience        job_position   count          mean  \\\n",
       "0                  6.0              others     2.0  1.085000e+06   \n",
       "1                  4.0  fullstack devloper    25.0  9.882000e+05   \n",
       "2                  7.0    backend engineer  3876.0  1.001486e+06   \n",
       "3                  5.0    backend engineer    24.0  1.416667e+06   \n",
       "4                  5.0  fullstack devloper     3.0  8.466667e+05   \n",
       "\n",
       "             std        min        25%        50%        75%        max  \\\n",
       "0   21213.203436  1070000.0  1077500.0  1085000.0  1092500.0  1100000.0   \n",
       "1  487499.789590   300000.0   600000.0   850000.0  1380000.0  2000000.0   \n",
       "2  812512.814387     1000.0   300000.0   830000.0  1530000.0  3300000.0   \n",
       "3  545341.270627   520000.0  1047500.0  1375000.0  1792500.0  2600000.0   \n",
       "4  480138.868801   540000.0   570000.0   600000.0  1000000.0  1400000.0   \n",
       "\n",
       "   classs  \n",
       "0       1  \n",
       "1       3  \n",
       "2       1  \n",
       "3       3  \n",
       "4       1  "
      ]
     },
     "execution_count": 80,
     "metadata": {},
     "output_type": "execute_result"
    }
   ],
   "source": [
    "df_cj.head()"
   ]
  },
  {
   "cell_type": "code",
   "execution_count": 81,
   "id": "c5d1a41e",
   "metadata": {},
   "outputs": [
    {
     "data": {
      "text/plain": [
       "(140841, 15)"
      ]
     },
     "execution_count": 81,
     "metadata": {},
     "output_type": "execute_result"
    }
   ],
   "source": [
    "df_cj.shape"
   ]
  },
  {
   "cell_type": "code",
   "execution_count": 82,
   "id": "d9f1f20d",
   "metadata": {},
   "outputs": [
    {
     "data": {
      "text/plain": [
       "(140841, 15)"
      ]
     },
     "execution_count": 82,
     "metadata": {},
     "output_type": "execute_result"
    }
   ],
   "source": [
    "df_cjy.shape"
   ]
  },
  {
   "cell_type": "code",
   "execution_count": 83,
   "id": "og-n2Wu10Yi-",
   "metadata": {
    "id": "og-n2Wu10Yi-"
   },
   "outputs": [],
   "source": [
    "df_cj.drop(columns=['count','mean','std','min','25%','50%','75%','max'],inplace=True)\n",
    "df_cjy.drop(columns=['count','mean','std','min','25%','50%','75%','max'],inplace=True)"
   ]
  },
  {
   "cell_type": "code",
   "execution_count": 84,
   "id": "5-9H_2LH0-Js",
   "metadata": {
    "colab": {
     "base_uri": "https://localhost:8080/"
    },
    "id": "5-9H_2LH0-Js",
    "outputId": "2c5e2bfb-2127-45ec-8d6a-1ccaa2bb2451"
   },
   "outputs": [
    {
     "data": {
      "text/plain": [
       "(140841, 7)"
      ]
     },
     "execution_count": 84,
     "metadata": {},
     "output_type": "execute_result"
    }
   ],
   "source": [
    "df_cj.drop_duplicates().shape"
   ]
  },
  {
   "cell_type": "code",
   "execution_count": 85,
   "id": "Y4HcDj7p0-OQ",
   "metadata": {
    "colab": {
     "base_uri": "https://localhost:8080/"
    },
    "id": "Y4HcDj7p0-OQ",
    "outputId": "92838780-8d4a-4c59-a09c-3d10cf63480a"
   },
   "outputs": [
    {
     "data": {
      "text/plain": [
       "(140841, 7)"
      ]
     },
     "execution_count": 85,
     "metadata": {},
     "output_type": "execute_result"
    }
   ],
   "source": [
    "df_cjy.drop_duplicates().shape"
   ]
  },
  {
   "cell_type": "code",
   "execution_count": 86,
   "id": "RnmrIJpv1Db8",
   "metadata": {
    "id": "RnmrIJpv1Db8"
   },
   "outputs": [],
   "source": [
    "df_cjy_cj=df_cj.merge(df_cjy, on=['company','orgyear','ctc','job_position','years_of_experience','ctc_updated_year'], how='left')"
   ]
  },
  {
   "cell_type": "code",
   "execution_count": 87,
   "id": "09e11a54",
   "metadata": {
    "colab": {
     "base_uri": "https://localhost:8080/"
    },
    "id": "09e11a54",
    "outputId": "92368e97-b18b-4c6c-8268-d345f1e27a97"
   },
   "outputs": [
    {
     "data": {
      "text/plain": [
       "(140841, 8)"
      ]
     },
     "execution_count": 87,
     "metadata": {},
     "output_type": "execute_result"
    }
   ],
   "source": [
    "df_cjy_cj.shape"
   ]
  },
  {
   "cell_type": "code",
   "execution_count": 88,
   "id": "49de3111",
   "metadata": {
    "colab": {
     "base_uri": "https://localhost:8080/"
    },
    "id": "49de3111",
    "outputId": "0b7f750f-bf9c-40ca-cd74-4de530e40a60"
   },
   "outputs": [
    {
     "data": {
      "text/plain": [
       "(140841, 8)"
      ]
     },
     "execution_count": 88,
     "metadata": {},
     "output_type": "execute_result"
    }
   ],
   "source": [
    "df_cjy_cj.drop_duplicates().shape"
   ]
  },
  {
   "cell_type": "code",
   "execution_count": 89,
   "id": "b82b87d7",
   "metadata": {
    "id": "b82b87d7"
   },
   "outputs": [],
   "source": [
    "#verify if the join is right or now\n"
   ]
  },
  {
   "cell_type": "markdown",
   "id": "XxwkqD2mjZNB",
   "metadata": {
    "id": "XxwkqD2mjZNB"
   },
   "source": [
    "## Manual Clustering based on comapny"
   ]
  },
  {
   "cell_type": "code",
   "execution_count": 90,
   "id": "gIhd3y8njZys",
   "metadata": {
    "id": "gIhd3y8njZys"
   },
   "outputs": [],
   "source": [
    "grouped_c=df.groupby(['company'])['ctc'].describe()"
   ]
  },
  {
   "cell_type": "code",
   "execution_count": 91,
   "id": "OdRFCXMfjZ1L",
   "metadata": {
    "id": "OdRFCXMfjZ1L"
   },
   "outputs": [],
   "source": [
    "df_c=df.merge(grouped_c, on=['company'], how='left')"
   ]
  },
  {
   "cell_type": "code",
   "execution_count": 92,
   "id": "8PYpu_ZDjZ3t",
   "metadata": {
    "colab": {
     "base_uri": "https://localhost:8080/",
     "height": 1000
    },
    "id": "8PYpu_ZDjZ3t",
    "outputId": "393e51d5-bc5b-452a-dee7-9eaad53c6e42"
   },
   "outputs": [
    {
     "data": {
      "text/html": [
       "<div>\n",
       "<style scoped>\n",
       "    .dataframe tbody tr th:only-of-type {\n",
       "        vertical-align: middle;\n",
       "    }\n",
       "\n",
       "    .dataframe tbody tr th {\n",
       "        vertical-align: top;\n",
       "    }\n",
       "\n",
       "    .dataframe thead th {\n",
       "        text-align: right;\n",
       "    }\n",
       "</style>\n",
       "<table border=\"1\" class=\"dataframe\">\n",
       "  <thead>\n",
       "    <tr style=\"text-align: right;\">\n",
       "      <th></th>\n",
       "      <th>company</th>\n",
       "      <th>orgyear</th>\n",
       "      <th>ctc</th>\n",
       "      <th>ctc_updated_year</th>\n",
       "      <th>years_of_experience</th>\n",
       "      <th>job_position</th>\n",
       "      <th>count</th>\n",
       "      <th>mean</th>\n",
       "      <th>std</th>\n",
       "      <th>min</th>\n",
       "      <th>25%</th>\n",
       "      <th>50%</th>\n",
       "      <th>75%</th>\n",
       "      <th>max</th>\n",
       "    </tr>\n",
       "  </thead>\n",
       "  <tbody>\n",
       "    <tr>\n",
       "      <th>0</th>\n",
       "      <td>deloitte india</td>\n",
       "      <td>2016.0</td>\n",
       "      <td>1100000</td>\n",
       "      <td>2020.0</td>\n",
       "      <td>6.0</td>\n",
       "      <td>others</td>\n",
       "      <td>9.0</td>\n",
       "      <td>1.115667e+06</td>\n",
       "      <td>458111.885897</td>\n",
       "      <td>500000.0</td>\n",
       "      <td>800000.0</td>\n",
       "      <td>1070000.0</td>\n",
       "      <td>1500000.0</td>\n",
       "      <td>1771000.0</td>\n",
       "    </tr>\n",
       "    <tr>\n",
       "      <th>1</th>\n",
       "      <td>reliance infocomm limited</td>\n",
       "      <td>2018.0</td>\n",
       "      <td>449999</td>\n",
       "      <td>2019.0</td>\n",
       "      <td>4.0</td>\n",
       "      <td>fullstack devloper</td>\n",
       "      <td>377.0</td>\n",
       "      <td>1.065469e+06</td>\n",
       "      <td>636791.154939</td>\n",
       "      <td>10000.0</td>\n",
       "      <td>600000.0</td>\n",
       "      <td>900000.0</td>\n",
       "      <td>1500000.0</td>\n",
       "      <td>3200000.0</td>\n",
       "    </tr>\n",
       "    <tr>\n",
       "      <th>2</th>\n",
       "      <td>Others</td>\n",
       "      <td>2015.0</td>\n",
       "      <td>2000000</td>\n",
       "      <td>2020.0</td>\n",
       "      <td>7.0</td>\n",
       "      <td>backend engineer</td>\n",
       "      <td>23257.0</td>\n",
       "      <td>9.759842e+05</td>\n",
       "      <td>766658.805719</td>\n",
       "      <td>15.0</td>\n",
       "      <td>399000.0</td>\n",
       "      <td>800000.0</td>\n",
       "      <td>1400000.0</td>\n",
       "      <td>3329999.0</td>\n",
       "    </tr>\n",
       "    <tr>\n",
       "      <th>3</th>\n",
       "      <td>tokopedia</td>\n",
       "      <td>2017.0</td>\n",
       "      <td>700000</td>\n",
       "      <td>2019.0</td>\n",
       "      <td>5.0</td>\n",
       "      <td>backend engineer</td>\n",
       "      <td>58.0</td>\n",
       "      <td>1.465086e+06</td>\n",
       "      <td>656969.712365</td>\n",
       "      <td>200000.0</td>\n",
       "      <td>1100000.0</td>\n",
       "      <td>1325000.0</td>\n",
       "      <td>1875000.0</td>\n",
       "      <td>3160000.0</td>\n",
       "    </tr>\n",
       "    <tr>\n",
       "      <th>4</th>\n",
       "      <td>rift group</td>\n",
       "      <td>2017.0</td>\n",
       "      <td>1400000</td>\n",
       "      <td>2019.0</td>\n",
       "      <td>5.0</td>\n",
       "      <td>fullstack devloper</td>\n",
       "      <td>6.0</td>\n",
       "      <td>9.400000e+05</td>\n",
       "      <td>389871.773792</td>\n",
       "      <td>540000.0</td>\n",
       "      <td>625000.0</td>\n",
       "      <td>850000.0</td>\n",
       "      <td>1300000.0</td>\n",
       "      <td>1400000.0</td>\n",
       "    </tr>\n",
       "  </tbody>\n",
       "</table>\n",
       "</div>"
      ],
      "text/plain": [
       "                     company  orgyear      ctc  ctc_updated_year  \\\n",
       "0             deloitte india   2016.0  1100000            2020.0   \n",
       "1  reliance infocomm limited   2018.0   449999            2019.0   \n",
       "2                     Others   2015.0  2000000            2020.0   \n",
       "3                  tokopedia   2017.0   700000            2019.0   \n",
       "4                 rift group   2017.0  1400000            2019.0   \n",
       "\n",
       "   years_of_experience        job_position    count          mean  \\\n",
       "0                  6.0              others      9.0  1.115667e+06   \n",
       "1                  4.0  fullstack devloper    377.0  1.065469e+06   \n",
       "2                  7.0    backend engineer  23257.0  9.759842e+05   \n",
       "3                  5.0    backend engineer     58.0  1.465086e+06   \n",
       "4                  5.0  fullstack devloper      6.0  9.400000e+05   \n",
       "\n",
       "             std       min        25%        50%        75%        max  \n",
       "0  458111.885897  500000.0   800000.0  1070000.0  1500000.0  1771000.0  \n",
       "1  636791.154939   10000.0   600000.0   900000.0  1500000.0  3200000.0  \n",
       "2  766658.805719      15.0   399000.0   800000.0  1400000.0  3329999.0  \n",
       "3  656969.712365  200000.0  1100000.0  1325000.0  1875000.0  3160000.0  \n",
       "4  389871.773792  540000.0   625000.0   850000.0  1300000.0  1400000.0  "
      ]
     },
     "execution_count": 92,
     "metadata": {},
     "output_type": "execute_result"
    }
   ],
   "source": [
    "df_c.head(5)"
   ]
  },
  {
   "cell_type": "code",
   "execution_count": 93,
   "id": "vRwuWNF8jZ52",
   "metadata": {
    "colab": {
     "base_uri": "https://localhost:8080/",
     "height": 467
    },
    "id": "vRwuWNF8jZ52",
    "outputId": "5a80cd1c-fc25-41c3-9f72-6a61296a787e"
   },
   "outputs": [
    {
     "data": {
      "text/html": [
       "<div>\n",
       "<style scoped>\n",
       "    .dataframe tbody tr th:only-of-type {\n",
       "        vertical-align: middle;\n",
       "    }\n",
       "\n",
       "    .dataframe tbody tr th {\n",
       "        vertical-align: top;\n",
       "    }\n",
       "\n",
       "    .dataframe thead th {\n",
       "        text-align: right;\n",
       "    }\n",
       "</style>\n",
       "<table border=\"1\" class=\"dataframe\">\n",
       "  <thead>\n",
       "    <tr style=\"text-align: right;\">\n",
       "      <th></th>\n",
       "      <th>company</th>\n",
       "      <th>orgyear</th>\n",
       "      <th>ctc</th>\n",
       "      <th>ctc_updated_year</th>\n",
       "      <th>years_of_experience</th>\n",
       "      <th>job_position</th>\n",
       "      <th>count</th>\n",
       "      <th>mean</th>\n",
       "      <th>std</th>\n",
       "      <th>min</th>\n",
       "      <th>25%</th>\n",
       "      <th>50%</th>\n",
       "      <th>75%</th>\n",
       "      <th>max</th>\n",
       "    </tr>\n",
       "  </thead>\n",
       "  <tbody>\n",
       "    <tr>\n",
       "      <th>59454</th>\n",
       "      <td></td>\n",
       "      <td>2014.0</td>\n",
       "      <td>600000</td>\n",
       "      <td>2019.0</td>\n",
       "      <td>8.0</td>\n",
       "      <td>others</td>\n",
       "      <td>41.0</td>\n",
       "      <td>9.753170e+05</td>\n",
       "      <td>729828.445059</td>\n",
       "      <td>110000.0</td>\n",
       "      <td>400000.0</td>\n",
       "      <td>700000.0</td>\n",
       "      <td>1200000.0</td>\n",
       "      <td>2700000.0</td>\n",
       "    </tr>\n",
       "    <tr>\n",
       "      <th>82947</th>\n",
       "      <td></td>\n",
       "      <td>2015.0</td>\n",
       "      <td>600000</td>\n",
       "      <td>2021.0</td>\n",
       "      <td>7.0</td>\n",
       "      <td>others</td>\n",
       "      <td>41.0</td>\n",
       "      <td>9.753170e+05</td>\n",
       "      <td>729828.445059</td>\n",
       "      <td>110000.0</td>\n",
       "      <td>400000.0</td>\n",
       "      <td>700000.0</td>\n",
       "      <td>1200000.0</td>\n",
       "      <td>2700000.0</td>\n",
       "    </tr>\n",
       "    <tr>\n",
       "      <th>120964</th>\n",
       "      <td></td>\n",
       "      <td>2018.0</td>\n",
       "      <td>956000</td>\n",
       "      <td>2018.0</td>\n",
       "      <td>4.0</td>\n",
       "      <td>others</td>\n",
       "      <td>41.0</td>\n",
       "      <td>9.753170e+05</td>\n",
       "      <td>729828.445059</td>\n",
       "      <td>110000.0</td>\n",
       "      <td>400000.0</td>\n",
       "      <td>700000.0</td>\n",
       "      <td>1200000.0</td>\n",
       "      <td>2700000.0</td>\n",
       "    </tr>\n",
       "    <tr>\n",
       "      <th>67236</th>\n",
       "      <td></td>\n",
       "      <td>2019.0</td>\n",
       "      <td>500000</td>\n",
       "      <td>2019.0</td>\n",
       "      <td>3.0</td>\n",
       "      <td>database administrator</td>\n",
       "      <td>41.0</td>\n",
       "      <td>9.753170e+05</td>\n",
       "      <td>729828.445059</td>\n",
       "      <td>110000.0</td>\n",
       "      <td>400000.0</td>\n",
       "      <td>700000.0</td>\n",
       "      <td>1200000.0</td>\n",
       "      <td>2700000.0</td>\n",
       "    </tr>\n",
       "    <tr>\n",
       "      <th>99537</th>\n",
       "      <td></td>\n",
       "      <td>2018.0</td>\n",
       "      <td>2000000</td>\n",
       "      <td>2018.0</td>\n",
       "      <td>4.0</td>\n",
       "      <td>data analyst</td>\n",
       "      <td>41.0</td>\n",
       "      <td>9.753170e+05</td>\n",
       "      <td>729828.445059</td>\n",
       "      <td>110000.0</td>\n",
       "      <td>400000.0</td>\n",
       "      <td>700000.0</td>\n",
       "      <td>1200000.0</td>\n",
       "      <td>2700000.0</td>\n",
       "    </tr>\n",
       "    <tr>\n",
       "      <th>...</th>\n",
       "      <td>...</td>\n",
       "      <td>...</td>\n",
       "      <td>...</td>\n",
       "      <td>...</td>\n",
       "      <td>...</td>\n",
       "      <td>...</td>\n",
       "      <td>...</td>\n",
       "      <td>...</td>\n",
       "      <td>...</td>\n",
       "      <td>...</td>\n",
       "      <td>...</td>\n",
       "      <td>...</td>\n",
       "      <td>...</td>\n",
       "      <td>...</td>\n",
       "    </tr>\n",
       "    <tr>\n",
       "      <th>103299</th>\n",
       "      <td>zynga</td>\n",
       "      <td>2016.0</td>\n",
       "      <td>1900000</td>\n",
       "      <td>2019.0</td>\n",
       "      <td>6.0</td>\n",
       "      <td>others</td>\n",
       "      <td>48.0</td>\n",
       "      <td>1.885000e+06</td>\n",
       "      <td>645738.925738</td>\n",
       "      <td>800000.0</td>\n",
       "      <td>1375000.0</td>\n",
       "      <td>1900000.0</td>\n",
       "      <td>2400000.0</td>\n",
       "      <td>3300000.0</td>\n",
       "    </tr>\n",
       "    <tr>\n",
       "      <th>115764</th>\n",
       "      <td>zynga</td>\n",
       "      <td>2016.0</td>\n",
       "      <td>1900000</td>\n",
       "      <td>2019.0</td>\n",
       "      <td>6.0</td>\n",
       "      <td>fullstack devloper</td>\n",
       "      <td>48.0</td>\n",
       "      <td>1.885000e+06</td>\n",
       "      <td>645738.925738</td>\n",
       "      <td>800000.0</td>\n",
       "      <td>1375000.0</td>\n",
       "      <td>1900000.0</td>\n",
       "      <td>2400000.0</td>\n",
       "      <td>3300000.0</td>\n",
       "    </tr>\n",
       "    <tr>\n",
       "      <th>91987</th>\n",
       "      <td>zynga</td>\n",
       "      <td>2016.0</td>\n",
       "      <td>1700000</td>\n",
       "      <td>2019.0</td>\n",
       "      <td>6.0</td>\n",
       "      <td>backend engineer</td>\n",
       "      <td>48.0</td>\n",
       "      <td>1.885000e+06</td>\n",
       "      <td>645738.925738</td>\n",
       "      <td>800000.0</td>\n",
       "      <td>1375000.0</td>\n",
       "      <td>1900000.0</td>\n",
       "      <td>2400000.0</td>\n",
       "      <td>3300000.0</td>\n",
       "    </tr>\n",
       "    <tr>\n",
       "      <th>71821</th>\n",
       "      <td>zynga</td>\n",
       "      <td>2018.0</td>\n",
       "      <td>1000000</td>\n",
       "      <td>2021.0</td>\n",
       "      <td>4.0</td>\n",
       "      <td>backend engineer</td>\n",
       "      <td>48.0</td>\n",
       "      <td>1.885000e+06</td>\n",
       "      <td>645738.925738</td>\n",
       "      <td>800000.0</td>\n",
       "      <td>1375000.0</td>\n",
       "      <td>1900000.0</td>\n",
       "      <td>2400000.0</td>\n",
       "      <td>3300000.0</td>\n",
       "    </tr>\n",
       "    <tr>\n",
       "      <th>134848</th>\n",
       "      <td>zynga</td>\n",
       "      <td>2013.0</td>\n",
       "      <td>1019999</td>\n",
       "      <td>2019.0</td>\n",
       "      <td>9.0</td>\n",
       "      <td>devops engineer</td>\n",
       "      <td>48.0</td>\n",
       "      <td>1.885000e+06</td>\n",
       "      <td>645738.925738</td>\n",
       "      <td>800000.0</td>\n",
       "      <td>1375000.0</td>\n",
       "      <td>1900000.0</td>\n",
       "      <td>2400000.0</td>\n",
       "      <td>3300000.0</td>\n",
       "    </tr>\n",
       "  </tbody>\n",
       "</table>\n",
       "<p>140841 rows × 14 columns</p>\n",
       "</div>"
      ],
      "text/plain": [
       "       company  orgyear      ctc  ctc_updated_year  years_of_experience  \\\n",
       "59454            2014.0   600000            2019.0                  8.0   \n",
       "82947            2015.0   600000            2021.0                  7.0   \n",
       "120964           2018.0   956000            2018.0                  4.0   \n",
       "67236            2019.0   500000            2019.0                  3.0   \n",
       "99537            2018.0  2000000            2018.0                  4.0   \n",
       "...        ...      ...      ...               ...                  ...   \n",
       "103299   zynga   2016.0  1900000            2019.0                  6.0   \n",
       "115764   zynga   2016.0  1900000            2019.0                  6.0   \n",
       "91987    zynga   2016.0  1700000            2019.0                  6.0   \n",
       "71821    zynga   2018.0  1000000            2021.0                  4.0   \n",
       "134848   zynga   2013.0  1019999            2019.0                  9.0   \n",
       "\n",
       "                  job_position  count          mean            std       min  \\\n",
       "59454                   others   41.0  9.753170e+05  729828.445059  110000.0   \n",
       "82947                   others   41.0  9.753170e+05  729828.445059  110000.0   \n",
       "120964                  others   41.0  9.753170e+05  729828.445059  110000.0   \n",
       "67236   database administrator   41.0  9.753170e+05  729828.445059  110000.0   \n",
       "99537             data analyst   41.0  9.753170e+05  729828.445059  110000.0   \n",
       "...                        ...    ...           ...            ...       ...   \n",
       "103299                  others   48.0  1.885000e+06  645738.925738  800000.0   \n",
       "115764      fullstack devloper   48.0  1.885000e+06  645738.925738  800000.0   \n",
       "91987         backend engineer   48.0  1.885000e+06  645738.925738  800000.0   \n",
       "71821         backend engineer   48.0  1.885000e+06  645738.925738  800000.0   \n",
       "134848         devops engineer   48.0  1.885000e+06  645738.925738  800000.0   \n",
       "\n",
       "              25%        50%        75%        max  \n",
       "59454    400000.0   700000.0  1200000.0  2700000.0  \n",
       "82947    400000.0   700000.0  1200000.0  2700000.0  \n",
       "120964   400000.0   700000.0  1200000.0  2700000.0  \n",
       "67236    400000.0   700000.0  1200000.0  2700000.0  \n",
       "99537    400000.0   700000.0  1200000.0  2700000.0  \n",
       "...           ...        ...        ...        ...  \n",
       "103299  1375000.0  1900000.0  2400000.0  3300000.0  \n",
       "115764  1375000.0  1900000.0  2400000.0  3300000.0  \n",
       "91987   1375000.0  1900000.0  2400000.0  3300000.0  \n",
       "71821   1375000.0  1900000.0  2400000.0  3300000.0  \n",
       "134848  1375000.0  1900000.0  2400000.0  3300000.0  \n",
       "\n",
       "[140841 rows x 14 columns]"
      ]
     },
     "execution_count": 93,
     "metadata": {},
     "output_type": "execute_result"
    }
   ],
   "source": [
    "#verify\n",
    "df_c.sort_values(['company'])"
   ]
  },
  {
   "cell_type": "code",
   "execution_count": 94,
   "id": "2bc9345d",
   "metadata": {
    "colab": {
     "base_uri": "https://localhost:8080/"
    },
    "id": "2bc9345d",
    "outputId": "5562c844-74dc-4486-e406-acdc1b97318d"
   },
   "outputs": [
    {
     "name": "stdout",
     "output_type": "stream",
     "text": [
      "(140841, 6)\n",
      "(140841, 14)\n",
      "(140841, 14)\n"
     ]
    }
   ],
   "source": [
    "print(df.drop_duplicates().shape)\n",
    "print(df_c.shape)\n",
    "print(df_c.drop_duplicates().shape)\n"
   ]
  },
  {
   "cell_type": "markdown",
   "id": "J9qRZ-CcjJi9",
   "metadata": {
    "id": "J9qRZ-CcjJi9"
   },
   "source": [
    "### Creating Tier basis on the salary in the companies"
   ]
  },
  {
   "cell_type": "code",
   "execution_count": 95,
   "id": "ZUUwC-GHjI31",
   "metadata": {
    "id": "ZUUwC-GHjI31"
   },
   "outputs": [],
   "source": [
    "def condition_tier(a,b_50,b_75):\n",
    "    if a<b_50:\n",
    "        return 3\n",
    "    elif a>=b_50 and a<=b_75:\n",
    "        return 2\n",
    "    \n",
    "    elif a>=b_75:\n",
    "        return 1"
   ]
  },
  {
   "cell_type": "code",
   "execution_count": 96,
   "id": "FZXW_mWQi-_w",
   "metadata": {
    "id": "FZXW_mWQi-_w"
   },
   "outputs": [],
   "source": [
    "df_c['tier'] =df_c.apply(lambda x: condition_tier(x['ctc'],x['50%'],x['75%']),axis=1)"
   ]
  },
  {
   "cell_type": "code",
   "execution_count": 97,
   "id": "JbVu9zacj110",
   "metadata": {
    "colab": {
     "base_uri": "https://localhost:8080/",
     "height": 606
    },
    "id": "JbVu9zacj110",
    "outputId": "5c9c01a8-ec85-4793-e682-98942dbf1568"
   },
   "outputs": [
    {
     "data": {
      "text/html": [
       "<div>\n",
       "<style scoped>\n",
       "    .dataframe tbody tr th:only-of-type {\n",
       "        vertical-align: middle;\n",
       "    }\n",
       "\n",
       "    .dataframe tbody tr th {\n",
       "        vertical-align: top;\n",
       "    }\n",
       "\n",
       "    .dataframe thead th {\n",
       "        text-align: right;\n",
       "    }\n",
       "</style>\n",
       "<table border=\"1\" class=\"dataframe\">\n",
       "  <thead>\n",
       "    <tr style=\"text-align: right;\">\n",
       "      <th></th>\n",
       "      <th>company</th>\n",
       "      <th>orgyear</th>\n",
       "      <th>ctc</th>\n",
       "      <th>ctc_updated_year</th>\n",
       "      <th>years_of_experience</th>\n",
       "      <th>job_position</th>\n",
       "      <th>count</th>\n",
       "      <th>mean</th>\n",
       "      <th>std</th>\n",
       "      <th>min</th>\n",
       "      <th>25%</th>\n",
       "      <th>50%</th>\n",
       "      <th>75%</th>\n",
       "      <th>max</th>\n",
       "      <th>tier</th>\n",
       "    </tr>\n",
       "  </thead>\n",
       "  <tbody>\n",
       "    <tr>\n",
       "      <th>0</th>\n",
       "      <td>deloitte india</td>\n",
       "      <td>2016.0</td>\n",
       "      <td>1100000</td>\n",
       "      <td>2020.0</td>\n",
       "      <td>6.0</td>\n",
       "      <td>others</td>\n",
       "      <td>9.0</td>\n",
       "      <td>1.115667e+06</td>\n",
       "      <td>458111.885897</td>\n",
       "      <td>500000.0</td>\n",
       "      <td>800000.0</td>\n",
       "      <td>1070000.0</td>\n",
       "      <td>1500000.0</td>\n",
       "      <td>1771000.0</td>\n",
       "      <td>2</td>\n",
       "    </tr>\n",
       "    <tr>\n",
       "      <th>1</th>\n",
       "      <td>reliance infocomm limited</td>\n",
       "      <td>2018.0</td>\n",
       "      <td>449999</td>\n",
       "      <td>2019.0</td>\n",
       "      <td>4.0</td>\n",
       "      <td>fullstack devloper</td>\n",
       "      <td>377.0</td>\n",
       "      <td>1.065469e+06</td>\n",
       "      <td>636791.154939</td>\n",
       "      <td>10000.0</td>\n",
       "      <td>600000.0</td>\n",
       "      <td>900000.0</td>\n",
       "      <td>1500000.0</td>\n",
       "      <td>3200000.0</td>\n",
       "      <td>3</td>\n",
       "    </tr>\n",
       "    <tr>\n",
       "      <th>2</th>\n",
       "      <td>Others</td>\n",
       "      <td>2015.0</td>\n",
       "      <td>2000000</td>\n",
       "      <td>2020.0</td>\n",
       "      <td>7.0</td>\n",
       "      <td>backend engineer</td>\n",
       "      <td>23257.0</td>\n",
       "      <td>9.759842e+05</td>\n",
       "      <td>766658.805719</td>\n",
       "      <td>15.0</td>\n",
       "      <td>399000.0</td>\n",
       "      <td>800000.0</td>\n",
       "      <td>1400000.0</td>\n",
       "      <td>3329999.0</td>\n",
       "      <td>1</td>\n",
       "    </tr>\n",
       "    <tr>\n",
       "      <th>3</th>\n",
       "      <td>tokopedia</td>\n",
       "      <td>2017.0</td>\n",
       "      <td>700000</td>\n",
       "      <td>2019.0</td>\n",
       "      <td>5.0</td>\n",
       "      <td>backend engineer</td>\n",
       "      <td>58.0</td>\n",
       "      <td>1.465086e+06</td>\n",
       "      <td>656969.712365</td>\n",
       "      <td>200000.0</td>\n",
       "      <td>1100000.0</td>\n",
       "      <td>1325000.0</td>\n",
       "      <td>1875000.0</td>\n",
       "      <td>3160000.0</td>\n",
       "      <td>3</td>\n",
       "    </tr>\n",
       "    <tr>\n",
       "      <th>4</th>\n",
       "      <td>rift group</td>\n",
       "      <td>2017.0</td>\n",
       "      <td>1400000</td>\n",
       "      <td>2019.0</td>\n",
       "      <td>5.0</td>\n",
       "      <td>fullstack devloper</td>\n",
       "      <td>6.0</td>\n",
       "      <td>9.400000e+05</td>\n",
       "      <td>389871.773792</td>\n",
       "      <td>540000.0</td>\n",
       "      <td>625000.0</td>\n",
       "      <td>850000.0</td>\n",
       "      <td>1300000.0</td>\n",
       "      <td>1400000.0</td>\n",
       "      <td>1</td>\n",
       "    </tr>\n",
       "  </tbody>\n",
       "</table>\n",
       "</div>"
      ],
      "text/plain": [
       "                     company  orgyear      ctc  ctc_updated_year  \\\n",
       "0             deloitte india   2016.0  1100000            2020.0   \n",
       "1  reliance infocomm limited   2018.0   449999            2019.0   \n",
       "2                     Others   2015.0  2000000            2020.0   \n",
       "3                  tokopedia   2017.0   700000            2019.0   \n",
       "4                 rift group   2017.0  1400000            2019.0   \n",
       "\n",
       "   years_of_experience        job_position    count          mean  \\\n",
       "0                  6.0              others      9.0  1.115667e+06   \n",
       "1                  4.0  fullstack devloper    377.0  1.065469e+06   \n",
       "2                  7.0    backend engineer  23257.0  9.759842e+05   \n",
       "3                  5.0    backend engineer     58.0  1.465086e+06   \n",
       "4                  5.0  fullstack devloper      6.0  9.400000e+05   \n",
       "\n",
       "             std       min        25%        50%        75%        max  tier  \n",
       "0  458111.885897  500000.0   800000.0  1070000.0  1500000.0  1771000.0     2  \n",
       "1  636791.154939   10000.0   600000.0   900000.0  1500000.0  3200000.0     3  \n",
       "2  766658.805719      15.0   399000.0   800000.0  1400000.0  3329999.0     1  \n",
       "3  656969.712365  200000.0  1100000.0  1325000.0  1875000.0  3160000.0     3  \n",
       "4  389871.773792  540000.0   625000.0   850000.0  1300000.0  1400000.0     1  "
      ]
     },
     "execution_count": 97,
     "metadata": {},
     "output_type": "execute_result"
    }
   ],
   "source": [
    "df_c.head()"
   ]
  },
  {
   "cell_type": "code",
   "execution_count": 98,
   "id": "VJaOlLEkj42l",
   "metadata": {
    "colab": {
     "base_uri": "https://localhost:8080/"
    },
    "id": "VJaOlLEkj42l",
    "outputId": "302341d6-f425-435d-fe21-63c42fbbab40"
   },
   "outputs": [
    {
     "data": {
      "text/plain": [
       "3    47.828402\n",
       "2    28.222606\n",
       "1    23.948992\n",
       "Name: tier, dtype: float64"
      ]
     },
     "execution_count": 98,
     "metadata": {},
     "output_type": "execute_result"
    }
   ],
   "source": [
    "df_c.tier.value_counts(normalize=True)*100"
   ]
  },
  {
   "cell_type": "code",
   "execution_count": 99,
   "id": "aziCVggs2aPc",
   "metadata": {
    "id": "aziCVggs2aPc"
   },
   "outputs": [],
   "source": [
    "df_cjy_cj_c=df_cjy_cj.merge(df_c, on=['company','orgyear','ctc','job_position','years_of_experience','ctc_updated_year'], how='left')"
   ]
  },
  {
   "cell_type": "code",
   "execution_count": 100,
   "id": "4Kq4_9512pdf",
   "metadata": {
    "colab": {
     "base_uri": "https://localhost:8080/",
     "height": 635
    },
    "id": "4Kq4_9512pdf",
    "outputId": "dedb8584-f712-4b0c-d197-c84772ecde12"
   },
   "outputs": [
    {
     "data": {
      "text/html": [
       "<div>\n",
       "<style scoped>\n",
       "    .dataframe tbody tr th:only-of-type {\n",
       "        vertical-align: middle;\n",
       "    }\n",
       "\n",
       "    .dataframe tbody tr th {\n",
       "        vertical-align: top;\n",
       "    }\n",
       "\n",
       "    .dataframe thead th {\n",
       "        text-align: right;\n",
       "    }\n",
       "</style>\n",
       "<table border=\"1\" class=\"dataframe\">\n",
       "  <thead>\n",
       "    <tr style=\"text-align: right;\">\n",
       "      <th></th>\n",
       "      <th>company</th>\n",
       "      <th>orgyear</th>\n",
       "      <th>ctc</th>\n",
       "      <th>ctc_updated_year</th>\n",
       "      <th>years_of_experience</th>\n",
       "      <th>job_position</th>\n",
       "      <th>classs</th>\n",
       "      <th>designation</th>\n",
       "      <th>count</th>\n",
       "      <th>mean</th>\n",
       "      <th>std</th>\n",
       "      <th>min</th>\n",
       "      <th>25%</th>\n",
       "      <th>50%</th>\n",
       "      <th>75%</th>\n",
       "      <th>max</th>\n",
       "      <th>tier</th>\n",
       "    </tr>\n",
       "  </thead>\n",
       "  <tbody>\n",
       "    <tr>\n",
       "      <th>0</th>\n",
       "      <td>deloitte india</td>\n",
       "      <td>2016.0</td>\n",
       "      <td>1100000</td>\n",
       "      <td>2020.0</td>\n",
       "      <td>6.0</td>\n",
       "      <td>others</td>\n",
       "      <td>1</td>\n",
       "      <td>2</td>\n",
       "      <td>9.0</td>\n",
       "      <td>1.115667e+06</td>\n",
       "      <td>458111.885897</td>\n",
       "      <td>500000.0</td>\n",
       "      <td>800000.0</td>\n",
       "      <td>1070000.0</td>\n",
       "      <td>1500000.0</td>\n",
       "      <td>1771000.0</td>\n",
       "      <td>2</td>\n",
       "    </tr>\n",
       "    <tr>\n",
       "      <th>1</th>\n",
       "      <td>reliance infocomm limited</td>\n",
       "      <td>2018.0</td>\n",
       "      <td>449999</td>\n",
       "      <td>2019.0</td>\n",
       "      <td>4.0</td>\n",
       "      <td>fullstack devloper</td>\n",
       "      <td>3</td>\n",
       "      <td>3</td>\n",
       "      <td>377.0</td>\n",
       "      <td>1.065469e+06</td>\n",
       "      <td>636791.154939</td>\n",
       "      <td>10000.0</td>\n",
       "      <td>600000.0</td>\n",
       "      <td>900000.0</td>\n",
       "      <td>1500000.0</td>\n",
       "      <td>3200000.0</td>\n",
       "      <td>3</td>\n",
       "    </tr>\n",
       "    <tr>\n",
       "      <th>2</th>\n",
       "      <td>Others</td>\n",
       "      <td>2015.0</td>\n",
       "      <td>2000000</td>\n",
       "      <td>2020.0</td>\n",
       "      <td>7.0</td>\n",
       "      <td>backend engineer</td>\n",
       "      <td>1</td>\n",
       "      <td>1</td>\n",
       "      <td>23257.0</td>\n",
       "      <td>9.759842e+05</td>\n",
       "      <td>766658.805719</td>\n",
       "      <td>15.0</td>\n",
       "      <td>399000.0</td>\n",
       "      <td>800000.0</td>\n",
       "      <td>1400000.0</td>\n",
       "      <td>3329999.0</td>\n",
       "      <td>1</td>\n",
       "    </tr>\n",
       "    <tr>\n",
       "      <th>3</th>\n",
       "      <td>tokopedia</td>\n",
       "      <td>2017.0</td>\n",
       "      <td>700000</td>\n",
       "      <td>2019.0</td>\n",
       "      <td>5.0</td>\n",
       "      <td>backend engineer</td>\n",
       "      <td>3</td>\n",
       "      <td>3</td>\n",
       "      <td>58.0</td>\n",
       "      <td>1.465086e+06</td>\n",
       "      <td>656969.712365</td>\n",
       "      <td>200000.0</td>\n",
       "      <td>1100000.0</td>\n",
       "      <td>1325000.0</td>\n",
       "      <td>1875000.0</td>\n",
       "      <td>3160000.0</td>\n",
       "      <td>3</td>\n",
       "    </tr>\n",
       "    <tr>\n",
       "      <th>4</th>\n",
       "      <td>rift group</td>\n",
       "      <td>2017.0</td>\n",
       "      <td>1400000</td>\n",
       "      <td>2019.0</td>\n",
       "      <td>5.0</td>\n",
       "      <td>fullstack devloper</td>\n",
       "      <td>1</td>\n",
       "      <td>2</td>\n",
       "      <td>6.0</td>\n",
       "      <td>9.400000e+05</td>\n",
       "      <td>389871.773792</td>\n",
       "      <td>540000.0</td>\n",
       "      <td>625000.0</td>\n",
       "      <td>850000.0</td>\n",
       "      <td>1300000.0</td>\n",
       "      <td>1400000.0</td>\n",
       "      <td>1</td>\n",
       "    </tr>\n",
       "    <tr>\n",
       "      <th>5</th>\n",
       "      <td>happily unmarried marketing pvt ltd</td>\n",
       "      <td>2018.0</td>\n",
       "      <td>700000</td>\n",
       "      <td>2020.0</td>\n",
       "      <td>4.0</td>\n",
       "      <td>fullstack devloper</td>\n",
       "      <td>2</td>\n",
       "      <td>2</td>\n",
       "      <td>6.0</td>\n",
       "      <td>9.066667e+05</td>\n",
       "      <td>539728.326722</td>\n",
       "      <td>620000.0</td>\n",
       "      <td>640000.0</td>\n",
       "      <td>700000.0</td>\n",
       "      <td>775000.0</td>\n",
       "      <td>2000000.0</td>\n",
       "      <td>2</td>\n",
       "    </tr>\n",
       "    <tr>\n",
       "      <th>6</th>\n",
       "      <td>jpmorgan chase  co</td>\n",
       "      <td>2018.0</td>\n",
       "      <td>1500000</td>\n",
       "      <td>2019.0</td>\n",
       "      <td>4.0</td>\n",
       "      <td>fullstack devloper</td>\n",
       "      <td>3</td>\n",
       "      <td>3</td>\n",
       "      <td>849.0</td>\n",
       "      <td>1.708630e+06</td>\n",
       "      <td>678350.871116</td>\n",
       "      <td>11000.0</td>\n",
       "      <td>1300000.0</td>\n",
       "      <td>1680000.0</td>\n",
       "      <td>2120000.0</td>\n",
       "      <td>3300000.0</td>\n",
       "      <td>3</td>\n",
       "    </tr>\n",
       "    <tr>\n",
       "      <th>7</th>\n",
       "      <td>accenture technology</td>\n",
       "      <td>2019.0</td>\n",
       "      <td>400000</td>\n",
       "      <td>2019.0</td>\n",
       "      <td>3.0</td>\n",
       "      <td>backend engineer</td>\n",
       "      <td>3</td>\n",
       "      <td>3</td>\n",
       "      <td>22.0</td>\n",
       "      <td>6.781818e+05</td>\n",
       "      <td>271374.567423</td>\n",
       "      <td>300000.0</td>\n",
       "      <td>435000.0</td>\n",
       "      <td>640000.0</td>\n",
       "      <td>897500.0</td>\n",
       "      <td>1150000.0</td>\n",
       "      <td>3</td>\n",
       "    </tr>\n",
       "    <tr>\n",
       "      <th>8</th>\n",
       "      <td>persistent systems</td>\n",
       "      <td>2020.0</td>\n",
       "      <td>450000</td>\n",
       "      <td>2020.0</td>\n",
       "      <td>2.0</td>\n",
       "      <td>others</td>\n",
       "      <td>3</td>\n",
       "      <td>3</td>\n",
       "      <td>404.0</td>\n",
       "      <td>9.746757e+05</td>\n",
       "      <td>549187.912865</td>\n",
       "      <td>90000.0</td>\n",
       "      <td>550000.0</td>\n",
       "      <td>825000.0</td>\n",
       "      <td>1300000.0</td>\n",
       "      <td>3000000.0</td>\n",
       "      <td>3</td>\n",
       "    </tr>\n",
       "    <tr>\n",
       "      <th>9</th>\n",
       "      <td>Others</td>\n",
       "      <td>2019.0</td>\n",
       "      <td>360000</td>\n",
       "      <td>2019.0</td>\n",
       "      <td>3.0</td>\n",
       "      <td>others</td>\n",
       "      <td>3</td>\n",
       "      <td>3</td>\n",
       "      <td>23257.0</td>\n",
       "      <td>9.759842e+05</td>\n",
       "      <td>766658.805719</td>\n",
       "      <td>15.0</td>\n",
       "      <td>399000.0</td>\n",
       "      <td>800000.0</td>\n",
       "      <td>1400000.0</td>\n",
       "      <td>3329999.0</td>\n",
       "      <td>3</td>\n",
       "    </tr>\n",
       "  </tbody>\n",
       "</table>\n",
       "</div>"
      ],
      "text/plain": [
       "                               company  orgyear      ctc  ctc_updated_year  \\\n",
       "0                       deloitte india   2016.0  1100000            2020.0   \n",
       "1            reliance infocomm limited   2018.0   449999            2019.0   \n",
       "2                               Others   2015.0  2000000            2020.0   \n",
       "3                            tokopedia   2017.0   700000            2019.0   \n",
       "4                           rift group   2017.0  1400000            2019.0   \n",
       "5  happily unmarried marketing pvt ltd   2018.0   700000            2020.0   \n",
       "6                   jpmorgan chase  co   2018.0  1500000            2019.0   \n",
       "7                 accenture technology   2019.0   400000            2019.0   \n",
       "8                   persistent systems   2020.0   450000            2020.0   \n",
       "9                               Others   2019.0   360000            2019.0   \n",
       "\n",
       "   years_of_experience        job_position  classs  designation    count  \\\n",
       "0                  6.0              others       1            2      9.0   \n",
       "1                  4.0  fullstack devloper       3            3    377.0   \n",
       "2                  7.0    backend engineer       1            1  23257.0   \n",
       "3                  5.0    backend engineer       3            3     58.0   \n",
       "4                  5.0  fullstack devloper       1            2      6.0   \n",
       "5                  4.0  fullstack devloper       2            2      6.0   \n",
       "6                  4.0  fullstack devloper       3            3    849.0   \n",
       "7                  3.0    backend engineer       3            3     22.0   \n",
       "8                  2.0              others       3            3    404.0   \n",
       "9                  3.0              others       3            3  23257.0   \n",
       "\n",
       "           mean            std       min        25%        50%        75%  \\\n",
       "0  1.115667e+06  458111.885897  500000.0   800000.0  1070000.0  1500000.0   \n",
       "1  1.065469e+06  636791.154939   10000.0   600000.0   900000.0  1500000.0   \n",
       "2  9.759842e+05  766658.805719      15.0   399000.0   800000.0  1400000.0   \n",
       "3  1.465086e+06  656969.712365  200000.0  1100000.0  1325000.0  1875000.0   \n",
       "4  9.400000e+05  389871.773792  540000.0   625000.0   850000.0  1300000.0   \n",
       "5  9.066667e+05  539728.326722  620000.0   640000.0   700000.0   775000.0   \n",
       "6  1.708630e+06  678350.871116   11000.0  1300000.0  1680000.0  2120000.0   \n",
       "7  6.781818e+05  271374.567423  300000.0   435000.0   640000.0   897500.0   \n",
       "8  9.746757e+05  549187.912865   90000.0   550000.0   825000.0  1300000.0   \n",
       "9  9.759842e+05  766658.805719      15.0   399000.0   800000.0  1400000.0   \n",
       "\n",
       "         max  tier  \n",
       "0  1771000.0     2  \n",
       "1  3200000.0     3  \n",
       "2  3329999.0     1  \n",
       "3  3160000.0     3  \n",
       "4  1400000.0     1  \n",
       "5  2000000.0     2  \n",
       "6  3300000.0     3  \n",
       "7  1150000.0     3  \n",
       "8  3000000.0     3  \n",
       "9  3329999.0     3  "
      ]
     },
     "execution_count": 100,
     "metadata": {},
     "output_type": "execute_result"
    }
   ],
   "source": [
    "df_cjy_cj_c.head(10)"
   ]
  },
  {
   "cell_type": "code",
   "execution_count": 101,
   "id": "464edbf6",
   "metadata": {
    "colab": {
     "base_uri": "https://localhost:8080/"
    },
    "id": "464edbf6",
    "outputId": "515a269b-1b8a-4528-aaa3-f892d4d49daa"
   },
   "outputs": [
    {
     "data": {
      "text/plain": [
       "(140841, 17)"
      ]
     },
     "execution_count": 101,
     "metadata": {},
     "output_type": "execute_result"
    }
   ],
   "source": [
    "df_cjy_cj_c.shape"
   ]
  },
  {
   "cell_type": "code",
   "execution_count": 102,
   "id": "032e0ca7",
   "metadata": {
    "id": "032e0ca7"
   },
   "outputs": [],
   "source": [
    "data=df_cjy_cj_c.copy(deep=True)"
   ]
  },
  {
   "cell_type": "code",
   "execution_count": 103,
   "id": "b259f106",
   "metadata": {
    "id": "b259f106"
   },
   "outputs": [],
   "source": [
    "data.drop(columns=['count','mean','std','min','25%','50%','75%','max'],inplace=True)"
   ]
  },
  {
   "cell_type": "code",
   "execution_count": 104,
   "id": "a297ce44",
   "metadata": {
    "colab": {
     "base_uri": "https://localhost:8080/"
    },
    "id": "a297ce44",
    "outputId": "6036dedb-31a4-4415-cf04-bf684ce9d744"
   },
   "outputs": [
    {
     "data": {
      "text/plain": [
       "(140841, 9)"
      ]
     },
     "execution_count": 104,
     "metadata": {},
     "output_type": "execute_result"
    }
   ],
   "source": [
    "data.shape"
   ]
  },
  {
   "cell_type": "markdown",
   "id": "ffa7fe8c",
   "metadata": {},
   "source": [
    "# Some more joins and cluster analysis steps (Optional 1)\n"
   ]
  },
  {
   "cell_type": "code",
   "execution_count": 105,
   "id": "c4b66b8d",
   "metadata": {},
   "outputs": [],
   "source": [
    "company_cluster_n=grouped_c.sort_values(by=['50%','count'], ascending=False).reset_index()# can check this with less standard deviation"
   ]
  },
  {
   "cell_type": "code",
   "execution_count": 106,
   "id": "d96366f3",
   "metadata": {},
   "outputs": [
    {
     "data": {
      "text/html": [
       "<div>\n",
       "<style scoped>\n",
       "    .dataframe tbody tr th:only-of-type {\n",
       "        vertical-align: middle;\n",
       "    }\n",
       "\n",
       "    .dataframe tbody tr th {\n",
       "        vertical-align: top;\n",
       "    }\n",
       "\n",
       "    .dataframe thead th {\n",
       "        text-align: right;\n",
       "    }\n",
       "</style>\n",
       "<table border=\"1\" class=\"dataframe\">\n",
       "  <thead>\n",
       "    <tr style=\"text-align: right;\">\n",
       "      <th></th>\n",
       "      <th>company</th>\n",
       "      <th>count</th>\n",
       "      <th>mean</th>\n",
       "      <th>std</th>\n",
       "      <th>min</th>\n",
       "      <th>25%</th>\n",
       "      <th>50%</th>\n",
       "      <th>75%</th>\n",
       "      <th>max</th>\n",
       "    </tr>\n",
       "  </thead>\n",
       "  <tbody>\n",
       "    <tr>\n",
       "      <th>0</th>\n",
       "      <td>indeedcom</td>\n",
       "      <td>11.0</td>\n",
       "      <td>1.944091e+06</td>\n",
       "      <td>1.463207e+06</td>\n",
       "      <td>90000.0</td>\n",
       "      <td>187500.0</td>\n",
       "      <td>3000000.0</td>\n",
       "      <td>3085000.0</td>\n",
       "      <td>3300000.0</td>\n",
       "    </tr>\n",
       "    <tr>\n",
       "      <th>1</th>\n",
       "      <td>observeai z21 labs</td>\n",
       "      <td>7.0</td>\n",
       "      <td>2.771429e+06</td>\n",
       "      <td>6.921327e+05</td>\n",
       "      <td>1300000.0</td>\n",
       "      <td>2750000.0</td>\n",
       "      <td>3000000.0</td>\n",
       "      <td>3150000.0</td>\n",
       "      <td>3300000.0</td>\n",
       "    </tr>\n",
       "    <tr>\n",
       "      <th>2</th>\n",
       "      <td>harnessio</td>\n",
       "      <td>6.0</td>\n",
       "      <td>2.886667e+06</td>\n",
       "      <td>3.287349e+05</td>\n",
       "      <td>2320000.0</td>\n",
       "      <td>2800000.0</td>\n",
       "      <td>2975000.0</td>\n",
       "      <td>3000000.0</td>\n",
       "      <td>3300000.0</td>\n",
       "    </tr>\n",
       "    <tr>\n",
       "      <th>3</th>\n",
       "      <td>codenation</td>\n",
       "      <td>27.0</td>\n",
       "      <td>2.684444e+06</td>\n",
       "      <td>6.814257e+05</td>\n",
       "      <td>100000.0</td>\n",
       "      <td>2600000.0</td>\n",
       "      <td>2800000.0</td>\n",
       "      <td>3100000.0</td>\n",
       "      <td>3300000.0</td>\n",
       "    </tr>\n",
       "    <tr>\n",
       "      <th>4</th>\n",
       "      <td>gojek tech</td>\n",
       "      <td>11.0</td>\n",
       "      <td>2.433636e+06</td>\n",
       "      <td>8.564145e+05</td>\n",
       "      <td>1019999.0</td>\n",
       "      <td>1750000.0</td>\n",
       "      <td>2800000.0</td>\n",
       "      <td>3200000.0</td>\n",
       "      <td>3300000.0</td>\n",
       "    </tr>\n",
       "    <tr>\n",
       "      <th>...</th>\n",
       "      <td>...</td>\n",
       "      <td>...</td>\n",
       "      <td>...</td>\n",
       "      <td>...</td>\n",
       "      <td>...</td>\n",
       "      <td>...</td>\n",
       "      <td>...</td>\n",
       "      <td>...</td>\n",
       "      <td>...</td>\n",
       "    </tr>\n",
       "    <tr>\n",
       "      <th>2936</th>\n",
       "      <td>cern</td>\n",
       "      <td>7.0</td>\n",
       "      <td>2.478571e+05</td>\n",
       "      <td>5.081081e+05</td>\n",
       "      <td>45000.0</td>\n",
       "      <td>50000.0</td>\n",
       "      <td>60000.0</td>\n",
       "      <td>65000.0</td>\n",
       "      <td>1400000.0</td>\n",
       "    </tr>\n",
       "    <tr>\n",
       "      <th>2937</th>\n",
       "      <td>ejada</td>\n",
       "      <td>14.0</td>\n",
       "      <td>1.797429e+05</td>\n",
       "      <td>2.682483e+05</td>\n",
       "      <td>6000.0</td>\n",
       "      <td>27250.0</td>\n",
       "      <td>55000.0</td>\n",
       "      <td>141750.0</td>\n",
       "      <td>900000.0</td>\n",
       "    </tr>\n",
       "    <tr>\n",
       "      <th>2938</th>\n",
       "      <td>yandex</td>\n",
       "      <td>18.0</td>\n",
       "      <td>1.646667e+05</td>\n",
       "      <td>4.589830e+05</td>\n",
       "      <td>2000.0</td>\n",
       "      <td>40000.0</td>\n",
       "      <td>53500.0</td>\n",
       "      <td>83750.0</td>\n",
       "      <td>2000000.0</td>\n",
       "    </tr>\n",
       "    <tr>\n",
       "      <th>2939</th>\n",
       "      <td>anyconnect</td>\n",
       "      <td>8.0</td>\n",
       "      <td>2.325000e+05</td>\n",
       "      <td>3.901666e+05</td>\n",
       "      <td>7000.0</td>\n",
       "      <td>7000.0</td>\n",
       "      <td>38500.0</td>\n",
       "      <td>221500.0</td>\n",
       "      <td>1000000.0</td>\n",
       "    </tr>\n",
       "    <tr>\n",
       "      <th>2940</th>\n",
       "      <td>ipvision canada inc</td>\n",
       "      <td>7.0</td>\n",
       "      <td>5.668571e+05</td>\n",
       "      <td>7.281967e+05</td>\n",
       "      <td>12000.0</td>\n",
       "      <td>30000.0</td>\n",
       "      <td>36000.0</td>\n",
       "      <td>1080000.0</td>\n",
       "      <td>1700000.0</td>\n",
       "    </tr>\n",
       "  </tbody>\n",
       "</table>\n",
       "<p>2941 rows × 9 columns</p>\n",
       "</div>"
      ],
      "text/plain": [
       "                  company  count          mean           std        min  \\\n",
       "0               indeedcom   11.0  1.944091e+06  1.463207e+06    90000.0   \n",
       "1      observeai z21 labs    7.0  2.771429e+06  6.921327e+05  1300000.0   \n",
       "2               harnessio    6.0  2.886667e+06  3.287349e+05  2320000.0   \n",
       "3              codenation   27.0  2.684444e+06  6.814257e+05   100000.0   \n",
       "4              gojek tech   11.0  2.433636e+06  8.564145e+05  1019999.0   \n",
       "...                   ...    ...           ...           ...        ...   \n",
       "2936                 cern    7.0  2.478571e+05  5.081081e+05    45000.0   \n",
       "2937                ejada   14.0  1.797429e+05  2.682483e+05     6000.0   \n",
       "2938               yandex   18.0  1.646667e+05  4.589830e+05     2000.0   \n",
       "2939           anyconnect    8.0  2.325000e+05  3.901666e+05     7000.0   \n",
       "2940  ipvision canada inc    7.0  5.668571e+05  7.281967e+05    12000.0   \n",
       "\n",
       "            25%        50%        75%        max  \n",
       "0      187500.0  3000000.0  3085000.0  3300000.0  \n",
       "1     2750000.0  3000000.0  3150000.0  3300000.0  \n",
       "2     2800000.0  2975000.0  3000000.0  3300000.0  \n",
       "3     2600000.0  2800000.0  3100000.0  3300000.0  \n",
       "4     1750000.0  2800000.0  3200000.0  3300000.0  \n",
       "...         ...        ...        ...        ...  \n",
       "2936    50000.0    60000.0    65000.0  1400000.0  \n",
       "2937    27250.0    55000.0   141750.0   900000.0  \n",
       "2938    40000.0    53500.0    83750.0  2000000.0  \n",
       "2939     7000.0    38500.0   221500.0  1000000.0  \n",
       "2940    30000.0    36000.0  1080000.0  1700000.0  \n",
       "\n",
       "[2941 rows x 9 columns]"
      ]
     },
     "execution_count": 106,
     "metadata": {},
     "output_type": "execute_result"
    }
   ],
   "source": [
    "company_cluster_n"
   ]
  },
  {
   "cell_type": "code",
   "execution_count": 107,
   "id": "4708cc83",
   "metadata": {},
   "outputs": [
    {
     "data": {
      "text/plain": [
       "988000.0"
      ]
     },
     "execution_count": 107,
     "metadata": {},
     "output_type": "execute_result"
    }
   ],
   "source": [
    "diff=((company_cluster_n['50%'][0:1].values -company_cluster_n['50%'][-1:].values)/3)[0]\n",
    "diff"
   ]
  },
  {
   "cell_type": "code",
   "execution_count": 108,
   "id": "39ede4e4",
   "metadata": {},
   "outputs": [
    {
     "data": {
      "text/plain": [
       "2012000.0"
      ]
     },
     "execution_count": 108,
     "metadata": {},
     "output_type": "execute_result"
    }
   ],
   "source": [
    "(company_cluster_n['50%'][0:1].values - diff)[0]"
   ]
  },
  {
   "cell_type": "code",
   "execution_count": 109,
   "id": "a709e70b",
   "metadata": {},
   "outputs": [],
   "source": [
    "company_cluster_n.loc[company_cluster_n['50%']>=(company_cluster_n['50%'][0:1].values - diff)[0],'company_cluster_n']=1\n",
    "\n",
    "\n",
    "company_cluster_n.loc[(company_cluster_n['50%']<(company_cluster_n['50%'][0:1].values - diff)[0])\n",
    "                      &\n",
    "                      (company_cluster_n['50%']>=(company_cluster_n['50%'][0:1].values - 2*diff)[0])\n",
    "                      \n",
    "                      \n",
    "                      ,'company_cluster_n']=2\n",
    "\n",
    "company_cluster_n['company_cluster_n'].fillna(3,inplace=True)\n"
   ]
  },
  {
   "cell_type": "code",
   "execution_count": 110,
   "id": "42246e90",
   "metadata": {},
   "outputs": [
    {
     "data": {
      "text/plain": [
       "3.0    55.321319\n",
       "2.0    40.836450\n",
       "1.0     3.842231\n",
       "Name: company_cluster_n, dtype: float64"
      ]
     },
     "execution_count": 110,
     "metadata": {},
     "output_type": "execute_result"
    }
   ],
   "source": [
    "company_cluster_n['company_cluster_n'].value_counts(normalize=True)*100\n"
   ]
  },
  {
   "cell_type": "code",
   "execution_count": 111,
   "id": "ba71a075",
   "metadata": {},
   "outputs": [],
   "source": [
    "####"
   ]
  },
  {
   "cell_type": "code",
   "execution_count": 112,
   "id": "60fa1d24",
   "metadata": {},
   "outputs": [],
   "source": [
    "company_job_cluster_n=grouped_c_j.sort_values(by=['50%','count'], ascending=False).reset_index() # can check this with less standard deviation"
   ]
  },
  {
   "cell_type": "code",
   "execution_count": 113,
   "id": "e52ee0e0",
   "metadata": {},
   "outputs": [
    {
     "data": {
      "text/html": [
       "<div>\n",
       "<style scoped>\n",
       "    .dataframe tbody tr th:only-of-type {\n",
       "        vertical-align: middle;\n",
       "    }\n",
       "\n",
       "    .dataframe tbody tr th {\n",
       "        vertical-align: top;\n",
       "    }\n",
       "\n",
       "    .dataframe thead th {\n",
       "        text-align: right;\n",
       "    }\n",
       "</style>\n",
       "<table border=\"1\" class=\"dataframe\">\n",
       "  <thead>\n",
       "    <tr style=\"text-align: right;\">\n",
       "      <th></th>\n",
       "      <th>job_position</th>\n",
       "      <th>company</th>\n",
       "      <th>count</th>\n",
       "      <th>mean</th>\n",
       "      <th>std</th>\n",
       "      <th>min</th>\n",
       "      <th>25%</th>\n",
       "      <th>50%</th>\n",
       "      <th>75%</th>\n",
       "      <th>max</th>\n",
       "    </tr>\n",
       "  </thead>\n",
       "  <tbody>\n",
       "    <tr>\n",
       "      <th>0</th>\n",
       "      <td>engineering leadership</td>\n",
       "      <td>beckman coulter</td>\n",
       "      <td>1.0</td>\n",
       "      <td>3329999.0</td>\n",
       "      <td>NaN</td>\n",
       "      <td>3329999.0</td>\n",
       "      <td>3329999.0</td>\n",
       "      <td>3329999.0</td>\n",
       "      <td>3329999.0</td>\n",
       "      <td>3329999.0</td>\n",
       "    </tr>\n",
       "    <tr>\n",
       "      <th>1</th>\n",
       "      <td>product designer</td>\n",
       "      <td>tata cliq</td>\n",
       "      <td>1.0</td>\n",
       "      <td>3329999.0</td>\n",
       "      <td>NaN</td>\n",
       "      <td>3329999.0</td>\n",
       "      <td>3329999.0</td>\n",
       "      <td>3329999.0</td>\n",
       "      <td>3329999.0</td>\n",
       "      <td>3329999.0</td>\n",
       "    </tr>\n",
       "    <tr>\n",
       "      <th>2</th>\n",
       "      <td>frontend developer</td>\n",
       "      <td>colortokens llp india pvt ltd</td>\n",
       "      <td>1.0</td>\n",
       "      <td>3325000.0</td>\n",
       "      <td>NaN</td>\n",
       "      <td>3325000.0</td>\n",
       "      <td>3325000.0</td>\n",
       "      <td>3325000.0</td>\n",
       "      <td>3325000.0</td>\n",
       "      <td>3325000.0</td>\n",
       "    </tr>\n",
       "    <tr>\n",
       "      <th>3</th>\n",
       "      <td>product manager</td>\n",
       "      <td>makemytripcom</td>\n",
       "      <td>3.0</td>\n",
       "      <td>3200000.0</td>\n",
       "      <td>173205.080757</td>\n",
       "      <td>3000000.0</td>\n",
       "      <td>3150000.0</td>\n",
       "      <td>3300000.0</td>\n",
       "      <td>3300000.0</td>\n",
       "      <td>3300000.0</td>\n",
       "    </tr>\n",
       "    <tr>\n",
       "      <th>4</th>\n",
       "      <td>qa engineer</td>\n",
       "      <td>gojek tech</td>\n",
       "      <td>2.0</td>\n",
       "      <td>3300000.0</td>\n",
       "      <td>0.000000</td>\n",
       "      <td>3300000.0</td>\n",
       "      <td>3300000.0</td>\n",
       "      <td>3300000.0</td>\n",
       "      <td>3300000.0</td>\n",
       "      <td>3300000.0</td>\n",
       "    </tr>\n",
       "    <tr>\n",
       "      <th>...</th>\n",
       "      <td>...</td>\n",
       "      <td>...</td>\n",
       "      <td>...</td>\n",
       "      <td>...</td>\n",
       "      <td>...</td>\n",
       "      <td>...</td>\n",
       "      <td>...</td>\n",
       "      <td>...</td>\n",
       "      <td>...</td>\n",
       "      <td>...</td>\n",
       "    </tr>\n",
       "    <tr>\n",
       "      <th>19739</th>\n",
       "      <td>support engineer</td>\n",
       "      <td>fidelity international</td>\n",
       "      <td>1.0</td>\n",
       "      <td>5000.0</td>\n",
       "      <td>NaN</td>\n",
       "      <td>5000.0</td>\n",
       "      <td>5000.0</td>\n",
       "      <td>5000.0</td>\n",
       "      <td>5000.0</td>\n",
       "      <td>5000.0</td>\n",
       "    </tr>\n",
       "    <tr>\n",
       "      <th>19740</th>\n",
       "      <td>devops engineer</td>\n",
       "      <td>wipro ltd  india</td>\n",
       "      <td>1.0</td>\n",
       "      <td>4000.0</td>\n",
       "      <td>NaN</td>\n",
       "      <td>4000.0</td>\n",
       "      <td>4000.0</td>\n",
       "      <td>4000.0</td>\n",
       "      <td>4000.0</td>\n",
       "      <td>4000.0</td>\n",
       "    </tr>\n",
       "    <tr>\n",
       "      <th>19741</th>\n",
       "      <td>technical consultant</td>\n",
       "      <td>not applicable account</td>\n",
       "      <td>1.0</td>\n",
       "      <td>2000.0</td>\n",
       "      <td>NaN</td>\n",
       "      <td>2000.0</td>\n",
       "      <td>2000.0</td>\n",
       "      <td>2000.0</td>\n",
       "      <td>2000.0</td>\n",
       "      <td>2000.0</td>\n",
       "    </tr>\n",
       "    <tr>\n",
       "      <th>19742</th>\n",
       "      <td>android engineer</td>\n",
       "      <td>vis careers</td>\n",
       "      <td>1.0</td>\n",
       "      <td>1000.0</td>\n",
       "      <td>NaN</td>\n",
       "      <td>1000.0</td>\n",
       "      <td>1000.0</td>\n",
       "      <td>1000.0</td>\n",
       "      <td>1000.0</td>\n",
       "      <td>1000.0</td>\n",
       "    </tr>\n",
       "    <tr>\n",
       "      <th>19743</th>\n",
       "      <td>ios engineer</td>\n",
       "      <td>startup</td>\n",
       "      <td>1.0</td>\n",
       "      <td>1000.0</td>\n",
       "      <td>NaN</td>\n",
       "      <td>1000.0</td>\n",
       "      <td>1000.0</td>\n",
       "      <td>1000.0</td>\n",
       "      <td>1000.0</td>\n",
       "      <td>1000.0</td>\n",
       "    </tr>\n",
       "  </tbody>\n",
       "</table>\n",
       "<p>19744 rows × 10 columns</p>\n",
       "</div>"
      ],
      "text/plain": [
       "                 job_position                        company  count  \\\n",
       "0      engineering leadership                beckman coulter    1.0   \n",
       "1            product designer                      tata cliq    1.0   \n",
       "2          frontend developer  colortokens llp india pvt ltd    1.0   \n",
       "3             product manager                  makemytripcom    3.0   \n",
       "4                 qa engineer                     gojek tech    2.0   \n",
       "...                       ...                            ...    ...   \n",
       "19739        support engineer         fidelity international    1.0   \n",
       "19740         devops engineer               wipro ltd  india    1.0   \n",
       "19741    technical consultant         not applicable account    1.0   \n",
       "19742        android engineer                    vis careers    1.0   \n",
       "19743            ios engineer                        startup    1.0   \n",
       "\n",
       "            mean            std        min        25%        50%        75%  \\\n",
       "0      3329999.0            NaN  3329999.0  3329999.0  3329999.0  3329999.0   \n",
       "1      3329999.0            NaN  3329999.0  3329999.0  3329999.0  3329999.0   \n",
       "2      3325000.0            NaN  3325000.0  3325000.0  3325000.0  3325000.0   \n",
       "3      3200000.0  173205.080757  3000000.0  3150000.0  3300000.0  3300000.0   \n",
       "4      3300000.0       0.000000  3300000.0  3300000.0  3300000.0  3300000.0   \n",
       "...          ...            ...        ...        ...        ...        ...   \n",
       "19739     5000.0            NaN     5000.0     5000.0     5000.0     5000.0   \n",
       "19740     4000.0            NaN     4000.0     4000.0     4000.0     4000.0   \n",
       "19741     2000.0            NaN     2000.0     2000.0     2000.0     2000.0   \n",
       "19742     1000.0            NaN     1000.0     1000.0     1000.0     1000.0   \n",
       "19743     1000.0            NaN     1000.0     1000.0     1000.0     1000.0   \n",
       "\n",
       "             max  \n",
       "0      3329999.0  \n",
       "1      3329999.0  \n",
       "2      3325000.0  \n",
       "3      3300000.0  \n",
       "4      3300000.0  \n",
       "...          ...  \n",
       "19739     5000.0  \n",
       "19740     4000.0  \n",
       "19741     2000.0  \n",
       "19742     1000.0  \n",
       "19743     1000.0  \n",
       "\n",
       "[19744 rows x 10 columns]"
      ]
     },
     "execution_count": 113,
     "metadata": {},
     "output_type": "execute_result"
    }
   ],
   "source": [
    "company_job_cluster_n"
   ]
  },
  {
   "cell_type": "code",
   "execution_count": 114,
   "id": "7383916c",
   "metadata": {},
   "outputs": [
    {
     "data": {
      "text/plain": [
       "1109666.3333333333"
      ]
     },
     "execution_count": 114,
     "metadata": {},
     "output_type": "execute_result"
    }
   ],
   "source": [
    "diff=((company_job_cluster_n['50%'][0:1].values -company_job_cluster_n['50%'][-1:].values)/3)[0]\n",
    "diff"
   ]
  },
  {
   "cell_type": "code",
   "execution_count": 115,
   "id": "f534d793",
   "metadata": {},
   "outputs": [],
   "source": [
    "company_job_cluster_n.loc[company_job_cluster_n['50%']>=(company_job_cluster_n['50%'][0:1].values - diff)[0],'company_job_cluster_n']=1\n",
    "\n",
    "\n",
    "company_job_cluster_n.loc[(company_job_cluster_n['50%']<(company_job_cluster_n['50%'][0:1].values - diff)[0])\n",
    "                      &\n",
    "                      (company_job_cluster_n['50%']>=(company_job_cluster_n['50%'][0:1].values - 2*diff)[0])\n",
    "                      \n",
    "                      \n",
    "                      ,'company_job_cluster_n']=2\n",
    "\n",
    "company_job_cluster_n['company_job_cluster_n'].fillna(3,inplace=True)\n"
   ]
  },
  {
   "cell_type": "code",
   "execution_count": 116,
   "id": "00f9608f",
   "metadata": {},
   "outputs": [
    {
     "data": {
      "text/plain": [
       "3.0    11261\n",
       "2.0     6922\n",
       "1.0     1561\n",
       "Name: company_job_cluster_n, dtype: int64"
      ]
     },
     "execution_count": 116,
     "metadata": {},
     "output_type": "execute_result"
    }
   ],
   "source": [
    "company_job_cluster_n['company_job_cluster_n'].value_counts()"
   ]
  },
  {
   "cell_type": "markdown",
   "id": "7c8a9221",
   "metadata": {},
   "source": [
    "## Merging data with these two generated columns"
   ]
  },
  {
   "cell_type": "code",
   "execution_count": 117,
   "id": "86a5f881",
   "metadata": {},
   "outputs": [],
   "source": [
    "data_company_n=data.merge(company_cluster_n, on ='company', how='left')"
   ]
  },
  {
   "cell_type": "code",
   "execution_count": 118,
   "id": "0905f391",
   "metadata": {},
   "outputs": [],
   "source": [
    "x=list(data.columns)\n",
    "x.append('company_cluster_n')\n",
    "data_company_n=data_company_n[x]"
   ]
  },
  {
   "cell_type": "code",
   "execution_count": 119,
   "id": "559fd4cb",
   "metadata": {},
   "outputs": [],
   "source": [
    "final_n=data_company_n.merge(company_job_cluster_n, on =['company','job_position'], how='left')"
   ]
  },
  {
   "cell_type": "code",
   "execution_count": 120,
   "id": "234ce709",
   "metadata": {},
   "outputs": [],
   "source": [
    "y=list(data_company_n.columns)\n",
    "y.append('company_job_cluster_n')\n",
    "final_n=final_n[y]"
   ]
  },
  {
   "cell_type": "code",
   "execution_count": 121,
   "id": "35cf91f5",
   "metadata": {},
   "outputs": [],
   "source": [
    "#used this step if we are not doing the option 2\n",
    "final=final_n.copy()"
   ]
  },
  {
   "cell_type": "markdown",
   "id": "9b10d3d3",
   "metadata": {},
   "source": [
    "# Some more joins and cluster analysis steps (Optional 2)\n",
    "\n",
    "company_cluster=grouped_c.sort_values(by=['50%','count'], ascending=False).reset_index().reset_index() # can check this with less standard deviation\n",
    "\n",
    "company_cluster\n",
    "\n",
    "company_cluster.shape\n",
    "\n",
    "company_cluster.loc[company_cluster['index']<=round(company_cluster.shape[0]/3),'company_cluster']=1\n",
    "company_cluster.loc[(company_cluster['index']>round(company_cluster.shape[0]/3))\n",
    "                    &\n",
    "                    (company_cluster['index']<=round(2*company_cluster.shape[0]/3))\n",
    "                    ,'company_cluster']=2\n",
    "\n",
    "company_cluster.loc[(company_cluster['index']>round(2*company_cluster.shape[0]/3))\n",
    "                    ,'company_cluster']=3\n",
    "\n",
    "company_cluster['company_cluster'].value_counts()\n",
    "\n",
    "company_job_cluster=grouped_c_j.sort_values(by=['50%','count'], ascending=False).reset_index().reset_index() # can check this with less standard deviation\n",
    "\n",
    "company_job_cluster\n",
    "\n",
    "company_job_cluster.shape\n",
    "\n",
    "company_job_cluster.loc[company_job_cluster['index']<=round(company_job_cluster.shape[0]/3),'company_job_cluster']=1\n",
    "company_job_cluster.loc[(company_job_cluster['index']>round(company_job_cluster.shape[0]/3))\n",
    "                    &\n",
    "                    (company_job_cluster['index']<=round(2*company_job_cluster.shape[0]/3))\n",
    "                    ,'company_job_cluster']=2\n",
    "\n",
    "company_job_cluster.loc[(company_job_cluster['index']>round(2*company_job_cluster.shape[0]/3))\n",
    "                    ,'company_job_cluster']=3\n",
    "\n",
    "company_job_cluster['company_job_cluster'].value_counts()\n",
    "\n",
    "## Merging data with these two generated columns\n",
    "\n",
    "data_company=data.merge(company_cluster, on ='company', how='left')\n",
    "\n",
    "x=list(data.columns)\n",
    "\n",
    "x.append('company_cluster')\n",
    "\n",
    "data_company=data_company[x]\n",
    "\n",
    "final=data_company.merge(company_job_cluster, on =['company','job_position'], how='left')\n",
    "\n",
    "y=list(data_company.columns)\n",
    "y.append('company_job_cluster')\n",
    "final=final[y]"
   ]
  },
  {
   "cell_type": "code",
   "execution_count": 122,
   "id": "2a7a1b6a",
   "metadata": {},
   "outputs": [
    {
     "data": {
      "text/html": [
       "<div>\n",
       "<style scoped>\n",
       "    .dataframe tbody tr th:only-of-type {\n",
       "        vertical-align: middle;\n",
       "    }\n",
       "\n",
       "    .dataframe tbody tr th {\n",
       "        vertical-align: top;\n",
       "    }\n",
       "\n",
       "    .dataframe thead th {\n",
       "        text-align: right;\n",
       "    }\n",
       "</style>\n",
       "<table border=\"1\" class=\"dataframe\">\n",
       "  <thead>\n",
       "    <tr style=\"text-align: right;\">\n",
       "      <th></th>\n",
       "      <th>company</th>\n",
       "      <th>orgyear</th>\n",
       "      <th>ctc</th>\n",
       "      <th>ctc_updated_year</th>\n",
       "      <th>years_of_experience</th>\n",
       "      <th>job_position</th>\n",
       "      <th>classs</th>\n",
       "      <th>designation</th>\n",
       "      <th>tier</th>\n",
       "      <th>company_cluster_n</th>\n",
       "      <th>company_job_cluster_n</th>\n",
       "    </tr>\n",
       "  </thead>\n",
       "  <tbody>\n",
       "    <tr>\n",
       "      <th>86751</th>\n",
       "      <td>beckman coulter</td>\n",
       "      <td>2006.0</td>\n",
       "      <td>2300000</td>\n",
       "      <td>2019.0</td>\n",
       "      <td>16.0</td>\n",
       "      <td>devops engineer</td>\n",
       "      <td>2</td>\n",
       "      <td>2</td>\n",
       "      <td>1</td>\n",
       "      <td>2.0</td>\n",
       "      <td>1.0</td>\n",
       "    </tr>\n",
       "    <tr>\n",
       "      <th>95879</th>\n",
       "      <td>beckman coulter</td>\n",
       "      <td>2006.0</td>\n",
       "      <td>3329999</td>\n",
       "      <td>2019.0</td>\n",
       "      <td>16.0</td>\n",
       "      <td>engineering leadership</td>\n",
       "      <td>2</td>\n",
       "      <td>2</td>\n",
       "      <td>1</td>\n",
       "      <td>2.0</td>\n",
       "      <td>1.0</td>\n",
       "    </tr>\n",
       "    <tr>\n",
       "      <th>9781</th>\n",
       "      <td>beckman coulter</td>\n",
       "      <td>2015.0</td>\n",
       "      <td>1800000</td>\n",
       "      <td>2021.0</td>\n",
       "      <td>7.0</td>\n",
       "      <td>data scientist</td>\n",
       "      <td>2</td>\n",
       "      <td>2</td>\n",
       "      <td>2</td>\n",
       "      <td>2.0</td>\n",
       "      <td>2.0</td>\n",
       "    </tr>\n",
       "    <tr>\n",
       "      <th>22648</th>\n",
       "      <td>beckman coulter</td>\n",
       "      <td>2010.0</td>\n",
       "      <td>1800000</td>\n",
       "      <td>2020.0</td>\n",
       "      <td>12.0</td>\n",
       "      <td>fullstack devloper</td>\n",
       "      <td>2</td>\n",
       "      <td>2</td>\n",
       "      <td>2</td>\n",
       "      <td>2.0</td>\n",
       "      <td>2.0</td>\n",
       "    </tr>\n",
       "    <tr>\n",
       "      <th>23752</th>\n",
       "      <td>beckman coulter</td>\n",
       "      <td>2014.0</td>\n",
       "      <td>1550000</td>\n",
       "      <td>2021.0</td>\n",
       "      <td>8.0</td>\n",
       "      <td>fullstack devloper</td>\n",
       "      <td>3</td>\n",
       "      <td>2</td>\n",
       "      <td>2</td>\n",
       "      <td>2.0</td>\n",
       "      <td>2.0</td>\n",
       "    </tr>\n",
       "    <tr>\n",
       "      <th>33257</th>\n",
       "      <td>beckman coulter</td>\n",
       "      <td>2009.0</td>\n",
       "      <td>17000</td>\n",
       "      <td>2019.0</td>\n",
       "      <td>13.0</td>\n",
       "      <td>others</td>\n",
       "      <td>3</td>\n",
       "      <td>2</td>\n",
       "      <td>3</td>\n",
       "      <td>2.0</td>\n",
       "      <td>2.0</td>\n",
       "    </tr>\n",
       "    <tr>\n",
       "      <th>62157</th>\n",
       "      <td>beckman coulter</td>\n",
       "      <td>2012.0</td>\n",
       "      <td>2500000</td>\n",
       "      <td>2021.0</td>\n",
       "      <td>10.0</td>\n",
       "      <td>fullstack devloper</td>\n",
       "      <td>1</td>\n",
       "      <td>2</td>\n",
       "      <td>1</td>\n",
       "      <td>2.0</td>\n",
       "      <td>2.0</td>\n",
       "    </tr>\n",
       "    <tr>\n",
       "      <th>77407</th>\n",
       "      <td>beckman coulter</td>\n",
       "      <td>2012.0</td>\n",
       "      <td>2500000</td>\n",
       "      <td>2021.0</td>\n",
       "      <td>10.0</td>\n",
       "      <td>others</td>\n",
       "      <td>1</td>\n",
       "      <td>2</td>\n",
       "      <td>1</td>\n",
       "      <td>2.0</td>\n",
       "      <td>2.0</td>\n",
       "    </tr>\n",
       "    <tr>\n",
       "      <th>95471</th>\n",
       "      <td>beckman coulter</td>\n",
       "      <td>2014.0</td>\n",
       "      <td>1400000</td>\n",
       "      <td>2019.0</td>\n",
       "      <td>8.0</td>\n",
       "      <td>frontend developer</td>\n",
       "      <td>2</td>\n",
       "      <td>2</td>\n",
       "      <td>3</td>\n",
       "      <td>2.0</td>\n",
       "      <td>2.0</td>\n",
       "    </tr>\n",
       "    <tr>\n",
       "      <th>103293</th>\n",
       "      <td>beckman coulter</td>\n",
       "      <td>2009.0</td>\n",
       "      <td>1410000</td>\n",
       "      <td>2019.0</td>\n",
       "      <td>13.0</td>\n",
       "      <td>software developer 1</td>\n",
       "      <td>1</td>\n",
       "      <td>2</td>\n",
       "      <td>2</td>\n",
       "      <td>2.0</td>\n",
       "      <td>2.0</td>\n",
       "    </tr>\n",
       "    <tr>\n",
       "      <th>129671</th>\n",
       "      <td>beckman coulter</td>\n",
       "      <td>2009.0</td>\n",
       "      <td>17000</td>\n",
       "      <td>2019.0</td>\n",
       "      <td>13.0</td>\n",
       "      <td>fullstack devloper</td>\n",
       "      <td>3</td>\n",
       "      <td>2</td>\n",
       "      <td>3</td>\n",
       "      <td>2.0</td>\n",
       "      <td>2.0</td>\n",
       "    </tr>\n",
       "    <tr>\n",
       "      <th>132592</th>\n",
       "      <td>beckman coulter</td>\n",
       "      <td>2014.0</td>\n",
       "      <td>900000</td>\n",
       "      <td>2019.0</td>\n",
       "      <td>8.0</td>\n",
       "      <td>software developer 1</td>\n",
       "      <td>3</td>\n",
       "      <td>2</td>\n",
       "      <td>3</td>\n",
       "      <td>2.0</td>\n",
       "      <td>2.0</td>\n",
       "    </tr>\n",
       "    <tr>\n",
       "      <th>26661</th>\n",
       "      <td>beckman coulter</td>\n",
       "      <td>2018.0</td>\n",
       "      <td>1000000</td>\n",
       "      <td>2021.0</td>\n",
       "      <td>4.0</td>\n",
       "      <td>backend engineer</td>\n",
       "      <td>2</td>\n",
       "      <td>2</td>\n",
       "      <td>3</td>\n",
       "      <td>2.0</td>\n",
       "      <td>3.0</td>\n",
       "    </tr>\n",
       "    <tr>\n",
       "      <th>70851</th>\n",
       "      <td>beckman coulter</td>\n",
       "      <td>2010.0</td>\n",
       "      <td>509999</td>\n",
       "      <td>2019.0</td>\n",
       "      <td>12.0</td>\n",
       "      <td>qa engineer</td>\n",
       "      <td>3</td>\n",
       "      <td>2</td>\n",
       "      <td>3</td>\n",
       "      <td>2.0</td>\n",
       "      <td>3.0</td>\n",
       "    </tr>\n",
       "    <tr>\n",
       "      <th>139135</th>\n",
       "      <td>beckman coulter</td>\n",
       "      <td>2015.0</td>\n",
       "      <td>760000</td>\n",
       "      <td>2019.0</td>\n",
       "      <td>7.0</td>\n",
       "      <td>qa engineer</td>\n",
       "      <td>1</td>\n",
       "      <td>2</td>\n",
       "      <td>3</td>\n",
       "      <td>2.0</td>\n",
       "      <td>3.0</td>\n",
       "    </tr>\n",
       "  </tbody>\n",
       "</table>\n",
       "</div>"
      ],
      "text/plain": [
       "                company  orgyear      ctc  ctc_updated_year  \\\n",
       "86751   beckman coulter   2006.0  2300000            2019.0   \n",
       "95879   beckman coulter   2006.0  3329999            2019.0   \n",
       "9781    beckman coulter   2015.0  1800000            2021.0   \n",
       "22648   beckman coulter   2010.0  1800000            2020.0   \n",
       "23752   beckman coulter   2014.0  1550000            2021.0   \n",
       "33257   beckman coulter   2009.0    17000            2019.0   \n",
       "62157   beckman coulter   2012.0  2500000            2021.0   \n",
       "77407   beckman coulter   2012.0  2500000            2021.0   \n",
       "95471   beckman coulter   2014.0  1400000            2019.0   \n",
       "103293  beckman coulter   2009.0  1410000            2019.0   \n",
       "129671  beckman coulter   2009.0    17000            2019.0   \n",
       "132592  beckman coulter   2014.0   900000            2019.0   \n",
       "26661   beckman coulter   2018.0  1000000            2021.0   \n",
       "70851   beckman coulter   2010.0   509999            2019.0   \n",
       "139135  beckman coulter   2015.0   760000            2019.0   \n",
       "\n",
       "        years_of_experience            job_position  classs  designation  \\\n",
       "86751                  16.0         devops engineer       2            2   \n",
       "95879                  16.0  engineering leadership       2            2   \n",
       "9781                    7.0          data scientist       2            2   \n",
       "22648                  12.0      fullstack devloper       2            2   \n",
       "23752                   8.0      fullstack devloper       3            2   \n",
       "33257                  13.0                  others       3            2   \n",
       "62157                  10.0      fullstack devloper       1            2   \n",
       "77407                  10.0                  others       1            2   \n",
       "95471                   8.0      frontend developer       2            2   \n",
       "103293                 13.0    software developer 1       1            2   \n",
       "129671                 13.0      fullstack devloper       3            2   \n",
       "132592                  8.0    software developer 1       3            2   \n",
       "26661                   4.0        backend engineer       2            2   \n",
       "70851                  12.0             qa engineer       3            2   \n",
       "139135                  7.0             qa engineer       1            2   \n",
       "\n",
       "        tier  company_cluster_n  company_job_cluster_n  \n",
       "86751      1                2.0                    1.0  \n",
       "95879      1                2.0                    1.0  \n",
       "9781       2                2.0                    2.0  \n",
       "22648      2                2.0                    2.0  \n",
       "23752      2                2.0                    2.0  \n",
       "33257      3                2.0                    2.0  \n",
       "62157      1                2.0                    2.0  \n",
       "77407      1                2.0                    2.0  \n",
       "95471      3                2.0                    2.0  \n",
       "103293     2                2.0                    2.0  \n",
       "129671     3                2.0                    2.0  \n",
       "132592     3                2.0                    2.0  \n",
       "26661      3                2.0                    3.0  \n",
       "70851      3                2.0                    3.0  \n",
       "139135     3                2.0                    3.0  "
      ]
     },
     "execution_count": 122,
     "metadata": {},
     "output_type": "execute_result"
    }
   ],
   "source": [
    "final[final['company']=='beckman coulter'].sort_values(by='company_job_cluster_n')"
   ]
  },
  {
   "cell_type": "code",
   "execution_count": 123,
   "id": "9678c6b7",
   "metadata": {},
   "outputs": [
    {
     "data": {
      "text/plain": [
       "(140841, 11)"
      ]
     },
     "execution_count": 123,
     "metadata": {},
     "output_type": "execute_result"
    }
   ],
   "source": [
    "final.shape"
   ]
  },
  {
   "cell_type": "code",
   "execution_count": 127,
   "id": "2ed4ddf3",
   "metadata": {},
   "outputs": [
    {
     "data": {
      "text/plain": [
       "(140894, 11)"
      ]
     },
     "execution_count": 127,
     "metadata": {},
     "output_type": "execute_result"
    }
   ],
   "source": [
    "final.drop_duplicates().shape"
   ]
  },
  {
   "attachments": {
    "image.png": {
     "image/png": "[encoded data removed]"
    }
   },
   "cell_type": "markdown",
   "id": "1387bb0d",
   "metadata": {},
   "source": [
    "### Definition: \n",
    "\n",
    "1. **Designation**: Salary an employee is getting wrt salary in the same Company, Job_Position & Years of Experience\n",
    "2. **Class**: Salary an employee is getting wrt the salary in the same Company & Job_Position \n",
    "3. **Tier**: Salary an employee is getting wrt the salary in the same Company\n",
    "\n",
    "\n",
    "![image.png](attachment:image.png)\n",
    "### Some Questions this data can Answer: <br>\n",
    "    1. Show creme de la creme records from the data (Filter 1 from all the flags)\n",
    "    2. What's the current positioning of the employee\n",
    "    3. Where to next? Pitch (After seeing their present cluster)\n",
    "    "
   ]
  },
  {
   "cell_type": "markdown",
   "id": "93253f09",
   "metadata": {
    "id": "93253f09"
   },
   "source": [
    "## Macro Analysis Ex: \n",
    "Since we are doing clustering at employee level we have to bring characterics of employees only. \n",
    "1. Top 10 employees (earning more than most of the employees in the company) (tier 1) <br>\n",
    "    \n",
    "    1a. Top 10 employees of data science in Amazon / TCS etc earning more than their peers (class 1) <br>\n",
    "    1b. Bottom 10 employees of data science in Amazon / TCS etc earning less than their peers (class 3) <br>\n",
    "2. Bottom 10 employees (earning less than most of the employees in the company) (tier 3)\n",
    "3. Top 10 employees in the amazon- data science- having 5/6/7 years of experience earning more than their peers\n",
    "\n",
    "## Micro Analysis Examples: \n",
    "1. Top 10 companies (basis on their offered CTC) - grouped_c, sort by descending, head(10)\n",
    "2. Top 2 positions in every company (basis on their offered CTC) - grouped_c_j, sort by descending, head(10)"
   ]
  },
  {
   "cell_type": "code",
   "execution_count": 125,
   "id": "altered-driving",
   "metadata": {
    "id": "altered-driving"
   },
   "outputs": [],
   "source": [
    "x=final.copy()"
   ]
  },
  {
   "cell_type": "code",
   "execution_count": 126,
   "id": "b5cfac0e",
   "metadata": {
    "colab": {
     "base_uri": "https://localhost:8080/"
    },
    "id": "b5cfac0e",
    "outputId": "ce2dfbc2-2adc-494f-b19d-c49531462468"
   },
   "outputs": [
    {
     "data": {
      "text/plain": [
       "(140841, 11)"
      ]
     },
     "execution_count": 126,
     "metadata": {},
     "output_type": "execute_result"
    }
   ],
   "source": [
    "final.shape"
   ]
  },
  {
   "cell_type": "code",
   "execution_count": 127,
   "id": "1mG_o8lyPTsZ",
   "metadata": {
    "colab": {
     "base_uri": "https://localhost:8080/"
    },
    "id": "1mG_o8lyPTsZ",
    "outputId": "66a7d627-877b-4fe0-ce59-9ff098700f36"
   },
   "outputs": [
    {
     "name": "stdout",
     "output_type": "stream",
     "text": [
      "<class 'pandas.core.frame.DataFrame'>\n",
      "Int64Index: 140841 entries, 0 to 140840\n",
      "Data columns (total 11 columns):\n",
      " #   Column                 Non-Null Count   Dtype  \n",
      "---  ------                 --------------   -----  \n",
      " 0   company                140841 non-null  object \n",
      " 1   orgyear                140841 non-null  float64\n",
      " 2   ctc                    140841 non-null  int64  \n",
      " 3   ctc_updated_year       140841 non-null  float64\n",
      " 4   years_of_experience    140841 non-null  float64\n",
      " 5   job_position           140841 non-null  object \n",
      " 6   classs                 140841 non-null  int64  \n",
      " 7   designation            140841 non-null  int64  \n",
      " 8   tier                   140841 non-null  int64  \n",
      " 9   company_cluster_n      140841 non-null  float64\n",
      " 10  company_job_cluster_n  140841 non-null  float64\n",
      "dtypes: float64(5), int64(4), object(2)\n",
      "memory usage: 12.9+ MB\n"
     ]
    }
   ],
   "source": [
    "x.info()"
   ]
  },
  {
   "cell_type": "code",
   "execution_count": 128,
   "id": "yC-ENBCIZzrS",
   "metadata": {
    "id": "yC-ENBCIZzrS"
   },
   "outputs": [],
   "source": [
    "#x.to_csv('cln.csv')"
   ]
  },
  {
   "cell_type": "markdown",
   "id": "4c33a51a",
   "metadata": {},
   "source": [
    "# Unsupervised Learning"
   ]
  },
  {
   "cell_type": "markdown",
   "id": "SxJQk5S3mLzU",
   "metadata": {
    "id": "SxJQk5S3mLzU"
   },
   "source": [
    "## KMeans"
   ]
  },
  {
   "cell_type": "markdown",
   "id": "a74dafbc",
   "metadata": {
    "id": "a74dafbc"
   },
   "source": [
    "\n",
    "1. Check Clustering Tendency\n",
    "2. Do elbow method etc for checking the number of optimal clusters (bring it to 3)\n",
    "3. Do kmeans clustering\n",
    "4. Hierarchial clustering of sample dataset (shuffle and take 50k rows)"
   ]
  },
  {
   "cell_type": "markdown",
   "id": "W4puc-Lv-VMg",
   "metadata": {
    "id": "W4puc-Lv-VMg"
   },
   "source": [
    "## Label encoding"
   ]
  },
  {
   "cell_type": "code",
   "execution_count": 129,
   "id": "9b68d830",
   "metadata": {
    "colab": {
     "base_uri": "https://localhost:8080/"
    },
    "id": "9b68d830",
    "outputId": "e7e2bacb-25a2-4588-f625-92037f975e93"
   },
   "outputs": [
    {
     "data": {
      "text/plain": [
       "(140841, 11)"
      ]
     },
     "execution_count": 129,
     "metadata": {},
     "output_type": "execute_result"
    }
   ],
   "source": [
    "x.shape"
   ]
  },
  {
   "cell_type": "code",
   "execution_count": 130,
   "id": "tMU9HKX2-YNF",
   "metadata": {
    "colab": {
     "base_uri": "https://localhost:8080/"
    },
    "id": "tMU9HKX2-YNF",
    "outputId": "b8a52801-c0d5-4a1a-d697-1f3372fe6e80"
   },
   "outputs": [
    {
     "data": {
      "text/plain": [
       "array(['deloitte india', 'reliance infocomm limited', 'Others', ...,\n",
       "       'gloify', 'mu sigma', 'sumtotal systems'], dtype=object)"
      ]
     },
     "execution_count": 130,
     "metadata": {},
     "output_type": "execute_result"
    }
   ],
   "source": [
    "x['company'].unique()"
   ]
  },
  {
   "cell_type": "code",
   "execution_count": 131,
   "id": "dNO6W-R6-Uiy",
   "metadata": {
    "colab": {
     "base_uri": "https://localhost:8080/"
    },
    "id": "dNO6W-R6-Uiy",
    "outputId": "d144adec-39c5-49f4-e65d-0579fdde1ba1"
   },
   "outputs": [
    {
     "data": {
      "text/plain": [
       "array([ 693, 2158,   19, ..., 1014, 1717, 2444])"
      ]
     },
     "execution_count": 131,
     "metadata": {},
     "output_type": "execute_result"
    }
   ],
   "source": [
    "from sklearn import preprocessing\n",
    " \n",
    "label_encoder = preprocessing.LabelEncoder()\n",
    "x['company']= label_encoder.fit_transform(x['company'])\n",
    " \n",
    "x['company'].unique()"
   ]
  },
  {
   "cell_type": "code",
   "execution_count": 132,
   "id": "aeCqUdfi-s9d",
   "metadata": {
    "colab": {
     "base_uri": "https://localhost:8080/"
    },
    "id": "aeCqUdfi-s9d",
    "outputId": "c14438ba-e7a2-4631-f559-5cd6219a1d6f"
   },
   "outputs": [
    {
     "data": {
      "text/plain": [
       "array([279, 184,  88, 212, 127, 182, 160, 132, 159,  16, 322, 339, 434,\n",
       "       516, 359, 148, 303, 311, 112, 300, 519,  87, 136, 335,  27, 561,\n",
       "        51,   3, 467, 557, 375, 435, 318, 254, 451, 436, 150,  20,  94,\n",
       "       370, 186, 245, 458, 204, 512, 275, 379, 208, 374, 270,  66, 542,\n",
       "       167,  42, 459, 169,  47, 299, 470,  45, 443, 207, 369, 301, 157,\n",
       "       231, 489, 163,  60, 185, 452, 400,  95, 460, 377, 206,  92,  48,\n",
       "       221, 558, 348, 237, 577, 317, 243, 461,  11, 393,  77, 352, 258,\n",
       "       397, 313, 534, 257, 472, 525,  68, 569, 541, 382, 170,  89, 344,\n",
       "       411, 302, 103, 373, 351, 367, 291, 327, 465,  81, 320, 362, 139,\n",
       "       415,  67, 115, 517, 538,  65, 197, 329, 239, 430, 566, 261, 410,\n",
       "       280, 282, 172, 268, 346, 336, 247, 439, 164, 380, 448, 230, 252,\n",
       "       567, 274, 110, 504, 101, 128, 381, 441,  62, 466, 314, 412, 528,\n",
       "       193,  46, 571, 406,  55, 326, 116, 450, 236, 315, 264, 102, 114,\n",
       "        41,  23, 232, 527, 524, 174, 123, 384, 480,   4,  61, 153, 426,\n",
       "       423, 510, 250, 484, 284,  13, 143, 286, 396, 481, 491, 173, 328,\n",
       "        82,   2, 449, 142, 296, 242, 498, 155, 288,  37, 109, 444, 533,\n",
       "        54, 298, 548, 499,  44, 521, 419, 263, 398, 501,  15, 244, 294,\n",
       "       181, 108,   7,  98, 323,  79, 188, 111, 129,  84,  83, 433, 350,\n",
       "       146, 392,  63, 177, 532,  19, 579,  32, 546, 271, 429, 331, 476,\n",
       "       455, 464, 272, 356, 463,  26, 265,  74, 438, 487, 394, 471, 551,\n",
       "       124, 520,  21, 190, 515, 387, 196, 283,  24,  49, 347, 251, 216,\n",
       "       337, 224, 285,  36, 454, 119, 483,  18, 363, 152,  35,  34, 552,\n",
       "       420,  28,  14, 345, 246, 556, 574, 113, 395,  52,  70, 368, 518,\n",
       "       417, 289, 383, 563, 565, 255, 495, 175, 361, 133, 508,  39, 198,\n",
       "        59, 330, 554, 486, 295, 453, 253, 319, 403,  90,  73, 203, 559,\n",
       "       526, 338, 325, 505,   9, 503,  50, 120, 493, 568,  99, 494, 544,\n",
       "       414, 385, 570, 540,  31, 134, 437, 421, 306, 137, 372, 522, 277,\n",
       "       492, 413, 575, 122, 573, 509,   5, 192, 171, 500, 262,  53, 161,\n",
       "         6, 125,  97,  76, 259, 156, 179, 222, 118, 402, 432, 576, 100,\n",
       "       390, 371, 366, 485, 416, 405, 305,  22, 312, 195, 211, 201, 445,\n",
       "       227, 349,   1, 497, 537, 213,   0, 234, 202,  72, 324, 238, 447,\n",
       "       297, 477, 287,  56, 342, 269, 334, 260,  96, 228, 241, 488, 218,\n",
       "       209, 353, 191, 543, 141, 281, 166,  43, 117, 276,  17, 290, 168,\n",
       "       364, 523, 138, 162, 511, 389, 165,  64, 418, 135, 149, 550, 248,\n",
       "       266,  80, 578, 278, 249, 502, 316, 267, 539, 205, 409, 178, 365,\n",
       "       401,  25, 343,  91, 555, 151, 404, 427, 474, 145, 308, 547, 309,\n",
       "       536, 158, 553, 422,  29, 462, 310, 545, 358, 332, 321,  93, 154,\n",
       "       446, 144, 440,  78, 233, 106, 378, 562, 514, 482, 176, 199,  33,\n",
       "       399, 431, 341, 360, 229, 189, 479, 530, 225, 121,  71, 391, 506,\n",
       "       220,  58, 256, 357,  86, 424, 140, 210, 104, 469, 564, 549,  75,\n",
       "       240, 131, 457,  38, 456, 386, 333, 217, 490, 214, 147,  69,  57,\n",
       "       126, 273, 425, 513, 428, 355, 307, 105, 473, 215, 531, 475, 376,\n",
       "       535, 293, 354, 107, 180, 340, 130, 219,  30, 478, 187,  40, 226,\n",
       "       407, 235, 507, 408, 388, 194, 183,   8, 442,  10, 292, 560, 200,\n",
       "       529, 223, 304, 468, 496,  12, 572,  85])"
      ]
     },
     "execution_count": 132,
     "metadata": {},
     "output_type": "execute_result"
    }
   ],
   "source": [
    "x['job_position']= label_encoder.fit_transform(x['job_position'])\n",
    "x['job_position'].unique()"
   ]
  },
  {
   "cell_type": "markdown",
   "id": "1d32a4ed",
   "metadata": {
    "id": "1d32a4ed"
   },
   "source": [
    "x=pd.read_csv('suraajcln.csv',index_col=0)"
   ]
  },
  {
   "cell_type": "code",
   "execution_count": 133,
   "id": "fpRfRstr-6A8",
   "metadata": {
    "colab": {
     "base_uri": "https://localhost:8080/",
     "height": 206
    },
    "id": "fpRfRstr-6A8",
    "outputId": "107c84e7-0987-41ac-d2e8-2d1cc4ceb8fc"
   },
   "outputs": [
    {
     "data": {
      "text/html": [
       "<div>\n",
       "<style scoped>\n",
       "    .dataframe tbody tr th:only-of-type {\n",
       "        vertical-align: middle;\n",
       "    }\n",
       "\n",
       "    .dataframe tbody tr th {\n",
       "        vertical-align: top;\n",
       "    }\n",
       "\n",
       "    .dataframe thead th {\n",
       "        text-align: right;\n",
       "    }\n",
       "</style>\n",
       "<table border=\"1\" class=\"dataframe\">\n",
       "  <thead>\n",
       "    <tr style=\"text-align: right;\">\n",
       "      <th></th>\n",
       "      <th>company</th>\n",
       "      <th>orgyear</th>\n",
       "      <th>ctc</th>\n",
       "      <th>ctc_updated_year</th>\n",
       "      <th>years_of_experience</th>\n",
       "      <th>job_position</th>\n",
       "      <th>classs</th>\n",
       "      <th>designation</th>\n",
       "      <th>tier</th>\n",
       "      <th>company_cluster_n</th>\n",
       "      <th>company_job_cluster_n</th>\n",
       "    </tr>\n",
       "  </thead>\n",
       "  <tbody>\n",
       "    <tr>\n",
       "      <th>0</th>\n",
       "      <td>693</td>\n",
       "      <td>2016.0</td>\n",
       "      <td>1100000</td>\n",
       "      <td>2020.0</td>\n",
       "      <td>6.0</td>\n",
       "      <td>279</td>\n",
       "      <td>1</td>\n",
       "      <td>2</td>\n",
       "      <td>2</td>\n",
       "      <td>2.0</td>\n",
       "      <td>3.0</td>\n",
       "    </tr>\n",
       "    <tr>\n",
       "      <th>1</th>\n",
       "      <td>2158</td>\n",
       "      <td>2018.0</td>\n",
       "      <td>449999</td>\n",
       "      <td>2019.0</td>\n",
       "      <td>4.0</td>\n",
       "      <td>184</td>\n",
       "      <td>3</td>\n",
       "      <td>3</td>\n",
       "      <td>3</td>\n",
       "      <td>3.0</td>\n",
       "      <td>3.0</td>\n",
       "    </tr>\n",
       "    <tr>\n",
       "      <th>2</th>\n",
       "      <td>19</td>\n",
       "      <td>2015.0</td>\n",
       "      <td>2000000</td>\n",
       "      <td>2020.0</td>\n",
       "      <td>7.0</td>\n",
       "      <td>88</td>\n",
       "      <td>1</td>\n",
       "      <td>1</td>\n",
       "      <td>1</td>\n",
       "      <td>3.0</td>\n",
       "      <td>3.0</td>\n",
       "    </tr>\n",
       "    <tr>\n",
       "      <th>3</th>\n",
       "      <td>2619</td>\n",
       "      <td>2017.0</td>\n",
       "      <td>700000</td>\n",
       "      <td>2019.0</td>\n",
       "      <td>5.0</td>\n",
       "      <td>88</td>\n",
       "      <td>3</td>\n",
       "      <td>3</td>\n",
       "      <td>3</td>\n",
       "      <td>2.0</td>\n",
       "      <td>2.0</td>\n",
       "    </tr>\n",
       "    <tr>\n",
       "      <th>4</th>\n",
       "      <td>2177</td>\n",
       "      <td>2017.0</td>\n",
       "      <td>1400000</td>\n",
       "      <td>2019.0</td>\n",
       "      <td>5.0</td>\n",
       "      <td>184</td>\n",
       "      <td>1</td>\n",
       "      <td>2</td>\n",
       "      <td>1</td>\n",
       "      <td>3.0</td>\n",
       "      <td>3.0</td>\n",
       "    </tr>\n",
       "  </tbody>\n",
       "</table>\n",
       "</div>"
      ],
      "text/plain": [
       "   company  orgyear      ctc  ctc_updated_year  years_of_experience  \\\n",
       "0      693   2016.0  1100000            2020.0                  6.0   \n",
       "1     2158   2018.0   449999            2019.0                  4.0   \n",
       "2       19   2015.0  2000000            2020.0                  7.0   \n",
       "3     2619   2017.0   700000            2019.0                  5.0   \n",
       "4     2177   2017.0  1400000            2019.0                  5.0   \n",
       "\n",
       "   job_position  classs  designation  tier  company_cluster_n  \\\n",
       "0           279       1            2     2                2.0   \n",
       "1           184       3            3     3                3.0   \n",
       "2            88       1            1     1                3.0   \n",
       "3            88       3            3     3                2.0   \n",
       "4           184       1            2     1                3.0   \n",
       "\n",
       "   company_job_cluster_n  \n",
       "0                    3.0  \n",
       "1                    3.0  \n",
       "2                    3.0  \n",
       "3                    2.0  \n",
       "4                    3.0  "
      ]
     },
     "execution_count": 133,
     "metadata": {},
     "output_type": "execute_result"
    }
   ],
   "source": [
    "x.head()"
   ]
  },
  {
   "cell_type": "code",
   "execution_count": 134,
   "id": "AC14MwJSTqhT",
   "metadata": {
    "colab": {
     "base_uri": "https://localhost:8080/"
    },
    "id": "AC14MwJSTqhT",
    "outputId": "15d195b9-12a0-4a52-c720-7ac06cf00d52"
   },
   "outputs": [
    {
     "name": "stdout",
     "output_type": "stream",
     "text": [
      "<class 'pandas.core.frame.DataFrame'>\n",
      "Int64Index: 140841 entries, 0 to 140840\n",
      "Data columns (total 11 columns):\n",
      " #   Column                 Non-Null Count   Dtype  \n",
      "---  ------                 --------------   -----  \n",
      " 0   company                140841 non-null  int64  \n",
      " 1   orgyear                140841 non-null  float64\n",
      " 2   ctc                    140841 non-null  int64  \n",
      " 3   ctc_updated_year       140841 non-null  float64\n",
      " 4   years_of_experience    140841 non-null  float64\n",
      " 5   job_position           140841 non-null  int64  \n",
      " 6   classs                 140841 non-null  int64  \n",
      " 7   designation            140841 non-null  int64  \n",
      " 8   tier                   140841 non-null  int64  \n",
      " 9   company_cluster_n      140841 non-null  float64\n",
      " 10  company_job_cluster_n  140841 non-null  float64\n",
      "dtypes: float64(5), int64(6)\n",
      "memory usage: 12.9 MB\n"
     ]
    }
   ],
   "source": [
    "x.info()"
   ]
  },
  {
   "cell_type": "code",
   "execution_count": 135,
   "id": "_AQr_oegW-_M",
   "metadata": {
    "id": "_AQr_oegW-_M"
   },
   "outputs": [],
   "source": [
    "x.drop(columns=['orgyear'],inplace=True)\n",
    "x.drop(columns=['ctc_updated_year'],inplace=True)\n",
    "#x.drop(columns=['job_position'],inplace=True)\n"
   ]
  },
  {
   "cell_type": "code",
   "execution_count": 136,
   "id": "90e5sk5SWsUs",
   "metadata": {
    "colab": {
     "base_uri": "https://localhost:8080/",
     "height": 206
    },
    "id": "90e5sk5SWsUs",
    "outputId": "efc152d0-5b5b-433d-c965-494891beb8f8"
   },
   "outputs": [
    {
     "data": {
      "text/html": [
       "<div>\n",
       "<style scoped>\n",
       "    .dataframe tbody tr th:only-of-type {\n",
       "        vertical-align: middle;\n",
       "    }\n",
       "\n",
       "    .dataframe tbody tr th {\n",
       "        vertical-align: top;\n",
       "    }\n",
       "\n",
       "    .dataframe thead th {\n",
       "        text-align: right;\n",
       "    }\n",
       "</style>\n",
       "<table border=\"1\" class=\"dataframe\">\n",
       "  <thead>\n",
       "    <tr style=\"text-align: right;\">\n",
       "      <th></th>\n",
       "      <th>company</th>\n",
       "      <th>ctc</th>\n",
       "      <th>years_of_experience</th>\n",
       "      <th>job_position</th>\n",
       "      <th>classs</th>\n",
       "      <th>designation</th>\n",
       "      <th>tier</th>\n",
       "      <th>company_cluster_n</th>\n",
       "      <th>company_job_cluster_n</th>\n",
       "    </tr>\n",
       "  </thead>\n",
       "  <tbody>\n",
       "    <tr>\n",
       "      <th>0</th>\n",
       "      <td>693</td>\n",
       "      <td>1100000</td>\n",
       "      <td>6.0</td>\n",
       "      <td>279</td>\n",
       "      <td>1</td>\n",
       "      <td>2</td>\n",
       "      <td>2</td>\n",
       "      <td>2.0</td>\n",
       "      <td>3.0</td>\n",
       "    </tr>\n",
       "    <tr>\n",
       "      <th>1</th>\n",
       "      <td>2158</td>\n",
       "      <td>449999</td>\n",
       "      <td>4.0</td>\n",
       "      <td>184</td>\n",
       "      <td>3</td>\n",
       "      <td>3</td>\n",
       "      <td>3</td>\n",
       "      <td>3.0</td>\n",
       "      <td>3.0</td>\n",
       "    </tr>\n",
       "    <tr>\n",
       "      <th>2</th>\n",
       "      <td>19</td>\n",
       "      <td>2000000</td>\n",
       "      <td>7.0</td>\n",
       "      <td>88</td>\n",
       "      <td>1</td>\n",
       "      <td>1</td>\n",
       "      <td>1</td>\n",
       "      <td>3.0</td>\n",
       "      <td>3.0</td>\n",
       "    </tr>\n",
       "    <tr>\n",
       "      <th>3</th>\n",
       "      <td>2619</td>\n",
       "      <td>700000</td>\n",
       "      <td>5.0</td>\n",
       "      <td>88</td>\n",
       "      <td>3</td>\n",
       "      <td>3</td>\n",
       "      <td>3</td>\n",
       "      <td>2.0</td>\n",
       "      <td>2.0</td>\n",
       "    </tr>\n",
       "    <tr>\n",
       "      <th>4</th>\n",
       "      <td>2177</td>\n",
       "      <td>1400000</td>\n",
       "      <td>5.0</td>\n",
       "      <td>184</td>\n",
       "      <td>1</td>\n",
       "      <td>2</td>\n",
       "      <td>1</td>\n",
       "      <td>3.0</td>\n",
       "      <td>3.0</td>\n",
       "    </tr>\n",
       "  </tbody>\n",
       "</table>\n",
       "</div>"
      ],
      "text/plain": [
       "   company      ctc  years_of_experience  job_position  classs  designation  \\\n",
       "0      693  1100000                  6.0           279       1            2   \n",
       "1     2158   449999                  4.0           184       3            3   \n",
       "2       19  2000000                  7.0            88       1            1   \n",
       "3     2619   700000                  5.0            88       3            3   \n",
       "4     2177  1400000                  5.0           184       1            2   \n",
       "\n",
       "   tier  company_cluster_n  company_job_cluster_n  \n",
       "0     2                2.0                    3.0  \n",
       "1     3                3.0                    3.0  \n",
       "2     1                3.0                    3.0  \n",
       "3     3                2.0                    2.0  \n",
       "4     1                3.0                    3.0  "
      ]
     },
     "execution_count": 136,
     "metadata": {},
     "output_type": "execute_result"
    }
   ],
   "source": [
    "x.head()"
   ]
  },
  {
   "cell_type": "code",
   "execution_count": 137,
   "id": "tym5aVNB_0B2",
   "metadata": {
    "colab": {
     "base_uri": "https://localhost:8080/"
    },
    "id": "tym5aVNB_0B2",
    "outputId": "60fb0ca1-d285-471d-cbbb-d3a827628e54"
   },
   "outputs": [
    {
     "data": {
      "text/plain": [
       "company                  0\n",
       "ctc                      0\n",
       "years_of_experience      0\n",
       "job_position             0\n",
       "classs                   0\n",
       "designation              0\n",
       "tier                     0\n",
       "company_cluster_n        0\n",
       "company_job_cluster_n    0\n",
       "dtype: int64"
      ]
     },
     "execution_count": 137,
     "metadata": {},
     "output_type": "execute_result"
    }
   ],
   "source": [
    "x.isnull().sum()"
   ]
  },
  {
   "cell_type": "code",
   "execution_count": 138,
   "id": "gHbQQgEKm80G",
   "metadata": {
    "colab": {
     "base_uri": "https://localhost:8080/"
    },
    "id": "gHbQQgEKm80G",
    "outputId": "5eca10a5-84ad-4d14-f9e6-c8c497fcab2d",
    "scrolled": true
   },
   "outputs": [
    {
     "name": "stdout",
     "output_type": "stream",
     "text": [
      "   company       ctc  years_of_experience  job_position  classs  designation  \\\n",
      "0      693  0.330330                  6.0           279       1            2   \n",
      "1     2158  0.135134                  4.0           184       3            3   \n",
      "2       19  0.600600                  7.0            88       1            1   \n",
      "3     2619  0.210210                  5.0            88       3            3   \n",
      "4     2177  0.420420                  5.0           184       1            2   \n",
      "\n",
      "   tier  company_cluster_n  company_job_cluster_n  \n",
      "0     2                2.0                    3.0  \n",
      "1     3                3.0                    3.0  \n",
      "2     1                3.0                    3.0  \n",
      "3     3                2.0                    2.0  \n",
      "4     1                3.0                    3.0  \n"
     ]
    }
   ],
   "source": [
    "from sklearn.preprocessing import MinMaxScaler\n",
    "ms = MinMaxScaler()\n",
    "# ------- fix X #do this after label encoding\n",
    "x[['ctc']] = ms.fit_transform(x[['ctc']])\n",
    "print(x.head())"
   ]
  },
  {
   "cell_type": "markdown",
   "id": "SXb8gzXdRyyC",
   "metadata": {
    "id": "SXb8gzXdRyyC"
   },
   "source": [
    "Clustering Tendancy"
   ]
  },
  {
   "cell_type": "code",
   "execution_count": 139,
   "id": "FFyISkIaRx2B",
   "metadata": {
    "colab": {
     "base_uri": "https://localhost:8080/"
    },
    "id": "FFyISkIaRx2B",
    "outputId": "9039d757-5e2f-480f-9f1d-6b7035e4c040"
   },
   "outputs": [
    {
     "name": "stdout",
     "output_type": "stream",
     "text": [
      "Requirement already satisfied: pyclustertend in /Users/suraaj/opt/anaconda3/lib/python3.9/site-packages (1.7.0)\n",
      "Requirement already satisfied: numpy==1.20.3 in /Users/suraaj/opt/anaconda3/lib/python3.9/site-packages (from pyclustertend) (1.20.3)\n",
      "Requirement already satisfied: scikit-learn<0.25.0,>=0.24.0 in /Users/suraaj/opt/anaconda3/lib/python3.9/site-packages (from pyclustertend) (0.24.2)\n",
      "Requirement already satisfied: numba<0.55.0,>=0.54.1 in /Users/suraaj/opt/anaconda3/lib/python3.9/site-packages (from pyclustertend) (0.54.1)\n",
      "Requirement already satisfied: matplotlib<4.0.0,>=3.3.3 in /Users/suraaj/opt/anaconda3/lib/python3.9/site-packages (from pyclustertend) (3.4.3)\n",
      "Requirement already satisfied: pandas<2.0.0,>=1.2.0 in /Users/suraaj/opt/anaconda3/lib/python3.9/site-packages (from pyclustertend) (1.3.4)\n",
      "Requirement already satisfied: kiwisolver>=1.0.1 in /Users/suraaj/opt/anaconda3/lib/python3.9/site-packages (from matplotlib<4.0.0,>=3.3.3->pyclustertend) (1.3.1)\n",
      "Requirement already satisfied: pyparsing>=2.2.1 in /Users/suraaj/opt/anaconda3/lib/python3.9/site-packages (from matplotlib<4.0.0,>=3.3.3->pyclustertend) (3.0.4)\n",
      "Requirement already satisfied: python-dateutil>=2.7 in /Users/suraaj/opt/anaconda3/lib/python3.9/site-packages (from matplotlib<4.0.0,>=3.3.3->pyclustertend) (2.8.2)\n",
      "Requirement already satisfied: pillow>=6.2.0 in /Users/suraaj/opt/anaconda3/lib/python3.9/site-packages (from matplotlib<4.0.0,>=3.3.3->pyclustertend) (8.4.0)\n",
      "Requirement already satisfied: cycler>=0.10 in /Users/suraaj/opt/anaconda3/lib/python3.9/site-packages (from matplotlib<4.0.0,>=3.3.3->pyclustertend) (0.10.0)\n",
      "Requirement already satisfied: six in /Users/suraaj/opt/anaconda3/lib/python3.9/site-packages (from cycler>=0.10->matplotlib<4.0.0,>=3.3.3->pyclustertend) (1.16.0)\n",
      "Requirement already satisfied: llvmlite<0.38,>=0.37.0rc1 in /Users/suraaj/opt/anaconda3/lib/python3.9/site-packages (from numba<0.55.0,>=0.54.1->pyclustertend) (0.37.0)\n",
      "Requirement already satisfied: setuptools in /Users/suraaj/opt/anaconda3/lib/python3.9/site-packages (from numba<0.55.0,>=0.54.1->pyclustertend) (58.0.4)\n",
      "Requirement already satisfied: pytz>=2017.3 in /Users/suraaj/opt/anaconda3/lib/python3.9/site-packages (from pandas<2.0.0,>=1.2.0->pyclustertend) (2021.3)\n",
      "Requirement already satisfied: scipy>=0.19.1 in /Users/suraaj/opt/anaconda3/lib/python3.9/site-packages (from scikit-learn<0.25.0,>=0.24.0->pyclustertend) (1.7.1)\n",
      "Requirement already satisfied: joblib>=0.11 in /Users/suraaj/opt/anaconda3/lib/python3.9/site-packages (from scikit-learn<0.25.0,>=0.24.0->pyclustertend) (1.1.0)\n",
      "Requirement already satisfied: threadpoolctl>=2.0.0 in /Users/suraaj/opt/anaconda3/lib/python3.9/site-packages (from scikit-learn<0.25.0,>=0.24.0->pyclustertend) (2.2.0)\n"
     ]
    }
   ],
   "source": [
    "!pip install pyclustertend"
   ]
  },
  {
   "cell_type": "code",
   "execution_count": 140,
   "id": "O1ohU0B7WuIl",
   "metadata": {
    "id": "O1ohU0B7WuIl"
   },
   "outputs": [],
   "source": [
    "import matplotlib.pyplot as plt\n",
    "import seaborn as sns\n",
    "import sklearn\n",
    "from sklearn.cluster import KMeans\n",
    "from pyclustertend import hopkins\n",
    "from sklearn.preprocessing import scale"
   ]
  },
  {
   "cell_type": "code",
   "execution_count": 141,
   "id": "af40f81a",
   "metadata": {},
   "outputs": [],
   "source": [
    "x.dropna(inplace=True)"
   ]
  },
  {
   "cell_type": "code",
   "execution_count": 143,
   "id": "c6808de5",
   "metadata": {},
   "outputs": [
    {
     "data": {
      "text/html": [
       "<div>\n",
       "<style scoped>\n",
       "    .dataframe tbody tr th:only-of-type {\n",
       "        vertical-align: middle;\n",
       "    }\n",
       "\n",
       "    .dataframe tbody tr th {\n",
       "        vertical-align: top;\n",
       "    }\n",
       "\n",
       "    .dataframe thead th {\n",
       "        text-align: right;\n",
       "    }\n",
       "</style>\n",
       "<table border=\"1\" class=\"dataframe\">\n",
       "  <thead>\n",
       "    <tr style=\"text-align: right;\">\n",
       "      <th></th>\n",
       "      <th>company</th>\n",
       "      <th>ctc</th>\n",
       "      <th>years_of_experience</th>\n",
       "      <th>job_position</th>\n",
       "      <th>classs</th>\n",
       "      <th>designation</th>\n",
       "      <th>tier</th>\n",
       "      <th>company_cluster_n</th>\n",
       "      <th>company_job_cluster_n</th>\n",
       "    </tr>\n",
       "  </thead>\n",
       "  <tbody>\n",
       "    <tr>\n",
       "      <th>0</th>\n",
       "      <td>693</td>\n",
       "      <td>0.330330</td>\n",
       "      <td>6.0</td>\n",
       "      <td>279</td>\n",
       "      <td>1</td>\n",
       "      <td>2</td>\n",
       "      <td>2</td>\n",
       "      <td>2.0</td>\n",
       "      <td>3.0</td>\n",
       "    </tr>\n",
       "    <tr>\n",
       "      <th>1</th>\n",
       "      <td>2158</td>\n",
       "      <td>0.135134</td>\n",
       "      <td>4.0</td>\n",
       "      <td>184</td>\n",
       "      <td>3</td>\n",
       "      <td>3</td>\n",
       "      <td>3</td>\n",
       "      <td>3.0</td>\n",
       "      <td>3.0</td>\n",
       "    </tr>\n",
       "    <tr>\n",
       "      <th>2</th>\n",
       "      <td>19</td>\n",
       "      <td>0.600600</td>\n",
       "      <td>7.0</td>\n",
       "      <td>88</td>\n",
       "      <td>1</td>\n",
       "      <td>1</td>\n",
       "      <td>1</td>\n",
       "      <td>3.0</td>\n",
       "      <td>3.0</td>\n",
       "    </tr>\n",
       "    <tr>\n",
       "      <th>3</th>\n",
       "      <td>2619</td>\n",
       "      <td>0.210210</td>\n",
       "      <td>5.0</td>\n",
       "      <td>88</td>\n",
       "      <td>3</td>\n",
       "      <td>3</td>\n",
       "      <td>3</td>\n",
       "      <td>2.0</td>\n",
       "      <td>2.0</td>\n",
       "    </tr>\n",
       "    <tr>\n",
       "      <th>4</th>\n",
       "      <td>2177</td>\n",
       "      <td>0.420420</td>\n",
       "      <td>5.0</td>\n",
       "      <td>184</td>\n",
       "      <td>1</td>\n",
       "      <td>2</td>\n",
       "      <td>1</td>\n",
       "      <td>3.0</td>\n",
       "      <td>3.0</td>\n",
       "    </tr>\n",
       "    <tr>\n",
       "      <th>...</th>\n",
       "      <td>...</td>\n",
       "      <td>...</td>\n",
       "      <td>...</td>\n",
       "      <td>...</td>\n",
       "      <td>...</td>\n",
       "      <td>...</td>\n",
       "      <td>...</td>\n",
       "      <td>...</td>\n",
       "      <td>...</td>\n",
       "    </tr>\n",
       "    <tr>\n",
       "      <th>140836</th>\n",
       "      <td>300</td>\n",
       "      <td>0.675675</td>\n",
       "      <td>11.0</td>\n",
       "      <td>279</td>\n",
       "      <td>1</td>\n",
       "      <td>1</td>\n",
       "      <td>1</td>\n",
       "      <td>3.0</td>\n",
       "      <td>3.0</td>\n",
       "    </tr>\n",
       "    <tr>\n",
       "      <th>140837</th>\n",
       "      <td>186</td>\n",
       "      <td>0.066066</td>\n",
       "      <td>14.0</td>\n",
       "      <td>279</td>\n",
       "      <td>3</td>\n",
       "      <td>2</td>\n",
       "      <td>3</td>\n",
       "      <td>1.0</td>\n",
       "      <td>1.0</td>\n",
       "    </tr>\n",
       "    <tr>\n",
       "      <th>140838</th>\n",
       "      <td>2702</td>\n",
       "      <td>0.150150</td>\n",
       "      <td>5.0</td>\n",
       "      <td>279</td>\n",
       "      <td>3</td>\n",
       "      <td>3</td>\n",
       "      <td>3</td>\n",
       "      <td>2.0</td>\n",
       "      <td>3.0</td>\n",
       "    </tr>\n",
       "    <tr>\n",
       "      <th>140839</th>\n",
       "      <td>41</td>\n",
       "      <td>0.210210</td>\n",
       "      <td>1.0</td>\n",
       "      <td>279</td>\n",
       "      <td>3</td>\n",
       "      <td>2</td>\n",
       "      <td>3</td>\n",
       "      <td>2.0</td>\n",
       "      <td>2.0</td>\n",
       "    </tr>\n",
       "    <tr>\n",
       "      <th>140840</th>\n",
       "      <td>1694</td>\n",
       "      <td>0.372372</td>\n",
       "      <td>8.0</td>\n",
       "      <td>279</td>\n",
       "      <td>3</td>\n",
       "      <td>3</td>\n",
       "      <td>3</td>\n",
       "      <td>2.0</td>\n",
       "      <td>2.0</td>\n",
       "    </tr>\n",
       "  </tbody>\n",
       "</table>\n",
       "<p>140841 rows × 9 columns</p>\n",
       "</div>"
      ],
      "text/plain": [
       "        company       ctc  years_of_experience  job_position  classs  \\\n",
       "0           693  0.330330                  6.0           279       1   \n",
       "1          2158  0.135134                  4.0           184       3   \n",
       "2            19  0.600600                  7.0            88       1   \n",
       "3          2619  0.210210                  5.0            88       3   \n",
       "4          2177  0.420420                  5.0           184       1   \n",
       "...         ...       ...                  ...           ...     ...   \n",
       "140836      300  0.675675                 11.0           279       1   \n",
       "140837      186  0.066066                 14.0           279       3   \n",
       "140838     2702  0.150150                  5.0           279       3   \n",
       "140839       41  0.210210                  1.0           279       3   \n",
       "140840     1694  0.372372                  8.0           279       3   \n",
       "\n",
       "        designation  tier  company_cluster_n  company_job_cluster_n  \n",
       "0                 2     2                2.0                    3.0  \n",
       "1                 3     3                3.0                    3.0  \n",
       "2                 1     1                3.0                    3.0  \n",
       "3                 3     3                2.0                    2.0  \n",
       "4                 2     1                3.0                    3.0  \n",
       "...             ...   ...                ...                    ...  \n",
       "140836            1     1                3.0                    3.0  \n",
       "140837            2     3                1.0                    1.0  \n",
       "140838            3     3                2.0                    3.0  \n",
       "140839            2     3                2.0                    2.0  \n",
       "140840            3     3                2.0                    2.0  \n",
       "\n",
       "[140841 rows x 9 columns]"
      ]
     },
     "execution_count": 143,
     "metadata": {},
     "output_type": "execute_result"
    }
   ],
   "source": [
    "x"
   ]
  },
  {
   "cell_type": "code",
   "execution_count": 144,
   "id": "isaIxYWEcSZP",
   "metadata": {
    "id": "isaIxYWEcSZP"
   },
   "outputs": [],
   "source": [
    "hop=hopkins(x,150)"
   ]
  },
  {
   "cell_type": "code",
   "execution_count": 145,
   "id": "0P-F5Pk8cSbe",
   "metadata": {
    "colab": {
     "base_uri": "https://localhost:8080/"
    },
    "id": "0P-F5Pk8cSbe",
    "outputId": "49237b46-23c3-4e37-eddc-36afbc81456e"
   },
   "outputs": [
    {
     "name": "stdout",
     "output_type": "stream",
     "text": [
      "0.06334270569598614\n"
     ]
    }
   ],
   "source": [
    "print(hop)"
   ]
  },
  {
   "cell_type": "markdown",
   "id": "MsCjCVG0cvsz",
   "metadata": {
    "id": "MsCjCVG0cvsz"
   },
   "source": [
    "A value close to 1 tends to indicate the data is highly clustered, random data will tend to result in values around 0.5, and uniformly distributed data will tend to result in values close to 0."
   ]
  },
  {
   "cell_type": "code",
   "execution_count": 146,
   "id": "Gt8bjEQdhftM",
   "metadata": {
    "id": "Gt8bjEQdhftM"
   },
   "outputs": [],
   "source": [
    "#o=x.copy(deep=True)"
   ]
  },
  {
   "cell_type": "code",
   "execution_count": 147,
   "id": "4RG0VpxvWuQB",
   "metadata": {
    "colab": {
     "base_uri": "https://localhost:8080/",
     "height": 295
    },
    "id": "4RG0VpxvWuQB",
    "outputId": "4df6b4f1-d090-49ee-9ea9-aa387e8976ea"
   },
   "outputs": [
    {
     "data": {
      "image/png": "[encoded data removed]",
      "text/plain": [
       "<Figure size 432x288 with 1 Axes>"
      ]
     },
     "metadata": {
      "needs_background": "light"
     },
     "output_type": "display_data"
    }
   ],
   "source": [
    "Sum_of_squared_distances = []\n",
    "K = range(1,10)\n",
    "for num_clusters in K :\n",
    "  kmeans = KMeans(n_clusters=num_clusters)\n",
    "  kmeans.fit(x)\n",
    "  Sum_of_squared_distances.append(kmeans.inertia_)\n",
    "plt.plot(K,Sum_of_squared_distances,'bx-')\n",
    "plt.xlabel('Values of K') \n",
    "plt.ylabel('Sum of squared distances/Inertia') \n",
    "plt.title('Elbow Method For Optimal k')\n",
    "plt.show()"
   ]
  },
  {
   "cell_type": "code",
   "execution_count": 148,
   "id": "smQA0D0bcSd-",
   "metadata": {
    "colab": {
     "base_uri": "https://localhost:8080/"
    },
    "id": "smQA0D0bcSd-",
    "outputId": "f5e7b966-69d3-46b9-e219-11e02d5ecf6b"
   },
   "outputs": [
    {
     "name": "stdout",
     "output_type": "stream",
     "text": [
      "[[2.34049358e+03 3.52817532e-01 6.38508394e+00 2.04635652e+02\n",
      "  2.18770295e+00 2.10785916e+00 2.23821551e+00 2.47713140e+00\n",
      "  2.52524567e+00]\n",
      " [2.08229821e+02 3.22948042e-01 6.90748563e+00 2.02310100e+02\n",
      "  2.21277163e+00 2.16670472e+00 2.24099022e+00 2.73364539e+00\n",
      "  2.72192412e+00]\n",
      " [1.29177321e+03 3.56499683e-01 6.43112703e+00 2.04035511e+02\n",
      "  2.18486762e+00 2.09934418e+00 2.23665290e+00 2.50097158e+00\n",
      "  2.56312849e+00]]\n",
      "(3, 9)\n"
     ]
    }
   ],
   "source": [
    "kmeans = KMeans(n_clusters=3)\n",
    "\n",
    "kmeans.fit(x)\n",
    "print(kmeans.cluster_centers_)\n",
    "print(kmeans.cluster_centers_.shape)"
   ]
  },
  {
   "cell_type": "code",
   "execution_count": 149,
   "id": "7daf3b85",
   "metadata": {
    "id": "7daf3b85"
   },
   "outputs": [],
   "source": [
    "x['k-m label']=kmeans.fit_predict(x)"
   ]
  },
  {
   "cell_type": "code",
   "execution_count": 150,
   "id": "984e9bea",
   "metadata": {
    "colab": {
     "base_uri": "https://localhost:8080/"
    },
    "id": "984e9bea",
    "outputId": "765bd594-3285-4bb8-99b0-1bb795565f5d"
   },
   "outputs": [
    {
     "data": {
      "text/html": [
       "<div>\n",
       "<style scoped>\n",
       "    .dataframe tbody tr th:only-of-type {\n",
       "        vertical-align: middle;\n",
       "    }\n",
       "\n",
       "    .dataframe tbody tr th {\n",
       "        vertical-align: top;\n",
       "    }\n",
       "\n",
       "    .dataframe thead th {\n",
       "        text-align: right;\n",
       "    }\n",
       "</style>\n",
       "<table border=\"1\" class=\"dataframe\">\n",
       "  <thead>\n",
       "    <tr style=\"text-align: right;\">\n",
       "      <th></th>\n",
       "      <th>company</th>\n",
       "      <th>ctc</th>\n",
       "      <th>years_of_experience</th>\n",
       "      <th>job_position</th>\n",
       "      <th>classs</th>\n",
       "      <th>designation</th>\n",
       "      <th>tier</th>\n",
       "      <th>company_cluster_n</th>\n",
       "      <th>company_job_cluster_n</th>\n",
       "      <th>k-m label</th>\n",
       "    </tr>\n",
       "  </thead>\n",
       "  <tbody>\n",
       "    <tr>\n",
       "      <th>0</th>\n",
       "      <td>693</td>\n",
       "      <td>0.330330</td>\n",
       "      <td>6.0</td>\n",
       "      <td>279</td>\n",
       "      <td>1</td>\n",
       "      <td>2</td>\n",
       "      <td>2</td>\n",
       "      <td>2.0</td>\n",
       "      <td>3.0</td>\n",
       "      <td>1</td>\n",
       "    </tr>\n",
       "    <tr>\n",
       "      <th>1</th>\n",
       "      <td>2158</td>\n",
       "      <td>0.135134</td>\n",
       "      <td>4.0</td>\n",
       "      <td>184</td>\n",
       "      <td>3</td>\n",
       "      <td>3</td>\n",
       "      <td>3</td>\n",
       "      <td>3.0</td>\n",
       "      <td>3.0</td>\n",
       "      <td>0</td>\n",
       "    </tr>\n",
       "    <tr>\n",
       "      <th>2</th>\n",
       "      <td>19</td>\n",
       "      <td>0.600600</td>\n",
       "      <td>7.0</td>\n",
       "      <td>88</td>\n",
       "      <td>1</td>\n",
       "      <td>1</td>\n",
       "      <td>1</td>\n",
       "      <td>3.0</td>\n",
       "      <td>3.0</td>\n",
       "      <td>1</td>\n",
       "    </tr>\n",
       "    <tr>\n",
       "      <th>3</th>\n",
       "      <td>2619</td>\n",
       "      <td>0.210210</td>\n",
       "      <td>5.0</td>\n",
       "      <td>88</td>\n",
       "      <td>3</td>\n",
       "      <td>3</td>\n",
       "      <td>3</td>\n",
       "      <td>2.0</td>\n",
       "      <td>2.0</td>\n",
       "      <td>0</td>\n",
       "    </tr>\n",
       "    <tr>\n",
       "      <th>4</th>\n",
       "      <td>2177</td>\n",
       "      <td>0.420420</td>\n",
       "      <td>5.0</td>\n",
       "      <td>184</td>\n",
       "      <td>1</td>\n",
       "      <td>2</td>\n",
       "      <td>1</td>\n",
       "      <td>3.0</td>\n",
       "      <td>3.0</td>\n",
       "      <td>0</td>\n",
       "    </tr>\n",
       "    <tr>\n",
       "      <th>...</th>\n",
       "      <td>...</td>\n",
       "      <td>...</td>\n",
       "      <td>...</td>\n",
       "      <td>...</td>\n",
       "      <td>...</td>\n",
       "      <td>...</td>\n",
       "      <td>...</td>\n",
       "      <td>...</td>\n",
       "      <td>...</td>\n",
       "      <td>...</td>\n",
       "    </tr>\n",
       "    <tr>\n",
       "      <th>140836</th>\n",
       "      <td>300</td>\n",
       "      <td>0.675675</td>\n",
       "      <td>11.0</td>\n",
       "      <td>279</td>\n",
       "      <td>1</td>\n",
       "      <td>1</td>\n",
       "      <td>1</td>\n",
       "      <td>3.0</td>\n",
       "      <td>3.0</td>\n",
       "      <td>1</td>\n",
       "    </tr>\n",
       "    <tr>\n",
       "      <th>140837</th>\n",
       "      <td>186</td>\n",
       "      <td>0.066066</td>\n",
       "      <td>14.0</td>\n",
       "      <td>279</td>\n",
       "      <td>3</td>\n",
       "      <td>2</td>\n",
       "      <td>3</td>\n",
       "      <td>1.0</td>\n",
       "      <td>1.0</td>\n",
       "      <td>1</td>\n",
       "    </tr>\n",
       "    <tr>\n",
       "      <th>140838</th>\n",
       "      <td>2702</td>\n",
       "      <td>0.150150</td>\n",
       "      <td>5.0</td>\n",
       "      <td>279</td>\n",
       "      <td>3</td>\n",
       "      <td>3</td>\n",
       "      <td>3</td>\n",
       "      <td>2.0</td>\n",
       "      <td>3.0</td>\n",
       "      <td>0</td>\n",
       "    </tr>\n",
       "    <tr>\n",
       "      <th>140839</th>\n",
       "      <td>41</td>\n",
       "      <td>0.210210</td>\n",
       "      <td>1.0</td>\n",
       "      <td>279</td>\n",
       "      <td>3</td>\n",
       "      <td>2</td>\n",
       "      <td>3</td>\n",
       "      <td>2.0</td>\n",
       "      <td>2.0</td>\n",
       "      <td>1</td>\n",
       "    </tr>\n",
       "    <tr>\n",
       "      <th>140840</th>\n",
       "      <td>1694</td>\n",
       "      <td>0.372372</td>\n",
       "      <td>8.0</td>\n",
       "      <td>279</td>\n",
       "      <td>3</td>\n",
       "      <td>3</td>\n",
       "      <td>3</td>\n",
       "      <td>2.0</td>\n",
       "      <td>2.0</td>\n",
       "      <td>2</td>\n",
       "    </tr>\n",
       "  </tbody>\n",
       "</table>\n",
       "<p>140841 rows × 10 columns</p>\n",
       "</div>"
      ],
      "text/plain": [
       "        company       ctc  years_of_experience  job_position  classs  \\\n",
       "0           693  0.330330                  6.0           279       1   \n",
       "1          2158  0.135134                  4.0           184       3   \n",
       "2            19  0.600600                  7.0            88       1   \n",
       "3          2619  0.210210                  5.0            88       3   \n",
       "4          2177  0.420420                  5.0           184       1   \n",
       "...         ...       ...                  ...           ...     ...   \n",
       "140836      300  0.675675                 11.0           279       1   \n",
       "140837      186  0.066066                 14.0           279       3   \n",
       "140838     2702  0.150150                  5.0           279       3   \n",
       "140839       41  0.210210                  1.0           279       3   \n",
       "140840     1694  0.372372                  8.0           279       3   \n",
       "\n",
       "        designation  tier  company_cluster_n  company_job_cluster_n  k-m label  \n",
       "0                 2     2                2.0                    3.0          1  \n",
       "1                 3     3                3.0                    3.0          0  \n",
       "2                 1     1                3.0                    3.0          1  \n",
       "3                 3     3                2.0                    2.0          0  \n",
       "4                 2     1                3.0                    3.0          0  \n",
       "...             ...   ...                ...                    ...        ...  \n",
       "140836            1     1                3.0                    3.0          1  \n",
       "140837            2     3                1.0                    1.0          1  \n",
       "140838            3     3                2.0                    3.0          0  \n",
       "140839            2     3                2.0                    2.0          1  \n",
       "140840            3     3                2.0                    2.0          2  \n",
       "\n",
       "[140841 rows x 10 columns]"
      ]
     },
     "execution_count": 150,
     "metadata": {},
     "output_type": "execute_result"
    }
   ],
   "source": [
    "x"
   ]
  },
  {
   "cell_type": "code",
   "execution_count": 151,
   "id": "Pnqns8LhPTy-",
   "metadata": {
    "colab": {
     "base_uri": "https://localhost:8080/"
    },
    "id": "Pnqns8LhPTy-",
    "outputId": "ac99630a-9c87-4528-e65f-86500d9e4af3"
   },
   "outputs": [
    {
     "name": "stdout",
     "output_type": "stream",
     "text": [
      "<class 'pandas.core.frame.DataFrame'>\n",
      "Int64Index: 140841 entries, 0 to 140840\n",
      "Data columns (total 11 columns):\n",
      " #   Column                 Non-Null Count   Dtype  \n",
      "---  ------                 --------------   -----  \n",
      " 0   company                140841 non-null  object \n",
      " 1   orgyear                140841 non-null  float64\n",
      " 2   ctc                    140841 non-null  int64  \n",
      " 3   ctc_updated_year       140841 non-null  float64\n",
      " 4   years_of_experience    140841 non-null  float64\n",
      " 5   job_position           140841 non-null  object \n",
      " 6   classs                 140841 non-null  int64  \n",
      " 7   designation            140841 non-null  int64  \n",
      " 8   tier                   140841 non-null  int64  \n",
      " 9   company_cluster_n      140841 non-null  float64\n",
      " 10  company_job_cluster_n  140841 non-null  float64\n",
      "dtypes: float64(5), int64(4), object(2)\n",
      "memory usage: 12.9+ MB\n"
     ]
    }
   ],
   "source": [
    "z=final.copy()\n",
    "z.info()"
   ]
  },
  {
   "cell_type": "code",
   "execution_count": 152,
   "id": "zoLmhIJol_gR",
   "metadata": {
    "id": "zoLmhIJol_gR"
   },
   "outputs": [],
   "source": [
    "#x.drop(columns=['company'],inplace=True)\n",
    "#x.drop(columns=['ctc'],inplace=True)\n",
    "#x.drop(columns=['orgyear'],inplace=True)\n",
    "#x.drop(columns=['job_position'],inplace=True)\n",
    "#x.drop(columns=['ctc_updated_year'],inplace=True)\n",
    "#x.info()"
   ]
  },
  {
   "cell_type": "code",
   "execution_count": 153,
   "id": "halc8MtmmuuX",
   "metadata": {
    "colab": {
     "base_uri": "https://localhost:8080/"
    },
    "id": "halc8MtmmuuX",
    "outputId": "e0d3d491-f96a-47ac-ca8f-48f1c63b19cb"
   },
   "outputs": [
    {
     "name": "stdout",
     "output_type": "stream",
     "text": [
      "<class 'pandas.core.frame.DataFrame'>\n",
      "Int64Index: 140841 entries, 0 to 140840\n",
      "Data columns (total 10 columns):\n",
      " #   Column                 Non-Null Count   Dtype  \n",
      "---  ------                 --------------   -----  \n",
      " 0   company                140841 non-null  int64  \n",
      " 1   ctc                    140841 non-null  float64\n",
      " 2   years_of_experience    140841 non-null  float64\n",
      " 3   job_position           140841 non-null  int64  \n",
      " 4   classs                 140841 non-null  int64  \n",
      " 5   designation            140841 non-null  int64  \n",
      " 6   tier                   140841 non-null  int64  \n",
      " 7   company_cluster_n      140841 non-null  float64\n",
      " 8   company_job_cluster_n  140841 non-null  float64\n",
      " 9   k-m label              140841 non-null  int32  \n",
      "dtypes: float64(4), int32(1), int64(5)\n",
      "memory usage: 11.3 MB\n",
      "<class 'pandas.core.frame.DataFrame'>\n",
      "Int64Index: 140841 entries, 0 to 140840\n",
      "Data columns (total 11 columns):\n",
      " #   Column                 Non-Null Count   Dtype  \n",
      "---  ------                 --------------   -----  \n",
      " 0   company                140841 non-null  object \n",
      " 1   orgyear                140841 non-null  float64\n",
      " 2   ctc                    140841 non-null  int64  \n",
      " 3   ctc_updated_year       140841 non-null  float64\n",
      " 4   years_of_experience    140841 non-null  float64\n",
      " 5   job_position           140841 non-null  object \n",
      " 6   classs                 140841 non-null  int64  \n",
      " 7   designation            140841 non-null  int64  \n",
      " 8   tier                   140841 non-null  int64  \n",
      " 9   company_cluster_n      140841 non-null  float64\n",
      " 10  company_job_cluster_n  140841 non-null  float64\n",
      "dtypes: float64(5), int64(4), object(2)\n",
      "memory usage: 12.9+ MB\n"
     ]
    }
   ],
   "source": [
    "x.info()\n",
    "z.info()"
   ]
  },
  {
   "cell_type": "code",
   "execution_count": 154,
   "id": "YADJ5X0DPT6E",
   "metadata": {
    "id": "YADJ5X0DPT6E"
   },
   "outputs": [],
   "source": [
    "#q=pd.merge(x, z, how ='inner', on =['years_of_experience', 'tier','classs','designation'])\n",
    "#q.info()"
   ]
  },
  {
   "cell_type": "code",
   "execution_count": 155,
   "id": "yowD_4uXcVn2",
   "metadata": {
    "colab": {
     "base_uri": "https://localhost:8080/"
    },
    "id": "yowD_4uXcVn2",
    "outputId": "e6962305-5684-4919-f414-c9b22c630d10"
   },
   "outputs": [
    {
     "name": "stdout",
     "output_type": "stream",
     "text": [
      "<class 'pandas.core.frame.DataFrame'>\n",
      "Int64Index: 140841 entries, 0 to 140840\n",
      "Data columns (total 12 columns):\n",
      " #   Column                 Non-Null Count   Dtype  \n",
      "---  ------                 --------------   -----  \n",
      " 0   company                140841 non-null  object \n",
      " 1   orgyear                140841 non-null  float64\n",
      " 2   ctc                    140841 non-null  int64  \n",
      " 3   ctc_updated_year       140841 non-null  float64\n",
      " 4   years_of_experience    140841 non-null  float64\n",
      " 5   job_position           140841 non-null  object \n",
      " 6   classs                 140841 non-null  int64  \n",
      " 7   designation            140841 non-null  int64  \n",
      " 8   tier                   140841 non-null  int64  \n",
      " 9   company_cluster_n      140841 non-null  float64\n",
      " 10  company_job_cluster_n  140841 non-null  float64\n",
      " 11  k-m label              140841 non-null  int32  \n",
      "dtypes: float64(5), int32(1), int64(4), object(2)\n",
      "memory usage: 13.4+ MB\n"
     ]
    }
   ],
   "source": [
    "q=pd.concat([z,x['k-m label']], axis=1)\n",
    "q.info()"
   ]
  },
  {
   "cell_type": "code",
   "execution_count": 158,
   "id": "54df7508",
   "metadata": {},
   "outputs": [
    {
     "data": {
      "text/html": [
       "<div>\n",
       "<style scoped>\n",
       "    .dataframe tbody tr th:only-of-type {\n",
       "        vertical-align: middle;\n",
       "    }\n",
       "\n",
       "    .dataframe tbody tr th {\n",
       "        vertical-align: top;\n",
       "    }\n",
       "\n",
       "    .dataframe thead th {\n",
       "        text-align: right;\n",
       "    }\n",
       "</style>\n",
       "<table border=\"1\" class=\"dataframe\">\n",
       "  <thead>\n",
       "    <tr style=\"text-align: right;\">\n",
       "      <th></th>\n",
       "      <th>company</th>\n",
       "      <th>orgyear</th>\n",
       "      <th>ctc</th>\n",
       "      <th>ctc_updated_year</th>\n",
       "      <th>years_of_experience</th>\n",
       "      <th>job_position</th>\n",
       "      <th>classs</th>\n",
       "      <th>designation</th>\n",
       "      <th>tier</th>\n",
       "      <th>company_cluster_n</th>\n",
       "      <th>company_job_cluster_n</th>\n",
       "      <th>k-m label</th>\n",
       "    </tr>\n",
       "  </thead>\n",
       "  <tbody>\n",
       "    <tr>\n",
       "      <th>0</th>\n",
       "      <td>deloitte india</td>\n",
       "      <td>2016.0</td>\n",
       "      <td>1100000</td>\n",
       "      <td>2020.0</td>\n",
       "      <td>6.0</td>\n",
       "      <td>others</td>\n",
       "      <td>1</td>\n",
       "      <td>2</td>\n",
       "      <td>2</td>\n",
       "      <td>2.0</td>\n",
       "      <td>3.0</td>\n",
       "      <td>1</td>\n",
       "    </tr>\n",
       "    <tr>\n",
       "      <th>1</th>\n",
       "      <td>reliance infocomm limited</td>\n",
       "      <td>2018.0</td>\n",
       "      <td>449999</td>\n",
       "      <td>2019.0</td>\n",
       "      <td>4.0</td>\n",
       "      <td>fullstack devloper</td>\n",
       "      <td>3</td>\n",
       "      <td>3</td>\n",
       "      <td>3</td>\n",
       "      <td>3.0</td>\n",
       "      <td>3.0</td>\n",
       "      <td>0</td>\n",
       "    </tr>\n",
       "    <tr>\n",
       "      <th>2</th>\n",
       "      <td>Others</td>\n",
       "      <td>2015.0</td>\n",
       "      <td>2000000</td>\n",
       "      <td>2020.0</td>\n",
       "      <td>7.0</td>\n",
       "      <td>backend engineer</td>\n",
       "      <td>1</td>\n",
       "      <td>1</td>\n",
       "      <td>1</td>\n",
       "      <td>3.0</td>\n",
       "      <td>3.0</td>\n",
       "      <td>1</td>\n",
       "    </tr>\n",
       "    <tr>\n",
       "      <th>3</th>\n",
       "      <td>tokopedia</td>\n",
       "      <td>2017.0</td>\n",
       "      <td>700000</td>\n",
       "      <td>2019.0</td>\n",
       "      <td>5.0</td>\n",
       "      <td>backend engineer</td>\n",
       "      <td>3</td>\n",
       "      <td>3</td>\n",
       "      <td>3</td>\n",
       "      <td>2.0</td>\n",
       "      <td>2.0</td>\n",
       "      <td>0</td>\n",
       "    </tr>\n",
       "    <tr>\n",
       "      <th>4</th>\n",
       "      <td>rift group</td>\n",
       "      <td>2017.0</td>\n",
       "      <td>1400000</td>\n",
       "      <td>2019.0</td>\n",
       "      <td>5.0</td>\n",
       "      <td>fullstack devloper</td>\n",
       "      <td>1</td>\n",
       "      <td>2</td>\n",
       "      <td>1</td>\n",
       "      <td>3.0</td>\n",
       "      <td>3.0</td>\n",
       "      <td>0</td>\n",
       "    </tr>\n",
       "    <tr>\n",
       "      <th>...</th>\n",
       "      <td>...</td>\n",
       "      <td>...</td>\n",
       "      <td>...</td>\n",
       "      <td>...</td>\n",
       "      <td>...</td>\n",
       "      <td>...</td>\n",
       "      <td>...</td>\n",
       "      <td>...</td>\n",
       "      <td>...</td>\n",
       "      <td>...</td>\n",
       "      <td>...</td>\n",
       "      <td>...</td>\n",
       "    </tr>\n",
       "    <tr>\n",
       "      <th>140836</th>\n",
       "      <td>barclays</td>\n",
       "      <td>2011.0</td>\n",
       "      <td>2250000</td>\n",
       "      <td>2019.0</td>\n",
       "      <td>11.0</td>\n",
       "      <td>others</td>\n",
       "      <td>1</td>\n",
       "      <td>1</td>\n",
       "      <td>1</td>\n",
       "      <td>3.0</td>\n",
       "      <td>3.0</td>\n",
       "      <td>1</td>\n",
       "    </tr>\n",
       "    <tr>\n",
       "      <th>140837</th>\n",
       "      <td>apple inc</td>\n",
       "      <td>2008.0</td>\n",
       "      <td>220000</td>\n",
       "      <td>2019.0</td>\n",
       "      <td>14.0</td>\n",
       "      <td>others</td>\n",
       "      <td>3</td>\n",
       "      <td>2</td>\n",
       "      <td>3</td>\n",
       "      <td>1.0</td>\n",
       "      <td>1.0</td>\n",
       "      <td>1</td>\n",
       "    </tr>\n",
       "    <tr>\n",
       "      <th>140838</th>\n",
       "      <td>upgradcom</td>\n",
       "      <td>2017.0</td>\n",
       "      <td>500000</td>\n",
       "      <td>2020.0</td>\n",
       "      <td>5.0</td>\n",
       "      <td>others</td>\n",
       "      <td>3</td>\n",
       "      <td>3</td>\n",
       "      <td>3</td>\n",
       "      <td>2.0</td>\n",
       "      <td>3.0</td>\n",
       "      <td>0</td>\n",
       "    </tr>\n",
       "    <tr>\n",
       "      <th>140839</th>\n",
       "      <td>accolite</td>\n",
       "      <td>2021.0</td>\n",
       "      <td>700000</td>\n",
       "      <td>2021.0</td>\n",
       "      <td>1.0</td>\n",
       "      <td>others</td>\n",
       "      <td>3</td>\n",
       "      <td>2</td>\n",
       "      <td>3</td>\n",
       "      <td>2.0</td>\n",
       "      <td>2.0</td>\n",
       "      <td>1</td>\n",
       "    </tr>\n",
       "    <tr>\n",
       "      <th>140840</th>\n",
       "      <td>morgan stanley</td>\n",
       "      <td>2014.0</td>\n",
       "      <td>1240000</td>\n",
       "      <td>2016.0</td>\n",
       "      <td>8.0</td>\n",
       "      <td>others</td>\n",
       "      <td>3</td>\n",
       "      <td>3</td>\n",
       "      <td>3</td>\n",
       "      <td>2.0</td>\n",
       "      <td>2.0</td>\n",
       "      <td>2</td>\n",
       "    </tr>\n",
       "  </tbody>\n",
       "</table>\n",
       "<p>140841 rows × 12 columns</p>\n",
       "</div>"
      ],
      "text/plain": [
       "                          company  orgyear      ctc  ctc_updated_year  \\\n",
       "0                  deloitte india   2016.0  1100000            2020.0   \n",
       "1       reliance infocomm limited   2018.0   449999            2019.0   \n",
       "2                          Others   2015.0  2000000            2020.0   \n",
       "3                       tokopedia   2017.0   700000            2019.0   \n",
       "4                      rift group   2017.0  1400000            2019.0   \n",
       "...                           ...      ...      ...               ...   \n",
       "140836                   barclays   2011.0  2250000            2019.0   \n",
       "140837                  apple inc   2008.0   220000            2019.0   \n",
       "140838                  upgradcom   2017.0   500000            2020.0   \n",
       "140839                   accolite   2021.0   700000            2021.0   \n",
       "140840             morgan stanley   2014.0  1240000            2016.0   \n",
       "\n",
       "        years_of_experience        job_position  classs  designation  tier  \\\n",
       "0                       6.0              others       1            2     2   \n",
       "1                       4.0  fullstack devloper       3            3     3   \n",
       "2                       7.0    backend engineer       1            1     1   \n",
       "3                       5.0    backend engineer       3            3     3   \n",
       "4                       5.0  fullstack devloper       1            2     1   \n",
       "...                     ...                 ...     ...          ...   ...   \n",
       "140836                 11.0              others       1            1     1   \n",
       "140837                 14.0              others       3            2     3   \n",
       "140838                  5.0              others       3            3     3   \n",
       "140839                  1.0              others       3            2     3   \n",
       "140840                  8.0              others       3            3     3   \n",
       "\n",
       "        company_cluster_n  company_job_cluster_n  k-m label  \n",
       "0                     2.0                    3.0          1  \n",
       "1                     3.0                    3.0          0  \n",
       "2                     3.0                    3.0          1  \n",
       "3                     2.0                    2.0          0  \n",
       "4                     3.0                    3.0          0  \n",
       "...                   ...                    ...        ...  \n",
       "140836                3.0                    3.0          1  \n",
       "140837                1.0                    1.0          1  \n",
       "140838                2.0                    3.0          0  \n",
       "140839                2.0                    2.0          1  \n",
       "140840                2.0                    2.0          2  \n",
       "\n",
       "[140841 rows x 12 columns]"
      ]
     },
     "execution_count": 158,
     "metadata": {},
     "output_type": "execute_result"
    }
   ],
   "source": [
    "q\n"
   ]
  },
  {
   "cell_type": "code",
   "execution_count": 1,
   "id": "Oie7Gd7fcKBX",
   "metadata": {
    "id": "Oie7Gd7fcKBX"
   },
   "outputs": [
    {
     "ename": "NameError",
     "evalue": "name 'x' is not defined",
     "output_type": "error",
     "traceback": [
      "\u001b[0;31m---------------------------------------------------------------------------\u001b[0m",
      "\u001b[0;31mNameError\u001b[0m                                 Traceback (most recent call last)",
      "\u001b[0;32m/var/folders/qc/486wrwtd4mj2pdzxt66k36c00000gn/T/ipykernel_33078/2779402343.py\u001b[0m in \u001b[0;36m<module>\u001b[0;34m\u001b[0m\n\u001b[0;32m----> 1\u001b[0;31m \u001b[0mz\u001b[0m\u001b[0;34m=\u001b[0m\u001b[0mx\u001b[0m\u001b[0;34m.\u001b[0m\u001b[0msample\u001b[0m\u001b[0;34m(\u001b[0m\u001b[0mfrac\u001b[0m\u001b[0;34m=\u001b[0m\u001b[0;36m0.25\u001b[0m\u001b[0;34m)\u001b[0m\u001b[0;34m\u001b[0m\u001b[0;34m\u001b[0m\u001b[0m\n\u001b[0m\u001b[1;32m      2\u001b[0m \u001b[0;31m#the most we could do without crashing\u001b[0m\u001b[0;34m\u001b[0m\u001b[0;34m\u001b[0m\u001b[0m\n",
      "\u001b[0;31mNameError\u001b[0m: name 'x' is not defined"
     ]
    }
   ],
   "source": [
    "z=x.sample(frac=0.25)\n",
    "#the most we could do without crashing"
   ]
  },
  {
   "cell_type": "code",
   "execution_count": 168,
   "id": "7a586a04",
   "metadata": {},
   "outputs": [],
   "source": [
    "z=z.drop(columns='k-m label')"
   ]
  },
  {
   "cell_type": "markdown",
   "id": "al6iZ1o3zc0V",
   "metadata": {
    "id": "al6iZ1o3zc0V"
   },
   "source": []
  },
  {
   "cell_type": "code",
   "execution_count": 169,
   "id": "Q8M16oiGdwZt",
   "metadata": {
    "colab": {
     "base_uri": "https://localhost:8080/"
    },
    "id": "Q8M16oiGdwZt",
    "outputId": "aac9e9ab-d012-4ac1-ba74-046034906463"
   },
   "outputs": [
    {
     "name": "stdout",
     "output_type": "stream",
     "text": [
      "<class 'pandas.core.frame.DataFrame'>\n",
      "Int64Index: 35210 entries, 7946 to 60911\n",
      "Data columns (total 9 columns):\n",
      " #   Column                 Non-Null Count  Dtype  \n",
      "---  ------                 --------------  -----  \n",
      " 0   company                35210 non-null  int64  \n",
      " 1   ctc                    35210 non-null  float64\n",
      " 2   years_of_experience    35210 non-null  float64\n",
      " 3   job_position           35210 non-null  int64  \n",
      " 4   classs                 35210 non-null  int64  \n",
      " 5   designation            35210 non-null  int64  \n",
      " 6   tier                   35210 non-null  int64  \n",
      " 7   company_cluster_n      35210 non-null  float64\n",
      " 8   company_job_cluster_n  35210 non-null  float64\n",
      "dtypes: float64(4), int64(5)\n",
      "memory usage: 2.7 MB\n"
     ]
    }
   ],
   "source": [
    "z.info(verbose=True)"
   ]
  },
  {
   "cell_type": "code",
   "execution_count": 170,
   "id": "ns-t3iZeexP7",
   "metadata": {
    "id": "ns-t3iZeexP7"
   },
   "outputs": [],
   "source": [
    "import sys"
   ]
  },
  {
   "cell_type": "code",
   "execution_count": 171,
   "id": "qwQqrba9es47",
   "metadata": {
    "id": "qwQqrba9es47"
   },
   "outputs": [],
   "source": [
    "sys.setrecursionlimit(100000)"
   ]
  },
  {
   "cell_type": "code",
   "execution_count": null,
   "id": "Wii9maTZRyFs",
   "metadata": {
    "id": "Wii9maTZRyFs"
   },
   "outputs": [],
   "source": [
    "import scipy.cluster.hierarchy as sch\n",
    "dendrogrm = sch.dendrogram(sch.linkage(z, method = 'ward'))\n",
    "plt.title('Dendrogram')\n",
    "plt.xlabel('placements')\n",
    "plt.ylabel('Euclidean distance')\n",
    "plt.show()"
   ]
  },
  {
   "cell_type": "code",
   "execution_count": null,
   "id": "N2vEgcWXmVMF",
   "metadata": {
    "id": "N2vEgcWXmVMF"
   },
   "outputs": [],
   "source": [
    "model = AgglomerativeClustering(n_clusters=3, affinity='euclidean', linkage='ward')\n",
    "model.fit(z)"
   ]
  },
  {
   "cell_type": "code",
   "execution_count": null,
   "id": "62XZRmE_sfRR",
   "metadata": {
    "id": "62XZRmE_sfRR"
   },
   "outputs": [],
   "source": [
    "z['Aglo-label'] = model.fit_predict(z)"
   ]
  },
  {
   "cell_type": "code",
   "execution_count": null,
   "id": "eC56KquOu0zZ",
   "metadata": {
    "id": "eC56KquOu0zZ"
   },
   "outputs": [],
   "source": [
    "z.head()"
   ]
  },
  {
   "cell_type": "code",
   "execution_count": null,
   "id": "RcrCZh3HxGMg",
   "metadata": {
    "id": "RcrCZh3HxGMg"
   },
   "outputs": [],
   "source": []
  }
 ],
 "metadata": {
  "colab": {
   "collapsed_sections": [
    "01742d41"
   ],
   "name": "Scaler_K_means_VA2 (1).ipynb",
   "provenance": []
  },
  "kernelspec": {
   "display_name": "Python 3 (ipykernel)",
   "language": "python",
   "name": "python3"
  },
  "language_info": {
   "codemirror_mode": {
    "name": "ipython",
    "version": 3
   },
   "file_extension": ".py",
   "mimetype": "text/x-python",
   "name": "python",
   "nbconvert_exporter": "python",
   "pygments_lexer": "ipython3",
   "version": "3.9.7"
  }
 },
 "nbformat": 4,
 "nbformat_minor": 5
}
